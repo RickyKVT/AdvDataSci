{
 "cells": [
  {
   "cell_type": "markdown",
   "metadata": {},
   "source": [
    "# Assignment 1: Data Parsing, Cleansing and Integration\n",
    "## Task 1 and 2\n",
    "#### Student Name: Ricky Truong\n",
    "#### Student ID: s3783560\n",
    "\n",
    "Date: 26/04/2024\n",
    "\n",
    "Version: 1.0\n",
    "\n",
    "Environment: Python 3 and Jupyter notebook\n",
    "\n",
    "Libraries used: please include the main libraries you used in your assignment, e.g.,:\n",
    "* pandas\n",
    "* re\n",
    "* numpy\n",
    "\n",
    "## Introduction\n",
    "\n",
    "In this notebook, we are tackling the problem of data parsing and cleaning, where we first parse an xml file into pandas. While doing so we discovered missing values, data irregularities and abnormalities within the data. We also had an instance of data integrity where the a month had a value of 18, indicating the 18th month. We resolved missing data and data irregularities and abnormalities, by imputating the values appropriately. For example mising string values where imputated with the string 'non-specific'. On the other hand ,data inconsistency were imputated with values that made the most sense, such as a range for salary were handled by imputating the value with the mean of the two values.\n",
    "\n",
    "The second notebook, tackled the problem of data integration where we are integrating two similar datasets, which will be further discussed in the second notebook."
   ]
  },
  {
   "cell_type": "markdown",
   "metadata": {},
   "source": [
    "## Importing libraries "
   ]
  },
  {
   "cell_type": "code",
   "execution_count": 1,
   "metadata": {},
   "outputs": [],
   "source": [
    "# Code to import libraries \n",
    "import pandas as pd\n",
    "import numpy as np\n",
    "import xml.etree.ElementTree as etree\n",
    "from itertools import chain\n",
    "import re \n",
    "import difflib #checks mispellings"
   ]
  },
  {
   "cell_type": "markdown",
   "metadata": {},
   "source": [
    "## Task 1. Parsing Data"
   ]
  },
  {
   "cell_type": "markdown",
   "metadata": {},
   "source": [
    "### 1.1. Examining and loading data\n",
    "Examine \"\\<student\\_id\\>_dataset1.xml\" to determine its content and structure, then load it into Python. Explain your findings here, e.g., how are the records are stored? "
   ]
  },
  {
   "cell_type": "code",
   "execution_count": 2,
   "metadata": {},
   "outputs": [
    {
     "name": "stdout",
     "output_type": "stream",
     "text": [
      "JobAds\n",
      "_____________________________________\n",
      "<Element 'Source' at 0x0000022DD17B1E00>\n",
      "<Element 'Source' at 0x0000022DD18D8590>\n",
      "<Element 'Source' at 0x0000022DD1A9E220>\n",
      "<Element 'Source' at 0x0000022DD1F8DA40>\n",
      "<Element 'Source' at 0x0000022DD1FA3040>\n",
      "<Element 'Source' at 0x0000022DD20630E0>\n",
      "<Element 'Source' at 0x0000022DD225C220>\n",
      "<Element 'Source' at 0x0000022DD25E6A40>\n",
      "<Element 'Source' at 0x0000022DD322EB80>\n",
      "<Element 'Source' at 0x0000022DD32E6450>\n",
      "<Element 'Source' at 0x0000022DD4032630>\n",
      "<Element 'Source' at 0x0000022DD40AED10>\n",
      "<Element 'Source' at 0x0000022DD40F2E50>\n",
      "<Element 'Source' at 0x0000022DD41F4D10>\n",
      "<Element 'Source' at 0x0000022DD42102C0>\n",
      "<Element 'Source' at 0x0000022DD4720590>\n",
      "<Element 'Source' at 0x0000022DD48B4B30>\n",
      "<Element 'Source' at 0x0000022DD48C3A40>\n",
      "<Element 'Source' at 0x0000022DD49EB860>\n",
      "<Element 'Source' at 0x0000022DD4C66C70>\n",
      "<Element 'Source' at 0x0000022DD4FC3D10>\n",
      "<Element 'Source' at 0x0000022DD4FE80E0>\n",
      "<Element 'Source' at 0x0000022DD50092C0>\n",
      "<Element 'Source' at 0x0000022DD50137C0>\n",
      "<Element 'Source' at 0x0000022DD50202C0>\n",
      "<Element 'Source' at 0x0000022DD53EAC20>\n",
      "<Element 'Source' at 0x0000022DD54FC2C0>\n",
      "<Element 'Source' at 0x0000022DD554A130>\n",
      "<Element 'Source' at 0x0000022DD55CC180>\n",
      "<Element 'Source' at 0x0000022DD5A56680>\n",
      "<Element 'Source' at 0x0000022DD5A77860>\n",
      "<Element 'Source' at 0x0000022DD5AC5360>\n",
      "<Element 'Source' at 0x0000022DD5C96400>\n",
      "<Element 'Source' at 0x0000022DD5D891D0>\n",
      "<Element 'Source' at 0x0000022DD5DAA220>\n",
      "<Element 'Source' at 0x0000022DD5E47310>\n",
      "<Element 'Source' at 0x0000022DD5F44680>\n",
      "<Element 'Source' at 0x0000022DD5FBFE50>\n",
      "<Element 'Source' at 0x0000022DD60470E0>\n",
      "<Element 'Source' at 0x0000022DD60E5180>\n",
      "<Element 'Source' at 0x0000022DD611FE00>\n",
      "<Element 'Source' at 0x0000022DD6136C20>\n",
      "<Element 'Source' at 0x0000022DD6161A40>\n",
      "<Element 'Source' at 0x0000022DD61F5590>\n",
      "<Element 'Source' at 0x0000022DD6226CC0>\n",
      "<Element 'Source' at 0x0000022DD62884A0>\n",
      "<Element 'Source' at 0x0000022DD62B5450>\n",
      "<Element 'Source' at 0x0000022DD6349180>\n",
      "<Element 'Source' at 0x0000022DD63738B0>\n",
      "<Element 'Source' at 0x0000022DD63CE180>\n",
      "<Element 'Source' at 0x0000022DD640D130>\n",
      "<Element 'Source' at 0x0000022DD64C6B30>\n",
      "<Element 'Source' at 0x0000022DD6541630>\n",
      "<Element 'Source' at 0x0000022DD6593130>\n",
      "<Element 'Source' at 0x0000022DD65C6E50>\n",
      "<Element 'Source' at 0x0000022DD6605400>\n",
      "<Element 'Source' at 0x0000022DD6626590>\n",
      "<Element 'Source' at 0x0000022DD663FE00>\n",
      "<Element 'Source' at 0x0000022DD6647D10>\n",
      "<Element 'Source' at 0x0000022DD66599A0>\n",
      "<Element 'Source' at 0x0000022DD6693040>\n",
      "<Element 'Source' at 0x0000022DD66BEDB0>\n",
      "<Element 'Source' at 0x0000022DD66D81D0>\n",
      "<Element 'Source' at 0x0000022DD6753900>\n",
      "<Element 'Source' at 0x0000022DD6776680>\n",
      "<Element 'Source' at 0x0000022DD67F3CC0>\n",
      "<Element 'Source' at 0x0000022DD680C4A0>\n",
      "<Element 'Source' at 0x0000022DD683BCC0>\n",
      "<Element 'Source' at 0x0000022DD68919F0>\n",
      "<Element 'Source' at 0x0000022DD68B2630>\n",
      "<Element 'Source' at 0x0000022DD68CCBD0>\n",
      "<Element 'Source' at 0x0000022DD68DD950>\n",
      "<Element 'Source' at 0x0000022DD6918590>\n",
      "<Element 'Source' at 0x0000022DD69745E0>\n",
      "<Element 'Source' at 0x0000022DD69AAC20>\n",
      "<Element 'Source' at 0x0000022DD69E19F0>\n",
      "<Element 'Source' at 0x0000022DD69EF5E0>\n",
      "<Element 'Source' at 0x0000022DD69F5E50>\n",
      "<Element 'Source' at 0x0000022DD6A15220>\n",
      "<Element 'Source' at 0x0000022DD6A34630>\n",
      "<Element 'Source' at 0x0000022DD6A53E50>\n",
      "<Element 'Source' at 0x0000022DD6A600E0>\n",
      "<Element 'Source' at 0x0000022DD6A60C20>\n",
      "<Element 'Source' at 0x0000022DD6A76F90>\n",
      "<Element 'Source' at 0x0000022DD6A9BBD0>\n",
      "<Element 'Source' at 0x0000022DD6A9BEF0>\n",
      "<Element 'Source' at 0x0000022DD6A9F9F0>\n",
      "<Element 'Source' at 0x0000022DD6AB7450>\n",
      "<Element 'Source' at 0x0000022DD6ABB040>\n",
      "<Element 'Source' at 0x0000022DD6AC54F0>\n",
      "<Element 'Source' at 0x0000022DD6ACDD10>\n",
      "<Element 'Source' at 0x0000022DD6ACFF90>\n",
      "<Element 'Source' at 0x0000022DD6ADC3B0>\n",
      "<Element 'Source' at 0x0000022DD6ADF6D0>\n",
      "<Element 'Source' at 0x0000022DD6AF3630>\n",
      "<Element 'Source' at 0x0000022DD6AF9C70>\n",
      "<Element 'Source' at 0x0000022DD6B01E50>\n",
      "<Element 'Source' at 0x0000022DD6B057C0>\n",
      "<Element 'Source' at 0x0000022DD6B07310>\n",
      "<Element 'Source' at 0x0000022DD6B0B130>\n",
      "<Element 'Source' at 0x0000022DD6B0B4A0>\n",
      "<Element 'Source' at 0x0000022DD6B0DEF0>\n",
      "<Element 'Source' at 0x0000022DD6B13950>\n",
      "<Element 'Source' at 0x0000022DD6B15860>\n",
      "<Element 'Source' at 0x0000022DD6B17040>\n",
      "<Element 'Source' at 0x0000022DD6B18A40>\n",
      "<Element 'Source' at 0x0000022DD6B18EA0>\n",
      "107\n"
     ]
    }
   ],
   "source": [
    "\n",
    "tree = etree.parse('s3783560_dataset1.xml') #loading the xml file\n",
    "root = tree.getroot() #getting the root from the tree\n",
    "print(root.tag)\n",
    "print(\"_____________________________________\")\n",
    "\n",
    "#see how many child in the in the root and print them out \n",
    "for child in root:\n",
    "    print(child)\n",
    "print(len(root))\n",
    "    \n"
   ]
  },
  {
   "cell_type": "code",
   "execution_count": 3,
   "metadata": {},
   "outputs": [
    {
     "name": "stdout",
     "output_type": "stream",
     "text": [
      "668\n",
      "<Element 'SourceName' at 0x0000022DD17B1E50>\n",
      "<Element 'Position' at 0x0000022DD17B1EF0>\n",
      "<Element 'Position' at 0x0000022DD17B7270>\n",
      "<Element 'Position' at 0x0000022DD17B7540>\n",
      "<Element 'Position' at 0x0000022DD17B7860>\n",
      "<Element 'Position' at 0x0000022DD17B7B30>\n",
      "<Element 'Position' at 0x0000022DD17B7EA0>\n",
      "<Element 'Position' at 0x0000022DD17B81D0>\n",
      "<Element 'Position' at 0x0000022DD17B84A0>\n",
      "<Element 'Position' at 0x0000022DD17B87C0>\n",
      "<Element 'Position' at 0x0000022DD17B8A90>\n",
      "<Element 'Position' at 0x0000022DD17B8D60>\n",
      "<Element 'Position' at 0x0000022DD17BA090>\n",
      "<Element 'Position' at 0x0000022DD17BA360>\n",
      "<Element 'Position' at 0x0000022DD17BA630>\n",
      "<Element 'Position' at 0x0000022DD17BA950>\n",
      "<Element 'Position' at 0x0000022DD17BAC70>\n",
      "<Element 'Position' at 0x0000022DD17BAF40>\n",
      "<Element 'Position' at 0x0000022DD17BB270>\n",
      "<Element 'Position' at 0x0000022DD17BB590>\n",
      "<Element 'Position' at 0x0000022DD17BB860>\n",
      "<Element 'Position' at 0x0000022DD17BBB80>\n",
      "<Element 'Position' at 0x0000022DD17BBE50>\n",
      "<Element 'Position' at 0x0000022DD17BD180>\n",
      "<Element 'Position' at 0x0000022DD17BD450>\n",
      "<Element 'Position' at 0x0000022DD17BD770>\n",
      "<Element 'Position' at 0x0000022DD17BDA40>\n",
      "<Element 'Position' at 0x0000022DD17BDD10>\n",
      "<Element 'Position' at 0x0000022DD17BF040>\n",
      "<Element 'Position' at 0x0000022DD17BF360>\n",
      "<Element 'Position' at 0x0000022DD17BF680>\n",
      "<Element 'Position' at 0x0000022DD17BF950>\n",
      "<Element 'Position' at 0x0000022DD17BFC20>\n",
      "<Element 'Position' at 0x0000022DD17BFEF0>\n",
      "<Element 'Position' at 0x0000022DD17C1270>\n",
      "<Element 'Position' at 0x0000022DD17C1540>\n",
      "<Element 'Position' at 0x0000022DD17C1810>\n",
      "<Element 'Position' at 0x0000022DD17C1AE0>\n",
      "<Element 'Position' at 0x0000022DD17C1E00>\n",
      "<Element 'Position' at 0x0000022DD17C5130>\n",
      "<Element 'Position' at 0x0000022DD17C5450>\n",
      "<Element 'Position' at 0x0000022DD17C5720>\n",
      "<Element 'Position' at 0x0000022DD17C59F0>\n",
      "<Element 'Position' at 0x0000022DD17C5D10>\n",
      "<Element 'Position' at 0x0000022DD17C7090>\n",
      "<Element 'Position' at 0x0000022DD17C73B0>\n",
      "<Element 'Position' at 0x0000022DD17C7680>\n",
      "<Element 'Position' at 0x0000022DD17C79F0>\n",
      "<Element 'Position' at 0x0000022DD17C7D10>\n",
      "<Element 'Position' at 0x0000022DD17C9090>\n",
      "<Element 'Position' at 0x0000022DD17C93B0>\n",
      "<Element 'Position' at 0x0000022DD17C96D0>\n",
      "<Element 'Position' at 0x0000022DD17C99A0>\n",
      "<Element 'Position' at 0x0000022DD17C9CC0>\n",
      "<Element 'Position' at 0x0000022DD17CB040>\n",
      "<Element 'Position' at 0x0000022DD17CB310>\n",
      "<Element 'Position' at 0x0000022DD17CB630>\n",
      "<Element 'Position' at 0x0000022DD17CB900>\n",
      "<Element 'Position' at 0x0000022DD17CBBD0>\n",
      "<Element 'Position' at 0x0000022DD17CBF40>\n",
      "<Element 'Position' at 0x0000022DD17CD2C0>\n",
      "<Element 'Position' at 0x0000022DD17AFC70>\n",
      "<Element 'Position' at 0x0000022DD17CD7C0>\n",
      "<Element 'Position' at 0x0000022DD17CDA90>\n",
      "<Element 'Position' at 0x0000022DD17CDD60>\n",
      "<Element 'Position' at 0x0000022DD17CF090>\n",
      "<Element 'Position' at 0x0000022DD17CF3B0>\n",
      "<Element 'Position' at 0x0000022DD17CF680>\n",
      "<Element 'Position' at 0x0000022DD17CF950>\n",
      "<Element 'Position' at 0x0000022DD17CFC70>\n",
      "<Element 'Position' at 0x0000022DD17CFF90>\n",
      "<Element 'Position' at 0x0000022DD17D12C0>\n",
      "<Element 'Position' at 0x0000022DD17D15E0>\n",
      "<Element 'Position' at 0x0000022DD17D1900>\n",
      "<Element 'Position' at 0x0000022DD17D1BD0>\n",
      "<Element 'Position' at 0x0000022DD17D1EA0>\n",
      "<Element 'Position' at 0x0000022DD17D3270>\n",
      "<Element 'Position' at 0x0000022DD17D3590>\n",
      "<Element 'Position' at 0x0000022DD17D3860>\n",
      "<Element 'Position' at 0x0000022DD17D3B80>\n",
      "<Element 'Position' at 0x0000022DD17D3E50>\n",
      "<Element 'Position' at 0x0000022DD17D4180>\n",
      "<Element 'Position' at 0x0000022DD17D4450>\n",
      "<Element 'Position' at 0x0000022DD17D4720>\n",
      "<Element 'Position' at 0x0000022DD17D49F0>\n",
      "<Element 'Position' at 0x0000022DD17D4CC0>\n",
      "<Element 'Position' at 0x0000022DD17D7040>\n",
      "<Element 'Position' at 0x0000022DD17D7310>\n",
      "<Element 'Position' at 0x0000022DD17D7630>\n",
      "<Element 'Position' at 0x0000022DD17D7900>\n",
      "<Element 'Position' at 0x0000022DD17D7C20>\n",
      "<Element 'Position' at 0x0000022DD17D7EF0>\n",
      "<Element 'Position' at 0x0000022DD17D9270>\n",
      "<Element 'Position' at 0x0000022DD17D9540>\n",
      "<Element 'Position' at 0x0000022DD17D9860>\n",
      "<Element 'Position' at 0x0000022DD17D9B30>\n",
      "<Element 'Position' at 0x0000022DD17D9E50>\n",
      "<Element 'Position' at 0x0000022DD17DB180>\n",
      "<Element 'Position' at 0x0000022DD17DB450>\n",
      "<Element 'Position' at 0x0000022DD17DB770>\n",
      "<Element 'Position' at 0x0000022DD17DBA90>\n",
      "<Element 'Position' at 0x0000022DD17DBD60>\n",
      "<Element 'Position' at 0x0000022DD17DC090>\n",
      "<Element 'Position' at 0x0000022DD17DC3B0>\n",
      "<Element 'Position' at 0x0000022DD17DC680>\n",
      "<Element 'Position' at 0x0000022DD17DC950>\n",
      "<Element 'Position' at 0x0000022DD17DCC70>\n",
      "<Element 'Position' at 0x0000022DD17DCF90>\n",
      "<Element 'Position' at 0x0000022DD17DF310>\n",
      "<Element 'Position' at 0x0000022DD17DF5E0>\n",
      "<Element 'Position' at 0x0000022DD17DF8B0>\n",
      "<Element 'Position' at 0x0000022DD17DFB80>\n",
      "<Element 'Position' at 0x0000022DD17DFEA0>\n",
      "<Element 'Position' at 0x0000022DD18011D0>\n",
      "<Element 'Position' at 0x0000022DD18014A0>\n",
      "<Element 'Position' at 0x0000022DD18017C0>\n",
      "<Element 'Position' at 0x0000022DD1801AE0>\n",
      "<Element 'Position' at 0x0000022DD1801E00>\n",
      "<Element 'Position' at 0x0000022DD18031D0>\n",
      "<Element 'Position' at 0x0000022DD18034A0>\n",
      "<Element 'Position' at 0x0000022DD18037C0>\n",
      "<Element 'Position' at 0x0000022DD1803AE0>\n",
      "<Element 'Position' at 0x0000022DD1803DB0>\n",
      "<Element 'Position' at 0x0000022DD18040E0>\n",
      "<Element 'Position' at 0x0000022DD18043B0>\n",
      "<Element 'Position' at 0x0000022DD1804680>\n",
      "<Element 'Position' at 0x0000022DD18049A0>\n",
      "<Element 'Position' at 0x0000022DD1804C70>\n",
      "<Element 'Position' at 0x0000022DD1804F40>\n",
      "<Element 'Position' at 0x0000022DD1806270>\n",
      "<Element 'Position' at 0x0000022DD1806540>\n",
      "<Element 'Position' at 0x0000022DD1806860>\n",
      "<Element 'Position' at 0x0000022DD1806B30>\n",
      "<Element 'Position' at 0x0000022DD1806E00>\n",
      "<Element 'Position' at 0x0000022DD1809130>\n",
      "<Element 'Position' at 0x0000022DD1809450>\n",
      "<Element 'Position' at 0x0000022DD1809770>\n",
      "<Element 'Position' at 0x0000022DD1809A40>\n",
      "<Element 'Position' at 0x0000022DD1809D60>\n",
      "<Element 'Position' at 0x0000022DD180C090>\n",
      "<Element 'Position' at 0x0000022DD180C360>\n",
      "<Element 'Position' at 0x0000022DD180C630>\n",
      "<Element 'Position' at 0x0000022DD180C950>\n",
      "<Element 'Position' at 0x0000022DD180CC20>\n",
      "<Element 'Position' at 0x0000022DD180CEF0>\n",
      "<Element 'Position' at 0x0000022DD180E220>\n",
      "<Element 'Position' at 0x0000022DD180E540>\n",
      "<Element 'Position' at 0x0000022DD180E810>\n",
      "<Element 'Position' at 0x0000022DD180EAE0>\n",
      "<Element 'Position' at 0x0000022DD180EDB0>\n",
      "<Element 'Position' at 0x0000022DD180F130>\n",
      "<Element 'Position' at 0x0000022DD180F400>\n",
      "<Element 'Position' at 0x0000022DD180F6D0>\n",
      "<Element 'Position' at 0x0000022DD180F9A0>\n",
      "<Element 'Position' at 0x0000022DD180FCC0>\n",
      "<Element 'Position' at 0x0000022DD180FF90>\n",
      "<Element 'Position' at 0x0000022DD1812310>\n",
      "<Element 'Position' at 0x0000022DD1812630>\n",
      "<Element 'Position' at 0x0000022DD1812900>\n",
      "<Element 'Position' at 0x0000022DD1812BD0>\n",
      "<Element 'Position' at 0x0000022DD1812EA0>\n",
      "<Element 'Position' at 0x0000022DD18141D0>\n",
      "<Element 'Position' at 0x0000022DD18144F0>\n",
      "<Element 'Position' at 0x0000022DD18147C0>\n",
      "<Element 'Position' at 0x0000022DD1814AE0>\n",
      "<Element 'Position' at 0x0000022DD1814DB0>\n",
      "<Element 'Position' at 0x0000022DD18160E0>\n",
      "<Element 'Position' at 0x0000022DD18163B0>\n",
      "<Element 'Position' at 0x0000022DD1816680>\n",
      "<Element 'Position' at 0x0000022DD1816950>\n",
      "<Element 'Position' at 0x0000022DD1816C70>\n",
      "<Element 'Position' at 0x0000022DD1816F90>\n",
      "<Element 'Position' at 0x0000022DD18182C0>\n",
      "<Element 'Position' at 0x0000022DD1818590>\n",
      "<Element 'Position' at 0x0000022DD18188B0>\n",
      "<Element 'Position' at 0x0000022DD1818B80>\n",
      "<Element 'Position' at 0x0000022DD1818E50>\n",
      "<Element 'Position' at 0x0000022DD181A180>\n",
      "<Element 'Position' at 0x0000022DD181A4A0>\n",
      "<Element 'Position' at 0x0000022DD181A7C0>\n",
      "<Element 'Position' at 0x0000022DD181AA90>\n",
      "<Element 'Position' at 0x0000022DD181AD60>\n",
      "<Element 'Position' at 0x0000022DD181C0E0>\n",
      "<Element 'Position' at 0x0000022DD181C3B0>\n",
      "<Element 'Position' at 0x0000022DD181C680>\n",
      "<Element 'Position' at 0x0000022DD181C950>\n",
      "<Element 'Position' at 0x0000022DD181CC20>\n",
      "<Element 'Position' at 0x0000022DD181CEF0>\n",
      "<Element 'Position' at 0x0000022DD181E220>\n",
      "<Element 'Position' at 0x0000022DD181E540>\n",
      "<Element 'Position' at 0x0000022DD181E810>\n",
      "<Element 'Position' at 0x0000022DD181EB30>\n",
      "<Element 'Position' at 0x0000022DD181EE50>\n",
      "<Element 'Position' at 0x0000022DD1820180>\n",
      "<Element 'Position' at 0x0000022DD18204A0>\n",
      "<Element 'Position' at 0x0000022DD18207C0>\n",
      "<Element 'Position' at 0x0000022DD1820AE0>\n",
      "<Element 'Position' at 0x0000022DD1820E00>\n",
      "<Element 'Position' at 0x0000022DD1821130>\n",
      "<Element 'Position' at 0x0000022DD1821450>\n",
      "<Element 'Position' at 0x0000022DD1821720>\n",
      "<Element 'Position' at 0x0000022DD18219F0>\n",
      "<Element 'Position' at 0x0000022DD1821CC0>\n",
      "<Element 'Position' at 0x0000022DD1824040>\n",
      "<Element 'Position' at 0x0000022DD1824310>\n",
      "<Element 'Position' at 0x0000022DD1824630>\n",
      "<Element 'Position' at 0x0000022DD1824950>\n",
      "<Element 'Position' at 0x0000022DD1824C70>\n",
      "<Element 'Position' at 0x0000022DD1826040>\n",
      "<Element 'Position' at 0x0000022DD1826360>\n",
      "<Element 'Position' at 0x0000022DD1826630>\n",
      "<Element 'Position' at 0x0000022DD1826950>\n",
      "<Element 'Position' at 0x0000022DD1826C20>\n",
      "<Element 'Position' at 0x0000022DD1826EF0>\n",
      "<Element 'Position' at 0x0000022DD1829270>\n",
      "<Element 'Position' at 0x0000022DD1829590>\n",
      "<Element 'Position' at 0x0000022DD1829860>\n",
      "<Element 'Position' at 0x0000022DD1829B80>\n",
      "<Element 'Position' at 0x0000022DD1829EA0>\n",
      "<Element 'Position' at 0x0000022DD182A1D0>\n",
      "<Element 'Position' at 0x0000022DD182A540>\n",
      "<Element 'Position' at 0x0000022DD182A810>\n",
      "<Element 'Position' at 0x0000022DD182AB30>\n",
      "<Element 'Position' at 0x0000022DD182AE50>\n",
      "<Element 'Position' at 0x0000022DD182D180>\n",
      "<Element 'Position' at 0x0000022DD182D450>\n",
      "<Element 'Position' at 0x0000022DD182D770>\n",
      "<Element 'Position' at 0x0000022DD182DA40>\n",
      "<Element 'Position' at 0x0000022DD182DD10>\n",
      "<Element 'Position' at 0x0000022DD182F040>\n",
      "<Element 'Position' at 0x0000022DD182F310>\n",
      "<Element 'Position' at 0x0000022DD182F5E0>\n",
      "<Element 'Position' at 0x0000022DD182F900>\n",
      "<Element 'Position' at 0x0000022DD182FBD0>\n",
      "<Element 'Position' at 0x0000022DD182FEA0>\n",
      "<Element 'Position' at 0x0000022DD18311D0>\n",
      "<Element 'Position' at 0x0000022DD18314A0>\n",
      "<Element 'Position' at 0x0000022DD18317C0>\n",
      "<Element 'Position' at 0x0000022DD1831AE0>\n",
      "<Element 'Position' at 0x0000022DD1831E00>\n",
      "<Element 'Position' at 0x0000022DD1833180>\n",
      "<Element 'Position' at 0x0000022DD1833450>\n",
      "<Element 'Position' at 0x0000022DD1833720>\n",
      "<Element 'Position' at 0x0000022DD1833A40>\n",
      "<Element 'Position' at 0x0000022DD1833DB0>\n",
      "<Element 'Position' at 0x0000022DD1835130>\n",
      "<Element 'Position' at 0x0000022DD18354A0>\n",
      "<Element 'Position' at 0x0000022DD1835770>\n",
      "<Element 'Position' at 0x0000022DD1835A40>\n",
      "<Element 'Position' at 0x0000022DD1835D10>\n",
      "<Element 'Position' at 0x0000022DD1837090>\n",
      "<Element 'Position' at 0x0000022DD18373B0>\n",
      "<Element 'Position' at 0x0000022DD1837680>\n",
      "<Element 'Position' at 0x0000022DD1837950>\n",
      "<Element 'Position' at 0x0000022DD1837C20>\n",
      "<Element 'Position' at 0x0000022DD1837EF0>\n",
      "<Element 'Position' at 0x0000022DD1839220>\n",
      "<Element 'Position' at 0x0000022DD18394F0>\n",
      "<Element 'Position' at 0x0000022DD18397C0>\n",
      "<Element 'Position' at 0x0000022DD1839AE0>\n",
      "<Element 'Position' at 0x0000022DD1839E00>\n",
      "<Element 'Position' at 0x0000022DD183B180>\n",
      "<Element 'Position' at 0x0000022DD183B4A0>\n",
      "<Element 'Position' at 0x0000022DD183B770>\n",
      "<Element 'Position' at 0x0000022DD183BA90>\n",
      "<Element 'Position' at 0x0000022DD183BD60>\n",
      "<Element 'Position' at 0x0000022DD183C090>\n",
      "<Element 'Position' at 0x0000022DD183C360>\n",
      "<Element 'Position' at 0x0000022DD183C630>\n",
      "<Element 'Position' at 0x0000022DD183C950>\n",
      "<Element 'Position' at 0x0000022DD183CC70>\n",
      "<Element 'Position' at 0x0000022DD183CF90>\n",
      "<Element 'Position' at 0x0000022DD183F2C0>\n",
      "<Element 'Position' at 0x0000022DD183F590>\n",
      "<Element 'Position' at 0x0000022DD183F860>\n",
      "<Element 'Position' at 0x0000022DD183FB80>\n",
      "<Element 'Position' at 0x0000022DD183FE50>\n",
      "<Element 'Position' at 0x0000022DD18411D0>\n",
      "<Element 'Position' at 0x0000022DD18414F0>\n",
      "<Element 'Position' at 0x0000022DD18417C0>\n",
      "<Element 'Position' at 0x0000022DD1841A90>\n",
      "<Element 'Position' at 0x0000022DD1841DB0>\n",
      "<Element 'Position' at 0x0000022DD18430E0>\n",
      "<Element 'Position' at 0x0000022DD1843400>\n",
      "<Element 'Position' at 0x0000022DD18436D0>\n",
      "<Element 'Position' at 0x0000022DD18439A0>\n",
      "<Element 'Position' at 0x0000022DD1843C70>\n",
      "<Element 'Position' at 0x0000022DD1843F90>\n",
      "<Element 'Position' at 0x0000022DD1845310>\n",
      "<Element 'Position' at 0x0000022DD1845680>\n",
      "<Element 'Position' at 0x0000022DD1845950>\n",
      "<Element 'Position' at 0x0000022DD1845C70>\n",
      "<Element 'Position' at 0x0000022DD1845F40>\n",
      "<Element 'Position' at 0x0000022DD18472C0>\n",
      "<Element 'Position' at 0x0000022DD18475E0>\n",
      "<Element 'Position' at 0x0000022DD1847900>\n",
      "<Element 'Position' at 0x0000022DD1847BD0>\n",
      "<Element 'Position' at 0x0000022DD1847EA0>\n",
      "<Element 'Position' at 0x0000022DD18491D0>\n",
      "<Element 'Position' at 0x0000022DD18494A0>\n",
      "<Element 'Position' at 0x0000022DD18497C0>\n",
      "<Element 'Position' at 0x0000022DD1849A90>\n",
      "<Element 'Position' at 0x0000022DD1849D60>\n",
      "<Element 'Position' at 0x0000022DD184C090>\n",
      "<Element 'Position' at 0x0000022DD184C360>\n",
      "<Element 'Position' at 0x0000022DD184C680>\n",
      "<Element 'Position' at 0x0000022DD184C950>\n",
      "<Element 'Position' at 0x0000022DD184CC70>\n",
      "<Element 'Position' at 0x0000022DD184CF40>\n",
      "<Element 'Position' at 0x0000022DD184E2C0>\n",
      "<Element 'Position' at 0x0000022DD184E5E0>\n",
      "<Element 'Position' at 0x0000022DD184E900>\n",
      "<Element 'Position' at 0x0000022DD184EC20>\n",
      "<Element 'Position' at 0x0000022DD184EEF0>\n",
      "<Element 'Position' at 0x0000022DD1850220>\n",
      "<Element 'Position' at 0x0000022DD18504F0>\n",
      "<Element 'Position' at 0x0000022DD1850810>\n",
      "<Element 'Position' at 0x0000022DD1850AE0>\n",
      "<Element 'Position' at 0x0000022DD1850E00>\n",
      "<Element 'Position' at 0x0000022DD1852130>\n",
      "<Element 'Position' at 0x0000022DD1852400>\n",
      "<Element 'Position' at 0x0000022DD1852720>\n",
      "<Element 'Position' at 0x0000022DD18529F0>\n",
      "<Element 'Position' at 0x0000022DD1852CC0>\n",
      "<Element 'Position' at 0x0000022DD1854040>\n",
      "<Element 'Position' at 0x0000022DD1854310>\n",
      "<Element 'Position' at 0x0000022DD1854630>\n",
      "<Element 'Position' at 0x0000022DD1854950>\n",
      "<Element 'Position' at 0x0000022DD1854C20>\n",
      "<Element 'Position' at 0x0000022DD1854EF0>\n",
      "<Element 'Position' at 0x0000022DD1856220>\n",
      "<Element 'Position' at 0x0000022DD1856540>\n",
      "<Element 'Position' at 0x0000022DD1856860>\n",
      "<Element 'Position' at 0x0000022DD1856B30>\n",
      "<Element 'Position' at 0x0000022DD1856E00>\n",
      "<Element 'Position' at 0x0000022DD1858130>\n",
      "<Element 'Position' at 0x0000022DD1858400>\n",
      "<Element 'Position' at 0x0000022DD18586D0>\n",
      "<Element 'Position' at 0x0000022DD18589F0>\n",
      "<Element 'Position' at 0x0000022DD1858CC0>\n",
      "<Element 'Position' at 0x0000022DD185A040>\n",
      "<Element 'Position' at 0x0000022DD185A310>\n",
      "<Element 'Position' at 0x0000022DD185A630>\n",
      "<Element 'Position' at 0x0000022DD185A900>\n",
      "<Element 'Position' at 0x0000022DD185ABD0>\n",
      "<Element 'Position' at 0x0000022DD185AEA0>\n",
      "<Element 'Position' at 0x0000022DD185C270>\n",
      "<Element 'Position' at 0x0000022DD185C5E0>\n",
      "<Element 'Position' at 0x0000022DD185C900>\n",
      "<Element 'Position' at 0x0000022DD185CC20>\n",
      "<Element 'Position' at 0x0000022DD185CF40>\n",
      "<Element 'Position' at 0x0000022DD185E2C0>\n",
      "<Element 'Position' at 0x0000022DD185E5E0>\n",
      "<Element 'Position' at 0x0000022DD185E8B0>\n",
      "<Element 'Position' at 0x0000022DD185EB80>\n",
      "<Element 'Position' at 0x0000022DD185EE50>\n",
      "<Element 'Position' at 0x0000022DD185F180>\n",
      "<Element 'Position' at 0x0000022DD185F450>\n",
      "<Element 'Position' at 0x0000022DD185F720>\n",
      "<Element 'Position' at 0x0000022DD185F9F0>\n",
      "<Element 'Position' at 0x0000022DD185FD10>\n",
      "<Element 'Position' at 0x0000022DD1862090>\n",
      "<Element 'Position' at 0x0000022DD1862360>\n",
      "<Element 'Position' at 0x0000022DD1862630>\n",
      "<Element 'Position' at 0x0000022DD1862900>\n",
      "<Element 'Position' at 0x0000022DD1862BD0>\n",
      "<Element 'Position' at 0x0000022DD1862EF0>\n",
      "<Element 'Position' at 0x0000022DD1865220>\n",
      "<Element 'Position' at 0x0000022DD1865540>\n",
      "<Element 'Position' at 0x0000022DD1865860>\n",
      "<Element 'Position' at 0x0000022DD1865B30>\n",
      "<Element 'Position' at 0x0000022DD1865EA0>\n",
      "<Element 'Position' at 0x0000022DD18671D0>\n",
      "<Element 'Position' at 0x0000022DD18674A0>\n",
      "<Element 'Position' at 0x0000022DD1867770>\n",
      "<Element 'Position' at 0x0000022DD1867A90>\n",
      "<Element 'Position' at 0x0000022DD1867D60>\n",
      "<Element 'Position' at 0x0000022DD18690E0>\n",
      "<Element 'Position' at 0x0000022DD1869400>\n",
      "<Element 'Position' at 0x0000022DD1869720>\n",
      "<Element 'Position' at 0x0000022DD1869A40>\n",
      "<Element 'Position' at 0x0000022DD1869D10>\n",
      "<Element 'Position' at 0x0000022DD186A090>\n",
      "<Element 'Position' at 0x0000022DD186A3B0>\n",
      "<Element 'Position' at 0x0000022DD186A680>\n",
      "<Element 'Position' at 0x0000022DD186A950>\n",
      "<Element 'Position' at 0x0000022DD186AC20>\n",
      "<Element 'Position' at 0x0000022DD186AEF0>\n",
      "<Element 'Position' at 0x0000022DD186D220>\n",
      "<Element 'Position' at 0x0000022DD186D4F0>\n",
      "<Element 'Position' at 0x0000022DD186D7C0>\n",
      "<Element 'Position' at 0x0000022DD186DA90>\n",
      "<Element 'Position' at 0x0000022DD186DD60>\n",
      "<Element 'Position' at 0x0000022DD186F0E0>\n",
      "<Element 'Position' at 0x0000022DD186F400>\n",
      "<Element 'Position' at 0x0000022DD186F720>\n",
      "<Element 'Position' at 0x0000022DD186FA40>\n",
      "<Element 'Position' at 0x0000022DD186FD10>\n",
      "<Element 'Position' at 0x0000022DD1871040>\n",
      "<Element 'Position' at 0x0000022DD1871360>\n",
      "<Element 'Position' at 0x0000022DD1871630>\n",
      "<Element 'Position' at 0x0000022DD1871950>\n",
      "<Element 'Position' at 0x0000022DD1871C70>\n",
      "<Element 'Position' at 0x0000022DD1871F40>\n",
      "<Element 'Position' at 0x0000022DD18732C0>\n",
      "<Element 'Position' at 0x0000022DD1873590>\n",
      "<Element 'Position' at 0x0000022DD1873860>\n",
      "<Element 'Position' at 0x0000022DD1873B30>\n",
      "<Element 'Position' at 0x0000022DD1873E00>\n",
      "<Element 'Position' at 0x0000022DD1876130>\n",
      "<Element 'Position' at 0x0000022DD1876400>\n",
      "<Element 'Position' at 0x0000022DD18766D0>\n",
      "<Element 'Position' at 0x0000022DD18769A0>\n",
      "<Element 'Position' at 0x0000022DD1876CC0>\n",
      "<Element 'Position' at 0x0000022DD1876F90>\n",
      "<Element 'Position' at 0x0000022DD1878310>\n",
      "<Element 'Position' at 0x0000022DD1878630>\n",
      "<Element 'Position' at 0x0000022DD1878950>\n",
      "<Element 'Position' at 0x0000022DD1878C70>\n",
      "<Element 'Position' at 0x0000022DD1878F40>\n",
      "<Element 'Position' at 0x0000022DD187A2C0>\n",
      "<Element 'Position' at 0x0000022DD187A590>\n",
      "<Element 'Position' at 0x0000022DD187A860>\n",
      "<Element 'Position' at 0x0000022DD187AB80>\n",
      "<Element 'Position' at 0x0000022DD187AE50>\n",
      "<Element 'Position' at 0x0000022DD187B180>\n",
      "<Element 'Position' at 0x0000022DD187B450>\n",
      "<Element 'Position' at 0x0000022DD187B720>\n",
      "<Element 'Position' at 0x0000022DD187B9F0>\n",
      "<Element 'Position' at 0x0000022DD187BD10>\n",
      "<Element 'Position' at 0x0000022DD187E040>\n",
      "<Element 'Position' at 0x0000022DD187E310>\n",
      "<Element 'Position' at 0x0000022DD187E630>\n",
      "<Element 'Position' at 0x0000022DD187E9A0>\n",
      "<Element 'Position' at 0x0000022DD187ECC0>\n",
      "<Element 'Position' at 0x0000022DD1880040>\n",
      "<Element 'Position' at 0x0000022DD1880310>\n",
      "<Element 'Position' at 0x0000022DD18805E0>\n",
      "<Element 'Position' at 0x0000022DD18808B0>\n",
      "<Element 'Position' at 0x0000022DD1880BD0>\n",
      "<Element 'Position' at 0x0000022DD1880EA0>\n",
      "<Element 'Position' at 0x0000022DD18821D0>\n",
      "<Element 'Position' at 0x0000022DD18824A0>\n",
      "<Element 'Position' at 0x0000022DD1882770>\n",
      "<Element 'Position' at 0x0000022DD1882A90>\n",
      "<Element 'Position' at 0x0000022DD1882DB0>\n",
      "<Element 'Position' at 0x0000022DD18840E0>\n",
      "<Element 'Position' at 0x0000022DD18843B0>\n",
      "<Element 'Position' at 0x0000022DD1884720>\n",
      "<Element 'Position' at 0x0000022DD18849F0>\n",
      "<Element 'Position' at 0x0000022DD1884CC0>\n",
      "<Element 'Position' at 0x0000022DD1886040>\n",
      "<Element 'Position' at 0x0000022DD1886310>\n",
      "<Element 'Position' at 0x0000022DD18865E0>\n",
      "<Element 'Position' at 0x0000022DD18868B0>\n",
      "<Element 'Position' at 0x0000022DD1886B80>\n",
      "<Element 'Position' at 0x0000022DD1886E50>\n",
      "<Element 'Position' at 0x0000022DD1888180>\n",
      "<Element 'Position' at 0x0000022DD18884A0>\n",
      "<Element 'Position' at 0x0000022DD1888770>\n",
      "<Element 'Position' at 0x0000022DD1888A90>\n",
      "<Element 'Position' at 0x0000022DD1888D60>\n",
      "<Element 'Position' at 0x0000022DD188A0E0>\n",
      "<Element 'Position' at 0x0000022DD188A3B0>\n",
      "<Element 'Position' at 0x0000022DD188A6D0>\n",
      "<Element 'Position' at 0x0000022DD188A9A0>\n",
      "<Element 'Position' at 0x0000022DD188AC70>\n",
      "<Element 'Position' at 0x0000022DD188AF40>\n",
      "<Element 'Position' at 0x0000022DD188C270>\n",
      "<Element 'Position' at 0x0000022DD188C540>\n",
      "<Element 'Position' at 0x0000022DD188C860>\n",
      "<Element 'Position' at 0x0000022DD188CB30>\n",
      "<Element 'Position' at 0x0000022DD188CE00>\n",
      "<Element 'Position' at 0x0000022DD188E130>\n",
      "<Element 'Position' at 0x0000022DD188E400>\n",
      "<Element 'Position' at 0x0000022DD188E720>\n",
      "<Element 'Position' at 0x0000022DD188E9F0>\n",
      "<Element 'Position' at 0x0000022DD188ED10>\n",
      "<Element 'Position' at 0x0000022DD1890090>\n",
      "<Element 'Position' at 0x0000022DD18903B0>\n",
      "<Element 'Position' at 0x0000022DD18906D0>\n",
      "<Element 'Position' at 0x0000022DD18909F0>\n",
      "<Element 'Position' at 0x0000022DD1890D10>\n",
      "<Element 'Position' at 0x0000022DD1892040>\n",
      "<Element 'Position' at 0x0000022DD1892310>\n",
      "<Element 'Position' at 0x0000022DD18925E0>\n",
      "<Element 'Position' at 0x0000022DD1892900>\n",
      "<Element 'Position' at 0x0000022DD1892BD0>\n",
      "<Element 'Position' at 0x0000022DD1892EA0>\n",
      "<Element 'Position' at 0x0000022DD18941D0>\n",
      "<Element 'Position' at 0x0000022DD18944A0>\n",
      "<Element 'Position' at 0x0000022DD18947C0>\n",
      "<Element 'Position' at 0x0000022DD1894A90>\n",
      "<Element 'Position' at 0x0000022DD1894D60>\n",
      "<Element 'Position' at 0x0000022DD1896090>\n",
      "<Element 'Position' at 0x0000022DD1896360>\n",
      "<Element 'Position' at 0x0000022DD1896630>\n",
      "<Element 'Position' at 0x0000022DD1896900>\n",
      "<Element 'Position' at 0x0000022DD1896BD0>\n",
      "<Element 'Position' at 0x0000022DD1896EA0>\n",
      "<Element 'Position' at 0x0000022DD189A1D0>\n",
      "<Element 'Position' at 0x0000022DD189A4A0>\n",
      "<Element 'Position' at 0x0000022DD189A7C0>\n",
      "<Element 'Position' at 0x0000022DD189AA90>\n",
      "<Element 'Position' at 0x0000022DD189AD60>\n",
      "<Element 'Position' at 0x0000022DD189B090>\n",
      "<Element 'Position' at 0x0000022DD189B360>\n",
      "<Element 'Position' at 0x0000022DD189B680>\n",
      "<Element 'Position' at 0x0000022DD189B950>\n",
      "<Element 'Position' at 0x0000022DD189BC20>\n",
      "<Element 'Position' at 0x0000022DD189BF40>\n",
      "<Element 'Position' at 0x0000022DD189D270>\n",
      "<Element 'Position' at 0x0000022DD189D540>\n",
      "<Element 'Position' at 0x0000022DD189D810>\n",
      "<Element 'Position' at 0x0000022DD189DAE0>\n",
      "<Element 'Position' at 0x0000022DD189DE00>\n",
      "<Element 'Position' at 0x0000022DD189F180>\n",
      "<Element 'Position' at 0x0000022DD189F4A0>\n",
      "<Element 'Position' at 0x0000022DD189F7C0>\n",
      "<Element 'Position' at 0x0000022DD189FAE0>\n",
      "<Element 'Position' at 0x0000022DD189FDB0>\n",
      "<Element 'Position' at 0x0000022DD18A20E0>\n",
      "<Element 'Position' at 0x0000022DD18A2400>\n",
      "<Element 'Position' at 0x0000022DD18A2720>\n",
      "<Element 'Position' at 0x0000022DD18A29F0>\n",
      "<Element 'Position' at 0x0000022DD18A2CC0>\n",
      "<Element 'Position' at 0x0000022DD18A3040>\n",
      "<Element 'Position' at 0x0000022DD18A3360>\n",
      "<Element 'Position' at 0x0000022DD18A3630>\n",
      "<Element 'Position' at 0x0000022DD18A3900>\n",
      "<Element 'Position' at 0x0000022DD18A3C70>\n",
      "<Element 'Position' at 0x0000022DD18A3F40>\n",
      "<Element 'Position' at 0x0000022DD18A6270>\n",
      "<Element 'Position' at 0x0000022DD18A6540>\n",
      "<Element 'Position' at 0x0000022DD18A6810>\n",
      "<Element 'Position' at 0x0000022DD18A6AE0>\n",
      "<Element 'Position' at 0x0000022DD18A6E00>\n",
      "<Element 'Position' at 0x0000022DD18A8130>\n",
      "<Element 'Position' at 0x0000022DD18A8450>\n",
      "<Element 'Position' at 0x0000022DD18A8770>\n",
      "<Element 'Position' at 0x0000022DD18A8A90>\n",
      "<Element 'Position' at 0x0000022DD18A8DB0>\n",
      "<Element 'Position' at 0x0000022DD18A9130>\n",
      "<Element 'Position' at 0x0000022DD18A9400>\n",
      "<Element 'Position' at 0x0000022DD18A96D0>\n",
      "<Element 'Position' at 0x0000022DD18A99A0>\n",
      "<Element 'Position' at 0x0000022DD18A9CC0>\n",
      "<Element 'Position' at 0x0000022DD18A9F90>\n",
      "<Element 'Position' at 0x0000022DD18AC2C0>\n",
      "<Element 'Position' at 0x0000022DD18AC590>\n",
      "<Element 'Position' at 0x0000022DD18AC860>\n",
      "<Element 'Position' at 0x0000022DD18ACBD0>\n",
      "<Element 'Position' at 0x0000022DD18ACEF0>\n",
      "<Element 'Position' at 0x0000022DD18AE220>\n",
      "<Element 'Position' at 0x0000022DD18AE4F0>\n",
      "<Element 'Position' at 0x0000022DD18AE7C0>\n",
      "<Element 'Position' at 0x0000022DD18AEA90>\n",
      "<Element 'Position' at 0x0000022DD18AED60>\n",
      "<Element 'Position' at 0x0000022DD18B0130>\n",
      "<Element 'Position' at 0x0000022DD18B0450>\n",
      "<Element 'Position' at 0x0000022DD18B0720>\n",
      "<Element 'Position' at 0x0000022DD18B09F0>\n",
      "<Element 'Position' at 0x0000022DD18B0D10>\n",
      "<Element 'Position' at 0x0000022DD18B20E0>\n",
      "<Element 'Position' at 0x0000022DD18B2400>\n",
      "<Element 'Position' at 0x0000022DD18B2720>\n",
      "<Element 'Position' at 0x0000022DD18B29F0>\n",
      "<Element 'Position' at 0x0000022DD18B2CC0>\n",
      "<Element 'Position' at 0x0000022DD18B2F90>\n",
      "<Element 'Position' at 0x0000022DD18B4310>\n",
      "<Element 'Position' at 0x0000022DD18B45E0>\n",
      "<Element 'Position' at 0x0000022DD18B4900>\n",
      "<Element 'Position' at 0x0000022DD18B4BD0>\n",
      "<Element 'Position' at 0x0000022DD18B4EF0>\n",
      "<Element 'Position' at 0x0000022DD18B6220>\n",
      "<Element 'Position' at 0x0000022DD18B6590>\n",
      "<Element 'Position' at 0x0000022DD18B68B0>\n",
      "<Element 'Position' at 0x0000022DD18B6B80>\n",
      "<Element 'Position' at 0x0000022DD18B6E50>\n",
      "<Element 'Position' at 0x0000022DD18B8180>\n",
      "<Element 'Position' at 0x0000022DD18B8450>\n",
      "<Element 'Position' at 0x0000022DD18B87C0>\n",
      "<Element 'Position' at 0x0000022DD18B8A90>\n",
      "<Element 'Position' at 0x0000022DD18B8D60>\n",
      "<Element 'Position' at 0x0000022DD18BA090>\n",
      "<Element 'Position' at 0x0000022DD18BA360>\n",
      "<Element 'Position' at 0x0000022DD18BA680>\n",
      "<Element 'Position' at 0x0000022DD18BA9A0>\n",
      "<Element 'Position' at 0x0000022DD18BAC70>\n",
      "<Element 'Position' at 0x0000022DD18BAF40>\n",
      "<Element 'Position' at 0x0000022DD18BD270>\n",
      "<Element 'Position' at 0x0000022DD18BD540>\n",
      "<Element 'Position' at 0x0000022DD18BD810>\n",
      "<Element 'Position' at 0x0000022DD18BDAE0>\n",
      "<Element 'Position' at 0x0000022DD18BDDB0>\n",
      "<Element 'Position' at 0x0000022DD18C0130>\n",
      "<Element 'Position' at 0x0000022DD18C0400>\n",
      "<Element 'Position' at 0x0000022DD18C06D0>\n",
      "<Element 'Position' at 0x0000022DD18C09A0>\n",
      "<Element 'Position' at 0x0000022DD18C0C70>\n",
      "<Element 'Position' at 0x0000022DD18C0F40>\n",
      "<Element 'Position' at 0x0000022DD18C22C0>\n",
      "<Element 'Position' at 0x0000022DD18C25E0>\n",
      "<Element 'Position' at 0x0000022DD18C28B0>\n",
      "<Element 'Position' at 0x0000022DD18C2B80>\n",
      "<Element 'Position' at 0x0000022DD18C2E50>\n",
      "<Element 'Position' at 0x0000022DD18C4180>\n",
      "<Element 'Position' at 0x0000022DD18C4450>\n",
      "<Element 'Position' at 0x0000022DD18C4770>\n",
      "<Element 'Position' at 0x0000022DD18C4A40>\n",
      "<Element 'Position' at 0x0000022DD18C4D60>\n",
      "<Element 'Position' at 0x0000022DD18C60E0>\n",
      "<Element 'Position' at 0x0000022DD18C63B0>\n",
      "<Element 'Position' at 0x0000022DD18C6680>\n",
      "<Element 'Position' at 0x0000022DD18C69A0>\n",
      "<Element 'Position' at 0x0000022DD18C6CC0>\n",
      "<Element 'Position' at 0x0000022DD18C6F90>\n",
      "<Element 'Position' at 0x0000022DD18C8360>\n",
      "<Element 'Position' at 0x0000022DD18C8630>\n",
      "<Element 'Position' at 0x0000022DD18C8950>\n",
      "<Element 'Position' at 0x0000022DD18C8C20>\n",
      "<Element 'Position' at 0x0000022DD18C8EF0>\n",
      "<Element 'Position' at 0x0000022DD18CA270>\n",
      "<Element 'Position' at 0x0000022DD18CA590>\n",
      "<Element 'Position' at 0x0000022DD18CA860>\n",
      "<Element 'Position' at 0x0000022DD18CAB80>\n",
      "<Element 'Position' at 0x0000022DD18CAE50>\n",
      "<Element 'Position' at 0x0000022DD18CC1D0>\n",
      "<Element 'Position' at 0x0000022DD18CC4F0>\n",
      "<Element 'Position' at 0x0000022DD177BCC0>\n",
      "<Element 'Position' at 0x0000022DD177B360>\n",
      "<Element 'Position' at 0x0000022DD1775F40>\n",
      "<Element 'Position' at 0x0000022DD18CC810>\n",
      "<Element 'Position' at 0x0000022DD18CCAE0>\n",
      "<Element 'Position' at 0x0000022DD18CCE00>\n",
      "<Element 'Position' at 0x0000022DD18CD1D0>\n",
      "<Element 'Position' at 0x0000022DD18CD4A0>\n",
      "<Element 'Position' at 0x0000022DD18CD770>\n",
      "<Element 'Position' at 0x0000022DD18CDA40>\n",
      "<Element 'Position' at 0x0000022DD18CDD60>\n",
      "<Element 'Position' at 0x0000022DD18CF090>\n",
      "<Element 'Position' at 0x0000022DD18CF360>\n",
      "<Element 'Position' at 0x0000022DD18CF630>\n",
      "<Element 'Position' at 0x0000022DD18CF900>\n",
      "<Element 'Position' at 0x0000022DD18CFC20>\n",
      "<Element 'Position' at 0x0000022DD18CFEF0>\n",
      "<Element 'Position' at 0x0000022DD18D1270>\n",
      "<Element 'Position' at 0x0000022DD18D1590>\n",
      "<Element 'Position' at 0x0000022DD18D1860>\n",
      "<Element 'Position' at 0x0000022DD18D1B80>\n",
      "<Element 'Position' at 0x0000022DD18D1EA0>\n",
      "<Element 'Position' at 0x0000022DD18D21D0>\n",
      "<Element 'Position' at 0x0000022DD18D24A0>\n",
      "<Element 'Position' at 0x0000022DD18D2770>\n",
      "<Element 'Position' at 0x0000022DD18D2A40>\n",
      "<Element 'Position' at 0x0000022DD18D2D10>\n",
      "<Element 'Position' at 0x0000022DD18D4040>\n",
      "<Element 'Position' at 0x0000022DD18D4310>\n",
      "<Element 'Position' at 0x0000022DD18D4630>\n",
      "<Element 'Position' at 0x0000022DD18D49A0>\n",
      "<Element 'Position' at 0x0000022DD18D4C70>\n",
      "<Element 'Position' at 0x0000022DD18D4F90>\n",
      "<Element 'Position' at 0x0000022DD18D62C0>\n",
      "<Element 'Position' at 0x0000022DD18D6590>\n",
      "<Element 'Position' at 0x0000022DD18D68B0>\n",
      "<Element 'Position' at 0x0000022DD18D6C20>\n",
      "<Element 'Position' at 0x0000022DD18D6EF0>\n",
      "<Element 'Position' at 0x0000022DD18D8270>\n"
     ]
    }
   ],
   "source": [
    "# see how many grandchild in the the first child, in this case 668 grandchild\n",
    "print(len(root[0]))\n",
    "for child in root[0]:\n",
    "    print(child)\n"
   ]
  },
  {
   "cell_type": "code",
   "execution_count": 4,
   "metadata": {},
   "outputs": [
    {
     "name": "stdout",
     "output_type": "stream",
     "text": [
      "<Element 'Id' at 0x0000022DD6A15360>\n",
      "<Element 'Title' at 0x0000022DD6A153B0>\n",
      "<Element 'Location' at 0x0000022DD6A15400>\n",
      "<Element 'Company' at 0x0000022DD6A15450>\n",
      "<Element 'ContractType' at 0x0000022DD6A154A0>\n",
      "<Element 'ContractTime' at 0x0000022DD6A154F0>\n",
      "<Element 'Category' at 0x0000022DD6A15540>\n",
      "<Element 'Salary' at 0x0000022DD6A15590>\n",
      "_____________________________\n",
      "<Element 'Id' at 0x0000022DD17B1F40>\n",
      "<Element 'Title' at 0x0000022DD17B1F90>\n",
      "<Element 'Location' at 0x0000022DD17B7040>\n",
      "<Element 'Company' at 0x0000022DD17B70E0>\n",
      "<Element 'Category' at 0x0000022DD17B7180>\n",
      "<Element 'Salary' at 0x0000022DD17B7220>\n"
     ]
    }
   ],
   "source": [
    "# see how many great grandchild in the grandchild\n",
    "# as the first grandchild of each child does not have\n",
    "# and children.\n",
    "for child in root[78][1]:\n",
    "    print(child)\n",
    "print('_____________________________')\n",
    "for child in root[0][1]:\n",
    "    print (child)"
   ]
  },
  {
   "cell_type": "markdown",
   "metadata": {},
   "source": [
    "From the above code we can summarise that xml starts with the root called \"JobAds\", which contains 107 elements with the tag \"Source\". Within each \"Source\" element, so the grandchild of the root, it contains 2 different tags, named \"SourceName\" and \"Position\". There is exactly one \"SourceName\" element for every \"Source\" tag, that is it's parent. On the other hand, there can be x amount of \"Position\" element. In the case of the first \"Source\" element there is 667 \"Position\" elements and one \"SourceName\" element. Additionally, the position element contains no text but 2 attributes - 'OpenDate' and 'CloseDate'. \n",
    "\n",
    "Further examinations reveals that each position elements contains several child, that is the great grandchild of the root. The child of the 'Postion' element can be 'Id', 'Title', 'Location', 'Company', 'Category', 'Salary', 'ContractTime', 'ContractType'. From the above example, the 'Position' element does not contain the element 'ContractTime' and 'ContractDate', which suggest in some elements of 'Position', there can be missing elements."
   ]
  },
  {
   "cell_type": "markdown",
   "metadata": {},
   "source": [
    "### 1.2 Parsing data into the required format"
   ]
  },
  {
   "cell_type": "markdown",
   "metadata": {},
   "source": [
    "<span style=\"color: red\"> You might have complex notebook structure in this section, please feel free to create your own notebook structure. </span>"
   ]
  },
  {
   "cell_type": "code",
   "execution_count": 5,
   "metadata": {},
   "outputs": [],
   "source": [
    "# Code to parse data\n",
    "\n",
    "#set up lists and dictionary to create df\n",
    "dataDict = {}\n",
    "dataDict['Id'] = []\n",
    "dataDict['Title'] = []\n",
    "dataDict['Location'] = []\n",
    "dataDict['Company'] = []\n",
    "dataDict['Category'] = []\n",
    "dataDict['Salary'] = []\n",
    "dataDict['OpenDate'] = []\n",
    "dataDict['CloseDate'] = []\n",
    "dataDict['ContractTime'] = []\n",
    "dataDict['SourceName'] = []\n",
    "dataDict['ContractType'] = []"
   ]
  },
  {
   "cell_type": "code",
   "execution_count": 6,
   "metadata": {},
   "outputs": [],
   "source": [
    "#handling of open and close date, since they are attributes of position\n",
    "for elem in tree.iter(tag = 'Position'): # position has no text but attributes instead\n",
    "    # .get obtains attributes of tag based on name of attribute\n",
    "    open_date = elem.get('OpenDate', None)\n",
    "    close_date = elem.get('CloseDate',None)\n",
    "    dataDict['OpenDate'].append(open_date)\n",
    "    dataDict['CloseDate'].append(close_date)"
   ]
  },
  {
   "cell_type": "code",
   "execution_count": 7,
   "metadata": {},
   "outputs": [],
   "source": [
    "# This code block is to only parse the data in 'Position'\n",
    "# e.g the elements 'Id', 'Title', 'Location', 'Company', \n",
    "# 'Category', 'Salary', 'ContractTime', 'ContractType'\n",
    "# and checks for missing values\n",
    "\n",
    "for child in root: # child of the root which is 107 \"Source\"\n",
    "    #print('child',child)\n",
    "    #print(len(child))\n",
    "    for gc in child: # can see 'SourceName' and 'Position'\n",
    "        if gc.tag == 'SourceName': # skip first element of every Source child element\n",
    "            continue\n",
    "        \n",
    "        #False flags for possible missing values\n",
    "        company = False\n",
    "        salary = False\n",
    "        contracttime = False\n",
    "        contracttype = False\n",
    "        \n",
    "        \n",
    "        for ggc in gc: # can see elements of positions e.g id, salary\n",
    "            \n",
    "            #append to relative dict\n",
    "            dataDict[ggc.tag].append(ggc.text)\n",
    "            \n",
    "            #check if tag append is one of the missing tags\n",
    "            if ggc.tag == \"Company\":\n",
    "                company = True\n",
    "            if ggc.tag == 'Salary':\n",
    "                salary = True\n",
    "            if ggc.tag == \"ContractTime\":\n",
    "                contracttime = True\n",
    "            if ggc.tag == 'ContractType':\n",
    "                contracttype = True\n",
    "            \n",
    "        #append None to remaning missing elements in row element\n",
    "        if company == False:\n",
    "            dataDict['Company'].append(None)\n",
    "        if salary == False:\n",
    "            dataDict['Salary'].append(None)\n",
    "        if contracttime == False:\n",
    "            dataDict['ContractTime'].append(None)\n",
    "        if contracttype == False:\n",
    "            dataDict['ContractType'].append(None)"
   ]
  },
  {
   "cell_type": "code",
   "execution_count": 8,
   "metadata": {},
   "outputs": [
    {
     "name": "stdout",
     "output_type": "stream",
     "text": [
      "107\n"
     ]
    }
   ],
   "source": [
    "# This code block parse the 'SourceName'\n",
    "# which is assume to apply for all 'Positions' tag\n",
    "# under 'SourceName'\n",
    "\n",
    "# list to hold all source names, should be 107\n",
    "# which correspsonds to the all children of root \n",
    "Source = []\n",
    "for elem in tree.iter(tag = 'SourceName'):\n",
    "    Source.append(elem.text)\n",
    "print(len(Source))\n",
    "\n",
    "\n",
    "#get all position elements in source\n",
    "#top element is always 'SourceName'\n",
    "#hence the -1\n",
    "lenOfSource = []\n",
    "for i in root:\n",
    "    lenOfSource.append(len(i) - 1)\n",
    "\n",
    "#append Source[i] x lenOfSource[i] times\n",
    "for i in range(len(Source)):\n",
    "    for j in range(lenOfSource[i]):\n",
    "        dataDict['SourceName'].append(Source[i])\n",
    "            \n",
    "\n"
   ]
  },
  {
   "cell_type": "code",
   "execution_count": 9,
   "metadata": {},
   "outputs": [
    {
     "name": "stdout",
     "output_type": "stream",
     "text": [
      "{'Id': 50703, 'Title': 50703, 'Location': 50703, 'Company': 50703, 'Category': 50703, 'Salary': 50703, 'OpenDate': 50703, 'CloseDate': 50703, 'ContractTime': 50703, 'SourceName': 50703, 'ContractType': 50703}\n"
     ]
    }
   ],
   "source": [
    "#see length of each list\n",
    "array_lengths = {key: len(value) for key, value in dataDict.items()}\n",
    "print(array_lengths)"
   ]
  },
  {
   "cell_type": "code",
   "execution_count": 10,
   "metadata": {},
   "outputs": [
    {
     "data": {
      "text/html": [
       "<div>\n",
       "<style scoped>\n",
       "    .dataframe tbody tr th:only-of-type {\n",
       "        vertical-align: middle;\n",
       "    }\n",
       "\n",
       "    .dataframe tbody tr th {\n",
       "        vertical-align: top;\n",
       "    }\n",
       "\n",
       "    .dataframe thead th {\n",
       "        text-align: right;\n",
       "    }\n",
       "</style>\n",
       "<table border=\"1\" class=\"dataframe\">\n",
       "  <thead>\n",
       "    <tr style=\"text-align: right;\">\n",
       "      <th></th>\n",
       "      <th>Id</th>\n",
       "      <th>Title</th>\n",
       "      <th>Location</th>\n",
       "      <th>Company</th>\n",
       "      <th>Category</th>\n",
       "      <th>Salary</th>\n",
       "      <th>OpenDate</th>\n",
       "      <th>CloseDate</th>\n",
       "      <th>ContractTime</th>\n",
       "      <th>SourceName</th>\n",
       "      <th>ContractType</th>\n",
       "    </tr>\n",
       "  </thead>\n",
       "  <tbody>\n",
       "    <tr>\n",
       "      <th>0</th>\n",
       "      <td>69249311</td>\n",
       "      <td>Development Management Team Manager</td>\n",
       "      <td>North West England</td>\n",
       "      <td>Matchtech Group plc.</td>\n",
       "      <td>Engineering Jobs</td>\n",
       "      <td>41000</td>\n",
       "      <td>20131118T120000</td>\n",
       "      <td>20140117T120000</td>\n",
       "      <td>None</td>\n",
       "      <td>rengineeringjobs.com</td>\n",
       "      <td>None</td>\n",
       "    </tr>\n",
       "    <tr>\n",
       "      <th>1</th>\n",
       "      <td>70676070</td>\n",
       "      <td>Senior Civil Infrastructure Engineer</td>\n",
       "      <td>Basingstoke</td>\n",
       "      <td>Matchtech Group plc.</td>\n",
       "      <td>Engineering Jobs</td>\n",
       "      <td>32000</td>\n",
       "      <td>20130602T150000</td>\n",
       "      <td>20130616T150000</td>\n",
       "      <td>None</td>\n",
       "      <td>rengineeringjobs.com</td>\n",
       "      <td>None</td>\n",
       "    </tr>\n",
       "    <tr>\n",
       "      <th>2</th>\n",
       "      <td>68805528</td>\n",
       "      <td>Highway Technician</td>\n",
       "      <td>UK</td>\n",
       "      <td>Matchtech Group plc.</td>\n",
       "      <td>Engineering Jobs</td>\n",
       "      <td>19500</td>\n",
       "      <td>20121224T150000</td>\n",
       "      <td>20130123T150000</td>\n",
       "      <td>None</td>\n",
       "      <td>rengineeringjobs.com</td>\n",
       "      <td>None</td>\n",
       "    </tr>\n",
       "    <tr>\n",
       "      <th>3</th>\n",
       "      <td>71684871</td>\n",
       "      <td>Combustion Engineer Surrey And London upto ****k</td>\n",
       "      <td>London</td>\n",
       "      <td>Randstad</td>\n",
       "      <td>Engineering Jobs</td>\n",
       "      <td>33500</td>\n",
       "      <td>20121019T120000</td>\n",
       "      <td>20130117T120000</td>\n",
       "      <td>permanent</td>\n",
       "      <td>rengineeringjobs.com</td>\n",
       "      <td>None</td>\n",
       "    </tr>\n",
       "    <tr>\n",
       "      <th>4</th>\n",
       "      <td>67944676</td>\n",
       "      <td>Automation Service Manager</td>\n",
       "      <td>Stockton-On-Tees</td>\n",
       "      <td>Matchtech Group plc.</td>\n",
       "      <td>Engineering Jobs</td>\n",
       "      <td>45000</td>\n",
       "      <td>20120503T120000</td>\n",
       "      <td>20120517T120000</td>\n",
       "      <td>None</td>\n",
       "      <td>rengineeringjobs.com</td>\n",
       "      <td>None</td>\n",
       "    </tr>\n",
       "    <tr>\n",
       "      <th>...</th>\n",
       "      <td>...</td>\n",
       "      <td>...</td>\n",
       "      <td>...</td>\n",
       "      <td>...</td>\n",
       "      <td>...</td>\n",
       "      <td>...</td>\n",
       "      <td>...</td>\n",
       "      <td>...</td>\n",
       "      <td>...</td>\n",
       "      <td>...</td>\n",
       "      <td>...</td>\n",
       "    </tr>\n",
       "    <tr>\n",
       "      <th>50698</th>\n",
       "      <td>69266023</td>\n",
       "      <td>Registered Estate Manager</td>\n",
       "      <td>West Sussex</td>\n",
       "      <td>Forces Recruitment Services  Ltd</td>\n",
       "      <td>Healthcare &amp; Nursing Jobs</td>\n",
       "      <td>28500</td>\n",
       "      <td>20130502T000000</td>\n",
       "      <td>20130601T000000</td>\n",
       "      <td>permanent</td>\n",
       "      <td>jobsinsocialwork.co.uk</td>\n",
       "      <td>full_time</td>\n",
       "    </tr>\n",
       "    <tr>\n",
       "      <th>50699</th>\n",
       "      <td>68824603</td>\n",
       "      <td>First Level Nurses RGN/RMN</td>\n",
       "      <td>South Yorkshire</td>\n",
       "      <td>Online Resourcing</td>\n",
       "      <td>Healthcare &amp; Nursing Jobs</td>\n",
       "      <td>24480</td>\n",
       "      <td>20130224T120000</td>\n",
       "      <td>20130425T120000</td>\n",
       "      <td>permanent</td>\n",
       "      <td>jobsinsocialwork.co.uk</td>\n",
       "      <td>full_time</td>\n",
       "    </tr>\n",
       "    <tr>\n",
       "      <th>50700</th>\n",
       "      <td>68635664</td>\n",
       "      <td>First Level Nurses RGN/RMN</td>\n",
       "      <td>South Yorkshire</td>\n",
       "      <td>Online Resourcing</td>\n",
       "      <td>Healthcare &amp; Nursing Jobs</td>\n",
       "      <td>24480</td>\n",
       "      <td>20130224T120000</td>\n",
       "      <td>20130425T120000</td>\n",
       "      <td>permanent</td>\n",
       "      <td>jobsinsocialwork.co.uk</td>\n",
       "      <td>full_time</td>\n",
       "    </tr>\n",
       "    <tr>\n",
       "      <th>50701</th>\n",
       "      <td>72342177</td>\n",
       "      <td>Head of Estates Maintenance</td>\n",
       "      <td>London</td>\n",
       "      <td>Finegreen Associates</td>\n",
       "      <td>Healthcare &amp; Nursing Jobs</td>\n",
       "      <td>50599</td>\n",
       "      <td>20130131T000000</td>\n",
       "      <td>20130214T000000</td>\n",
       "      <td>contract</td>\n",
       "      <td>hsjjobs.com</td>\n",
       "      <td>-</td>\n",
       "    </tr>\n",
       "    <tr>\n",
       "      <th>50702</th>\n",
       "      <td>66372417</td>\n",
       "      <td>Graduate Engineer (Water industry)</td>\n",
       "      <td>South Lanarkshire</td>\n",
       "      <td>Carrington West Limited</td>\n",
       "      <td>Engineering Jobs</td>\n",
       "      <td>20000</td>\n",
       "      <td>20130119T000000</td>\n",
       "      <td>20130419T000000</td>\n",
       "      <td>contract</td>\n",
       "      <td>thegraduate.co.uk</td>\n",
       "      <td>full_time</td>\n",
       "    </tr>\n",
       "  </tbody>\n",
       "</table>\n",
       "<p>50703 rows × 11 columns</p>\n",
       "</div>"
      ],
      "text/plain": [
       "             Id                                             Title  \\\n",
       "0      69249311               Development Management Team Manager   \n",
       "1      70676070              Senior Civil Infrastructure Engineer   \n",
       "2      68805528                                Highway Technician   \n",
       "3      71684871  Combustion Engineer Surrey And London upto ****k   \n",
       "4      67944676                        Automation Service Manager   \n",
       "...         ...                                               ...   \n",
       "50698  69266023                         Registered Estate Manager   \n",
       "50699  68824603                        First Level Nurses RGN/RMN   \n",
       "50700  68635664                       First Level Nurses RGN/RMN    \n",
       "50701  72342177                       Head of Estates Maintenance   \n",
       "50702  66372417                Graduate Engineer (Water industry)   \n",
       "\n",
       "                 Location                           Company  \\\n",
       "0      North West England              Matchtech Group plc.   \n",
       "1             Basingstoke              Matchtech Group plc.   \n",
       "2                      UK              Matchtech Group plc.   \n",
       "3                  London                          Randstad   \n",
       "4        Stockton-On-Tees              Matchtech Group plc.   \n",
       "...                   ...                               ...   \n",
       "50698         West Sussex  Forces Recruitment Services  Ltd   \n",
       "50699     South Yorkshire                 Online Resourcing   \n",
       "50700     South Yorkshire                 Online Resourcing   \n",
       "50701              London              Finegreen Associates   \n",
       "50702   South Lanarkshire           Carrington West Limited   \n",
       "\n",
       "                        Category Salary         OpenDate        CloseDate  \\\n",
       "0               Engineering Jobs  41000  20131118T120000  20140117T120000   \n",
       "1               Engineering Jobs  32000  20130602T150000  20130616T150000   \n",
       "2               Engineering Jobs  19500  20121224T150000  20130123T150000   \n",
       "3               Engineering Jobs  33500  20121019T120000  20130117T120000   \n",
       "4               Engineering Jobs  45000  20120503T120000  20120517T120000   \n",
       "...                          ...    ...              ...              ...   \n",
       "50698  Healthcare & Nursing Jobs  28500  20130502T000000  20130601T000000   \n",
       "50699  Healthcare & Nursing Jobs  24480  20130224T120000  20130425T120000   \n",
       "50700  Healthcare & Nursing Jobs  24480  20130224T120000  20130425T120000   \n",
       "50701  Healthcare & Nursing Jobs  50599  20130131T000000  20130214T000000   \n",
       "50702           Engineering Jobs  20000  20130119T000000  20130419T000000   \n",
       "\n",
       "      ContractTime              SourceName ContractType  \n",
       "0             None    rengineeringjobs.com         None  \n",
       "1             None    rengineeringjobs.com         None  \n",
       "2             None    rengineeringjobs.com         None  \n",
       "3        permanent    rengineeringjobs.com         None  \n",
       "4             None    rengineeringjobs.com         None  \n",
       "...            ...                     ...          ...  \n",
       "50698    permanent  jobsinsocialwork.co.uk    full_time  \n",
       "50699    permanent  jobsinsocialwork.co.uk    full_time  \n",
       "50700    permanent  jobsinsocialwork.co.uk    full_time  \n",
       "50701     contract             hsjjobs.com            -  \n",
       "50702     contract       thegraduate.co.uk    full_time  \n",
       "\n",
       "[50703 rows x 11 columns]"
      ]
     },
     "execution_count": 10,
     "metadata": {},
     "output_type": "execute_result"
    }
   ],
   "source": [
    "#create and print dataframe\n",
    "df = pd.DataFrame(dataDict)\n",
    "df"
   ]
  },
  {
   "cell_type": "markdown",
   "metadata": {},
   "source": [
    "......"
   ]
  },
  {
   "cell_type": "markdown",
   "metadata": {},
   "source": [
    "## Task 2. Auditing and cleansing the loaded data\n",
    "\n",
    "Here, you should write your own code to audit data, identify data problems and to fix them. You are also required to record the errors found and fixings in an error list.\n",
    "\n",
    "<span style=\"color: red\"> You might have complex notebook structure in this section, please feel free to create your own notebook structure. </span>"
   ]
  },
  {
   "cell_type": "code",
   "execution_count": 11,
   "metadata": {},
   "outputs": [],
   "source": [
    "# function to update/insert into error list\n",
    "def updateErlist(indexOfdf,Id,ColumnName,Original, Modified, ErrorType, Fixing):\n",
    "    erlistItem = [indexOfdf,Id,ColumnName,Original, Modified, ErrorType, Fixing]\n",
    "    errlist.loc[len(errlist)] = erlistItem"
   ]
  },
  {
   "cell_type": "code",
   "execution_count": 12,
   "metadata": {},
   "outputs": [
    {
     "data": {
      "text/html": [
       "<div>\n",
       "<style scoped>\n",
       "    .dataframe tbody tr th:only-of-type {\n",
       "        vertical-align: middle;\n",
       "    }\n",
       "\n",
       "    .dataframe tbody tr th {\n",
       "        vertical-align: top;\n",
       "    }\n",
       "\n",
       "    .dataframe thead th {\n",
       "        text-align: right;\n",
       "    }\n",
       "</style>\n",
       "<table border=\"1\" class=\"dataframe\">\n",
       "  <thead>\n",
       "    <tr style=\"text-align: right;\">\n",
       "      <th></th>\n",
       "      <th>indexOfdf</th>\n",
       "      <th>Id</th>\n",
       "      <th>ColumnName</th>\n",
       "      <th>Original</th>\n",
       "      <th>Modified</th>\n",
       "      <th>ErrorType</th>\n",
       "      <th>Fixing</th>\n",
       "    </tr>\n",
       "  </thead>\n",
       "  <tbody>\n",
       "  </tbody>\n",
       "</table>\n",
       "</div>"
      ],
      "text/plain": [
       "Empty DataFrame\n",
       "Columns: [indexOfdf, Id, ColumnName, Original, Modified, ErrorType, Fixing]\n",
       "Index: []"
      ]
     },
     "execution_count": 12,
     "metadata": {},
     "output_type": "execute_result"
    }
   ],
   "source": [
    "\n",
    "\n",
    "#error create and recorder\n",
    "itemlist = ['indexOfdf', 'Id', 'ColumnName', 'Original', 'Modified', 'ErrorType', 'Fixing']\n",
    "errlist = pd.DataFrame(columns = itemlist)\n",
    "errlist"
   ]
  },
  {
   "cell_type": "code",
   "execution_count": 13,
   "metadata": {},
   "outputs": [
    {
     "name": "stdout",
     "output_type": "stream",
     "text": [
      "<class 'pandas.core.frame.DataFrame'>\n",
      "RangeIndex: 50703 entries, 0 to 50702\n",
      "Data columns (total 11 columns):\n",
      " #   Column        Non-Null Count  Dtype \n",
      "---  ------        --------------  ----- \n",
      " 0   Id            50703 non-null  object\n",
      " 1   Title         50703 non-null  object\n",
      " 2   Location      50703 non-null  object\n",
      " 3   Company       49678 non-null  object\n",
      " 4   Category      50703 non-null  object\n",
      " 5   Salary        49953 non-null  object\n",
      " 6   OpenDate      50703 non-null  object\n",
      " 7   CloseDate     50703 non-null  object\n",
      " 8   ContractTime  48935 non-null  object\n",
      " 9   SourceName    50703 non-null  object\n",
      " 10  ContractType  36572 non-null  object\n",
      "dtypes: object(11)\n",
      "memory usage: 4.3+ MB\n"
     ]
    }
   ],
   "source": [
    "# Code to audit data\n",
    "#See the data types\n",
    "df.info()"
   ]
  },
  {
   "cell_type": "markdown",
   "metadata": {},
   "source": [
    "### 2.1 Missing Values\n"
   ]
  },
  {
   "cell_type": "markdown",
   "metadata": {},
   "source": [
    "The following sections and subhheadings will deal with all missing values, that is values that are defined missing via the panda function isnull(). The following subheadings besides the last sbuheading will be used to update our error dataframe, with the appropriate values."
   ]
  },
  {
   "cell_type": "code",
   "execution_count": 14,
   "metadata": {},
   "outputs": [
    {
     "data": {
      "text/plain": [
       "Id                  0\n",
       "Title               0\n",
       "Location            0\n",
       "Company          1025\n",
       "Category            0\n",
       "Salary            750\n",
       "OpenDate            0\n",
       "CloseDate           0\n",
       "ContractTime     1768\n",
       "SourceName          0\n",
       "ContractType    14131\n",
       "dtype: int64"
      ]
     },
     "execution_count": 14,
     "metadata": {},
     "output_type": "execute_result"
    }
   ],
   "source": [
    "#number of missing values corresponding to column\n",
    "df.isnull().sum()"
   ]
  },
  {
   "cell_type": "markdown",
   "metadata": {},
   "source": [
    "#### 2.1.1 Missing values -  Salary"
   ]
  },
  {
   "cell_type": "code",
   "execution_count": 15,
   "metadata": {},
   "outputs": [
    {
     "data": {
      "text/html": [
       "<div>\n",
       "<style scoped>\n",
       "    .dataframe tbody tr th:only-of-type {\n",
       "        vertical-align: middle;\n",
       "    }\n",
       "\n",
       "    .dataframe tbody tr th {\n",
       "        vertical-align: top;\n",
       "    }\n",
       "\n",
       "    .dataframe thead th {\n",
       "        text-align: right;\n",
       "    }\n",
       "</style>\n",
       "<table border=\"1\" class=\"dataframe\">\n",
       "  <thead>\n",
       "    <tr style=\"text-align: right;\">\n",
       "      <th></th>\n",
       "      <th>Id</th>\n",
       "      <th>Title</th>\n",
       "      <th>Location</th>\n",
       "      <th>Company</th>\n",
       "      <th>Category</th>\n",
       "      <th>Salary</th>\n",
       "      <th>OpenDate</th>\n",
       "      <th>CloseDate</th>\n",
       "      <th>ContractTime</th>\n",
       "      <th>SourceName</th>\n",
       "      <th>ContractType</th>\n",
       "    </tr>\n",
       "  </thead>\n",
       "  <tbody>\n",
       "    <tr>\n",
       "      <th>5247</th>\n",
       "      <td>70656318</td>\n",
       "      <td>Junior Campaign Manager</td>\n",
       "      <td>West Midlands</td>\n",
       "      <td>AF SELECTION</td>\n",
       "      <td>PR, Advertising &amp; Marketing Jobs</td>\n",
       "      <td>None</td>\n",
       "      <td>20120903T150000</td>\n",
       "      <td>20121003T150000</td>\n",
       "      <td>permanent</td>\n",
       "      <td>jobs.guardian.co.uk</td>\n",
       "      <td>full_time</td>\n",
       "    </tr>\n",
       "    <tr>\n",
       "      <th>5268</th>\n",
       "      <td>68384975</td>\n",
       "      <td>PA required for Maternity Cover in well establ...</td>\n",
       "      <td>London</td>\n",
       "      <td>VICTORIA WALL ASSOCIATES</td>\n",
       "      <td>Accounting &amp; Finance Jobs</td>\n",
       "      <td>None</td>\n",
       "      <td>20120323T000000</td>\n",
       "      <td>20120422T000000</td>\n",
       "      <td>contract</td>\n",
       "      <td>jobs.guardian.co.uk</td>\n",
       "      <td>full_time</td>\n",
       "    </tr>\n",
       "    <tr>\n",
       "      <th>5271</th>\n",
       "      <td>71878134</td>\n",
       "      <td>Sociology Teacher  South London</td>\n",
       "      <td>Central London</td>\n",
       "      <td>CLASSROOM LTD</td>\n",
       "      <td>Teaching Jobs</td>\n",
       "      <td>None</td>\n",
       "      <td>20130111T150000</td>\n",
       "      <td>20130312T150000</td>\n",
       "      <td>contract</td>\n",
       "      <td>jobs.guardian.co.uk</td>\n",
       "      <td>full_time</td>\n",
       "    </tr>\n",
       "    <tr>\n",
       "      <th>5285</th>\n",
       "      <td>69643671</td>\n",
       "      <td>Integrated Account Manager</td>\n",
       "      <td>Manchester</td>\n",
       "      <td>NETWORK MARKETING</td>\n",
       "      <td>PR, Advertising &amp; Marketing Jobs</td>\n",
       "      <td>None</td>\n",
       "      <td>20130803T000000</td>\n",
       "      <td>20131002T000000</td>\n",
       "      <td>permanent</td>\n",
       "      <td>jobs.guardian.co.uk</td>\n",
       "      <td>full_time</td>\n",
       "    </tr>\n",
       "    <tr>\n",
       "      <th>5286</th>\n",
       "      <td>71854711</td>\n",
       "      <td>Teaching Assistant (AF****N)</td>\n",
       "      <td>Essex</td>\n",
       "      <td>THORPEDENE PRIMARY SCHOOL</td>\n",
       "      <td>Teaching Jobs</td>\n",
       "      <td>None</td>\n",
       "      <td>20130827T120000</td>\n",
       "      <td>20130910T120000</td>\n",
       "      <td>contract</td>\n",
       "      <td>jobs.guardian.co.uk</td>\n",
       "      <td>part_time</td>\n",
       "    </tr>\n",
       "  </tbody>\n",
       "</table>\n",
       "</div>"
      ],
      "text/plain": [
       "            Id                                              Title  \\\n",
       "5247  70656318                            Junior Campaign Manager   \n",
       "5268  68384975  PA required for Maternity Cover in well establ...   \n",
       "5271  71878134                    Sociology Teacher  South London   \n",
       "5285  69643671                         Integrated Account Manager   \n",
       "5286  71854711                       Teaching Assistant (AF****N)   \n",
       "\n",
       "            Location                    Company  \\\n",
       "5247   West Midlands               AF SELECTION   \n",
       "5268          London   VICTORIA WALL ASSOCIATES   \n",
       "5271  Central London              CLASSROOM LTD   \n",
       "5285      Manchester          NETWORK MARKETING   \n",
       "5286           Essex  THORPEDENE PRIMARY SCHOOL   \n",
       "\n",
       "                              Category Salary         OpenDate  \\\n",
       "5247  PR, Advertising & Marketing Jobs   None  20120903T150000   \n",
       "5268         Accounting & Finance Jobs   None  20120323T000000   \n",
       "5271                     Teaching Jobs   None  20130111T150000   \n",
       "5285  PR, Advertising & Marketing Jobs   None  20130803T000000   \n",
       "5286                     Teaching Jobs   None  20130827T120000   \n",
       "\n",
       "            CloseDate ContractTime           SourceName ContractType  \n",
       "5247  20121003T150000    permanent  jobs.guardian.co.uk    full_time  \n",
       "5268  20120422T000000     contract  jobs.guardian.co.uk    full_time  \n",
       "5271  20130312T150000     contract  jobs.guardian.co.uk    full_time  \n",
       "5285  20131002T000000    permanent  jobs.guardian.co.uk    full_time  \n",
       "5286  20130910T120000     contract  jobs.guardian.co.uk    part_time  "
      ]
     },
     "execution_count": 15,
     "metadata": {},
     "output_type": "execute_result"
    }
   ],
   "source": [
    "#create sub datafram that where Salary is null\n",
    "df[df['Salary'].isnull()].head()\n"
   ]
  },
  {
   "cell_type": "code",
   "execution_count": 16,
   "metadata": {},
   "outputs": [
    {
     "name": "stdout",
     "output_type": "stream",
     "text": [
      "750\n"
     ]
    }
   ],
   "source": [
    "#assign index of null salary values to a list\n",
    "index_list = df.index[df['Salary'].isnull()].tolist()\n",
    "print(len(index_list))\n"
   ]
  },
  {
   "cell_type": "code",
   "execution_count": 17,
   "metadata": {},
   "outputs": [
    {
     "name": "stdout",
     "output_type": "stream",
     "text": [
      "750\n"
     ]
    }
   ],
   "source": [
    "#assign value of 'Id' column that contains missing value to list\n",
    "filter_df= df[df['Salary'].isnull()]\n",
    "id_list = filter_df['Id'].values.tolist()\n",
    "print(len(id_list))\n"
   ]
  },
  {
   "cell_type": "code",
   "execution_count": 18,
   "metadata": {},
   "outputs": [],
   "source": [
    "#update errlist with respectively id and index\n",
    "for i in range(len(index_list)):\n",
    "    updateErlist(index_list[i], id_list[i], 'Salary', 'NULL', '0.00','missing values','change NULL to 0.00 ')\n"
   ]
  },
  {
   "cell_type": "code",
   "execution_count": 19,
   "metadata": {},
   "outputs": [
    {
     "name": "stdout",
     "output_type": "stream",
     "text": [
      "(750, 7)\n"
     ]
    },
    {
     "data": {
      "text/html": [
       "<div>\n",
       "<style scoped>\n",
       "    .dataframe tbody tr th:only-of-type {\n",
       "        vertical-align: middle;\n",
       "    }\n",
       "\n",
       "    .dataframe tbody tr th {\n",
       "        vertical-align: top;\n",
       "    }\n",
       "\n",
       "    .dataframe thead th {\n",
       "        text-align: right;\n",
       "    }\n",
       "</style>\n",
       "<table border=\"1\" class=\"dataframe\">\n",
       "  <thead>\n",
       "    <tr style=\"text-align: right;\">\n",
       "      <th></th>\n",
       "      <th>indexOfdf</th>\n",
       "      <th>Id</th>\n",
       "      <th>ColumnName</th>\n",
       "      <th>Original</th>\n",
       "      <th>Modified</th>\n",
       "      <th>ErrorType</th>\n",
       "      <th>Fixing</th>\n",
       "    </tr>\n",
       "  </thead>\n",
       "  <tbody>\n",
       "    <tr>\n",
       "      <th>0</th>\n",
       "      <td>5247</td>\n",
       "      <td>70656318</td>\n",
       "      <td>Salary</td>\n",
       "      <td>NULL</td>\n",
       "      <td>0.00</td>\n",
       "      <td>missing values</td>\n",
       "      <td>change NULL to 0.00</td>\n",
       "    </tr>\n",
       "    <tr>\n",
       "      <th>1</th>\n",
       "      <td>5268</td>\n",
       "      <td>68384975</td>\n",
       "      <td>Salary</td>\n",
       "      <td>NULL</td>\n",
       "      <td>0.00</td>\n",
       "      <td>missing values</td>\n",
       "      <td>change NULL to 0.00</td>\n",
       "    </tr>\n",
       "    <tr>\n",
       "      <th>2</th>\n",
       "      <td>5271</td>\n",
       "      <td>71878134</td>\n",
       "      <td>Salary</td>\n",
       "      <td>NULL</td>\n",
       "      <td>0.00</td>\n",
       "      <td>missing values</td>\n",
       "      <td>change NULL to 0.00</td>\n",
       "    </tr>\n",
       "    <tr>\n",
       "      <th>3</th>\n",
       "      <td>5285</td>\n",
       "      <td>69643671</td>\n",
       "      <td>Salary</td>\n",
       "      <td>NULL</td>\n",
       "      <td>0.00</td>\n",
       "      <td>missing values</td>\n",
       "      <td>change NULL to 0.00</td>\n",
       "    </tr>\n",
       "    <tr>\n",
       "      <th>4</th>\n",
       "      <td>5286</td>\n",
       "      <td>71854711</td>\n",
       "      <td>Salary</td>\n",
       "      <td>NULL</td>\n",
       "      <td>0.00</td>\n",
       "      <td>missing values</td>\n",
       "      <td>change NULL to 0.00</td>\n",
       "    </tr>\n",
       "  </tbody>\n",
       "</table>\n",
       "</div>"
      ],
      "text/plain": [
       "  indexOfdf        Id ColumnName Original Modified       ErrorType  \\\n",
       "0      5247  70656318     Salary     NULL     0.00  missing values   \n",
       "1      5268  68384975     Salary     NULL     0.00  missing values   \n",
       "2      5271  71878134     Salary     NULL     0.00  missing values   \n",
       "3      5285  69643671     Salary     NULL     0.00  missing values   \n",
       "4      5286  71854711     Salary     NULL     0.00  missing values   \n",
       "\n",
       "                 Fixing  \n",
       "0  change NULL to 0.00   \n",
       "1  change NULL to 0.00   \n",
       "2  change NULL to 0.00   \n",
       "3  change NULL to 0.00   \n",
       "4  change NULL to 0.00   "
      ]
     },
     "execution_count": 19,
     "metadata": {},
     "output_type": "execute_result"
    }
   ],
   "source": [
    "#confirming errlist df\n",
    "print(errlist.shape)\n",
    "errlist.head()\n"
   ]
  },
  {
   "cell_type": "markdown",
   "metadata": {},
   "source": [
    "#### 2.1.2 Missing values - Company"
   ]
  },
  {
   "cell_type": "code",
   "execution_count": 20,
   "metadata": {},
   "outputs": [
    {
     "name": "stdout",
     "output_type": "stream",
     "text": [
      "1025\n"
     ]
    }
   ],
   "source": [
    "#assign index of null salary values to a list\n",
    "index_list = df.index[df['Company'].isnull()].tolist()\n",
    "print(len(index_list))"
   ]
  },
  {
   "cell_type": "code",
   "execution_count": 21,
   "metadata": {},
   "outputs": [
    {
     "name": "stdout",
     "output_type": "stream",
     "text": [
      "1025\n"
     ]
    }
   ],
   "source": [
    "#assign value of 'Id' column that contains missing value to list\n",
    "filter_df= df[df['Company'].isnull()]\n",
    "id_list = filter_df['Id'].values.tolist()\n",
    "print(len(id_list))\n"
   ]
  },
  {
   "cell_type": "code",
   "execution_count": 22,
   "metadata": {},
   "outputs": [],
   "source": [
    "#update errlist with respectively id and index\n",
    "for i in range(len(index_list)):\n",
    "    updateErlist(index_list[i], id_list[i], 'Company', 'NULL', '0.00','missing values','change NULL to \"non-specific\" ')"
   ]
  },
  {
   "cell_type": "code",
   "execution_count": 23,
   "metadata": {},
   "outputs": [
    {
     "name": "stdout",
     "output_type": "stream",
     "text": [
      "(1775, 7)\n"
     ]
    },
    {
     "data": {
      "text/html": [
       "<div>\n",
       "<style scoped>\n",
       "    .dataframe tbody tr th:only-of-type {\n",
       "        vertical-align: middle;\n",
       "    }\n",
       "\n",
       "    .dataframe tbody tr th {\n",
       "        vertical-align: top;\n",
       "    }\n",
       "\n",
       "    .dataframe thead th {\n",
       "        text-align: right;\n",
       "    }\n",
       "</style>\n",
       "<table border=\"1\" class=\"dataframe\">\n",
       "  <thead>\n",
       "    <tr style=\"text-align: right;\">\n",
       "      <th></th>\n",
       "      <th>indexOfdf</th>\n",
       "      <th>Id</th>\n",
       "      <th>ColumnName</th>\n",
       "      <th>Original</th>\n",
       "      <th>Modified</th>\n",
       "      <th>ErrorType</th>\n",
       "      <th>Fixing</th>\n",
       "    </tr>\n",
       "  </thead>\n",
       "  <tbody>\n",
       "    <tr>\n",
       "      <th>1770</th>\n",
       "      <td>42559</td>\n",
       "      <td>66071697</td>\n",
       "      <td>Company</td>\n",
       "      <td>NULL</td>\n",
       "      <td>0.00</td>\n",
       "      <td>missing values</td>\n",
       "      <td>change NULL to \"non-specific\"</td>\n",
       "    </tr>\n",
       "    <tr>\n",
       "      <th>1771</th>\n",
       "      <td>50652</td>\n",
       "      <td>69005978</td>\n",
       "      <td>Company</td>\n",
       "      <td>NULL</td>\n",
       "      <td>0.00</td>\n",
       "      <td>missing values</td>\n",
       "      <td>change NULL to \"non-specific\"</td>\n",
       "    </tr>\n",
       "    <tr>\n",
       "      <th>1772</th>\n",
       "      <td>50653</td>\n",
       "      <td>72121207</td>\n",
       "      <td>Company</td>\n",
       "      <td>NULL</td>\n",
       "      <td>0.00</td>\n",
       "      <td>missing values</td>\n",
       "      <td>change NULL to \"non-specific\"</td>\n",
       "    </tr>\n",
       "    <tr>\n",
       "      <th>1773</th>\n",
       "      <td>50654</td>\n",
       "      <td>68223651</td>\n",
       "      <td>Company</td>\n",
       "      <td>NULL</td>\n",
       "      <td>0.00</td>\n",
       "      <td>missing values</td>\n",
       "      <td>change NULL to \"non-specific\"</td>\n",
       "    </tr>\n",
       "    <tr>\n",
       "      <th>1774</th>\n",
       "      <td>50655</td>\n",
       "      <td>70769728</td>\n",
       "      <td>Company</td>\n",
       "      <td>NULL</td>\n",
       "      <td>0.00</td>\n",
       "      <td>missing values</td>\n",
       "      <td>change NULL to \"non-specific\"</td>\n",
       "    </tr>\n",
       "  </tbody>\n",
       "</table>\n",
       "</div>"
      ],
      "text/plain": [
       "     indexOfdf        Id ColumnName Original Modified       ErrorType  \\\n",
       "1770     42559  66071697    Company     NULL     0.00  missing values   \n",
       "1771     50652  69005978    Company     NULL     0.00  missing values   \n",
       "1772     50653  72121207    Company     NULL     0.00  missing values   \n",
       "1773     50654  68223651    Company     NULL     0.00  missing values   \n",
       "1774     50655  70769728    Company     NULL     0.00  missing values   \n",
       "\n",
       "                              Fixing  \n",
       "1770  change NULL to \"non-specific\"   \n",
       "1771  change NULL to \"non-specific\"   \n",
       "1772  change NULL to \"non-specific\"   \n",
       "1773  change NULL to \"non-specific\"   \n",
       "1774  change NULL to \"non-specific\"   "
      ]
     },
     "execution_count": 23,
     "metadata": {},
     "output_type": "execute_result"
    }
   ],
   "source": [
    "print(errlist.shape)\n",
    "errlist.tail()\n"
   ]
  },
  {
   "cell_type": "markdown",
   "metadata": {},
   "source": [
    "#### 2.1.3 Missing values - ContractTime"
   ]
  },
  {
   "cell_type": "code",
   "execution_count": 24,
   "metadata": {},
   "outputs": [
    {
     "name": "stdout",
     "output_type": "stream",
     "text": [
      "1768\n"
     ]
    }
   ],
   "source": [
    "#assign index of null salary values to a list\n",
    "index_list = df.index[df['ContractTime'].isnull()].tolist()\n",
    "print(len(index_list))"
   ]
  },
  {
   "cell_type": "code",
   "execution_count": 25,
   "metadata": {},
   "outputs": [
    {
     "name": "stdout",
     "output_type": "stream",
     "text": [
      "1768\n"
     ]
    }
   ],
   "source": [
    "#assign value of 'Id' column that contains missing value to list\n",
    "filter_df= df[df['ContractTime'].isnull()]\n",
    "id_list = filter_df['Id'].values.tolist()\n",
    "print(len(id_list))"
   ]
  },
  {
   "cell_type": "code",
   "execution_count": 26,
   "metadata": {},
   "outputs": [],
   "source": [
    "#update errlist with respectively id and index\n",
    "for i in range(len(index_list)):\n",
    "    updateErlist(index_list[i], id_list[i], 'ContractTime', 'NULL', '0.00','missing values','change NULL to \"non-specific\" ')"
   ]
  },
  {
   "cell_type": "code",
   "execution_count": 27,
   "metadata": {},
   "outputs": [
    {
     "name": "stdout",
     "output_type": "stream",
     "text": [
      "(3543, 7)\n"
     ]
    },
    {
     "data": {
      "text/html": [
       "<div>\n",
       "<style scoped>\n",
       "    .dataframe tbody tr th:only-of-type {\n",
       "        vertical-align: middle;\n",
       "    }\n",
       "\n",
       "    .dataframe tbody tr th {\n",
       "        vertical-align: top;\n",
       "    }\n",
       "\n",
       "    .dataframe thead th {\n",
       "        text-align: right;\n",
       "    }\n",
       "</style>\n",
       "<table border=\"1\" class=\"dataframe\">\n",
       "  <thead>\n",
       "    <tr style=\"text-align: right;\">\n",
       "      <th></th>\n",
       "      <th>indexOfdf</th>\n",
       "      <th>Id</th>\n",
       "      <th>ColumnName</th>\n",
       "      <th>Original</th>\n",
       "      <th>Modified</th>\n",
       "      <th>ErrorType</th>\n",
       "      <th>Fixing</th>\n",
       "    </tr>\n",
       "  </thead>\n",
       "  <tbody>\n",
       "    <tr>\n",
       "      <th>3538</th>\n",
       "      <td>50671</td>\n",
       "      <td>70166343</td>\n",
       "      <td>ContractTime</td>\n",
       "      <td>NULL</td>\n",
       "      <td>0.00</td>\n",
       "      <td>missing values</td>\n",
       "      <td>change NULL to \"non-specific\"</td>\n",
       "    </tr>\n",
       "    <tr>\n",
       "      <th>3539</th>\n",
       "      <td>50672</td>\n",
       "      <td>68390853</td>\n",
       "      <td>ContractTime</td>\n",
       "      <td>NULL</td>\n",
       "      <td>0.00</td>\n",
       "      <td>missing values</td>\n",
       "      <td>change NULL to \"non-specific\"</td>\n",
       "    </tr>\n",
       "    <tr>\n",
       "      <th>3540</th>\n",
       "      <td>50673</td>\n",
       "      <td>70578116</td>\n",
       "      <td>ContractTime</td>\n",
       "      <td>NULL</td>\n",
       "      <td>0.00</td>\n",
       "      <td>missing values</td>\n",
       "      <td>change NULL to \"non-specific\"</td>\n",
       "    </tr>\n",
       "    <tr>\n",
       "      <th>3541</th>\n",
       "      <td>50674</td>\n",
       "      <td>71557306</td>\n",
       "      <td>ContractTime</td>\n",
       "      <td>NULL</td>\n",
       "      <td>0.00</td>\n",
       "      <td>missing values</td>\n",
       "      <td>change NULL to \"non-specific\"</td>\n",
       "    </tr>\n",
       "    <tr>\n",
       "      <th>3542</th>\n",
       "      <td>50677</td>\n",
       "      <td>69610658</td>\n",
       "      <td>ContractTime</td>\n",
       "      <td>NULL</td>\n",
       "      <td>0.00</td>\n",
       "      <td>missing values</td>\n",
       "      <td>change NULL to \"non-specific\"</td>\n",
       "    </tr>\n",
       "  </tbody>\n",
       "</table>\n",
       "</div>"
      ],
      "text/plain": [
       "     indexOfdf        Id    ColumnName Original Modified       ErrorType  \\\n",
       "3538     50671  70166343  ContractTime     NULL     0.00  missing values   \n",
       "3539     50672  68390853  ContractTime     NULL     0.00  missing values   \n",
       "3540     50673  70578116  ContractTime     NULL     0.00  missing values   \n",
       "3541     50674  71557306  ContractTime     NULL     0.00  missing values   \n",
       "3542     50677  69610658  ContractTime     NULL     0.00  missing values   \n",
       "\n",
       "                              Fixing  \n",
       "3538  change NULL to \"non-specific\"   \n",
       "3539  change NULL to \"non-specific\"   \n",
       "3540  change NULL to \"non-specific\"   \n",
       "3541  change NULL to \"non-specific\"   \n",
       "3542  change NULL to \"non-specific\"   "
      ]
     },
     "execution_count": 27,
     "metadata": {},
     "output_type": "execute_result"
    }
   ],
   "source": [
    "print(errlist.shape)\n",
    "errlist.tail()"
   ]
  },
  {
   "cell_type": "markdown",
   "metadata": {},
   "source": [
    "#### 2.1.4 Missing values - ContractType"
   ]
  },
  {
   "cell_type": "code",
   "execution_count": 28,
   "metadata": {},
   "outputs": [
    {
     "name": "stdout",
     "output_type": "stream",
     "text": [
      "14131\n"
     ]
    }
   ],
   "source": [
    "#assign index of null salary values to a list\n",
    "index_list = df.index[df['ContractType'].isnull()].tolist()\n",
    "print(len(index_list))"
   ]
  },
  {
   "cell_type": "code",
   "execution_count": 29,
   "metadata": {},
   "outputs": [
    {
     "name": "stdout",
     "output_type": "stream",
     "text": [
      "14131\n"
     ]
    }
   ],
   "source": [
    "#assign value of 'Id' column that contains missing value to list\n",
    "filter_df= df[df['ContractType'].isnull()]\n",
    "id_list = filter_df['Id'].values.tolist()\n",
    "print(len(id_list))"
   ]
  },
  {
   "cell_type": "code",
   "execution_count": 30,
   "metadata": {},
   "outputs": [],
   "source": [
    "#update errlist with respectively id and index\n",
    "for i in range(len(index_list)):\n",
    "    updateErlist(index_list[i], id_list[i], 'ContractType', 'NULL', '0.00','missing values','change NULL to \"non-specific\" ')"
   ]
  },
  {
   "cell_type": "code",
   "execution_count": 31,
   "metadata": {},
   "outputs": [
    {
     "name": "stdout",
     "output_type": "stream",
     "text": [
      "(17674, 7)\n"
     ]
    },
    {
     "data": {
      "text/html": [
       "<div>\n",
       "<style scoped>\n",
       "    .dataframe tbody tr th:only-of-type {\n",
       "        vertical-align: middle;\n",
       "    }\n",
       "\n",
       "    .dataframe tbody tr th {\n",
       "        vertical-align: top;\n",
       "    }\n",
       "\n",
       "    .dataframe thead th {\n",
       "        text-align: right;\n",
       "    }\n",
       "</style>\n",
       "<table border=\"1\" class=\"dataframe\">\n",
       "  <thead>\n",
       "    <tr style=\"text-align: right;\">\n",
       "      <th></th>\n",
       "      <th>indexOfdf</th>\n",
       "      <th>Id</th>\n",
       "      <th>ColumnName</th>\n",
       "      <th>Original</th>\n",
       "      <th>Modified</th>\n",
       "      <th>ErrorType</th>\n",
       "      <th>Fixing</th>\n",
       "    </tr>\n",
       "  </thead>\n",
       "  <tbody>\n",
       "    <tr>\n",
       "      <th>17669</th>\n",
       "      <td>50683</td>\n",
       "      <td>69610671</td>\n",
       "      <td>ContractType</td>\n",
       "      <td>NULL</td>\n",
       "      <td>0.00</td>\n",
       "      <td>missing values</td>\n",
       "      <td>change NULL to \"non-specific\"</td>\n",
       "    </tr>\n",
       "    <tr>\n",
       "      <th>17670</th>\n",
       "      <td>50684</td>\n",
       "      <td>69610683</td>\n",
       "      <td>ContractType</td>\n",
       "      <td>NULL</td>\n",
       "      <td>0.00</td>\n",
       "      <td>missing values</td>\n",
       "      <td>change NULL to \"non-specific\"</td>\n",
       "    </tr>\n",
       "    <tr>\n",
       "      <th>17671</th>\n",
       "      <td>50685</td>\n",
       "      <td>72609869</td>\n",
       "      <td>ContractType</td>\n",
       "      <td>NULL</td>\n",
       "      <td>0.00</td>\n",
       "      <td>missing values</td>\n",
       "      <td>change NULL to \"non-specific\"</td>\n",
       "    </tr>\n",
       "    <tr>\n",
       "      <th>17672</th>\n",
       "      <td>50686</td>\n",
       "      <td>69610641</td>\n",
       "      <td>ContractType</td>\n",
       "      <td>NULL</td>\n",
       "      <td>0.00</td>\n",
       "      <td>missing values</td>\n",
       "      <td>change NULL to \"non-specific\"</td>\n",
       "    </tr>\n",
       "    <tr>\n",
       "      <th>17673</th>\n",
       "      <td>50687</td>\n",
       "      <td>72609821</td>\n",
       "      <td>ContractType</td>\n",
       "      <td>NULL</td>\n",
       "      <td>0.00</td>\n",
       "      <td>missing values</td>\n",
       "      <td>change NULL to \"non-specific\"</td>\n",
       "    </tr>\n",
       "  </tbody>\n",
       "</table>\n",
       "</div>"
      ],
      "text/plain": [
       "      indexOfdf        Id    ColumnName Original Modified       ErrorType  \\\n",
       "17669     50683  69610671  ContractType     NULL     0.00  missing values   \n",
       "17670     50684  69610683  ContractType     NULL     0.00  missing values   \n",
       "17671     50685  72609869  ContractType     NULL     0.00  missing values   \n",
       "17672     50686  69610641  ContractType     NULL     0.00  missing values   \n",
       "17673     50687  72609821  ContractType     NULL     0.00  missing values   \n",
       "\n",
       "                               Fixing  \n",
       "17669  change NULL to \"non-specific\"   \n",
       "17670  change NULL to \"non-specific\"   \n",
       "17671  change NULL to \"non-specific\"   \n",
       "17672  change NULL to \"non-specific\"   \n",
       "17673  change NULL to \"non-specific\"   "
      ]
     },
     "execution_count": 31,
     "metadata": {},
     "output_type": "execute_result"
    }
   ],
   "source": [
    "print(errlist.shape)\n",
    "errlist.tail()"
   ]
  },
  {
   "cell_type": "markdown",
   "metadata": {},
   "source": [
    "#### 2.1.5 Missing values - Cleaning all missing values"
   ]
  },
  {
   "cell_type": "code",
   "execution_count": 32,
   "metadata": {},
   "outputs": [
    {
     "data": {
      "text/plain": [
       "Id              0\n",
       "Title           0\n",
       "Location        0\n",
       "Company         0\n",
       "Category        0\n",
       "Salary          0\n",
       "OpenDate        0\n",
       "CloseDate       0\n",
       "ContractTime    0\n",
       "SourceName      0\n",
       "ContractType    0\n",
       "dtype: int64"
      ]
     },
     "execution_count": 32,
     "metadata": {},
     "output_type": "execute_result"
    }
   ],
   "source": [
    "#fill in a string datatypes as 'nonspecific' and Salary as '0.0' as it will be a float datatype\n",
    "df = df.fillna({'Company': 'non-specific','Salary':'0.00', 'ContractTime': 'non-specific', 'ContractType': 'non-specific'})\n",
    "df.isnull().sum()"
   ]
  },
  {
   "cell_type": "markdown",
   "metadata": {},
   "source": [
    "## 2.2 Duplication"
   ]
  },
  {
   "cell_type": "markdown",
   "metadata": {},
   "source": [
    "This section will detect and clean any duplicated values in the dataset"
   ]
  },
  {
   "cell_type": "code",
   "execution_count": 33,
   "metadata": {},
   "outputs": [
    {
     "data": {
      "text/html": [
       "<div>\n",
       "<style scoped>\n",
       "    .dataframe tbody tr th:only-of-type {\n",
       "        vertical-align: middle;\n",
       "    }\n",
       "\n",
       "    .dataframe tbody tr th {\n",
       "        vertical-align: top;\n",
       "    }\n",
       "\n",
       "    .dataframe thead th {\n",
       "        text-align: right;\n",
       "    }\n",
       "</style>\n",
       "<table border=\"1\" class=\"dataframe\">\n",
       "  <thead>\n",
       "    <tr style=\"text-align: right;\">\n",
       "      <th></th>\n",
       "      <th>Id</th>\n",
       "      <th>Title</th>\n",
       "      <th>Location</th>\n",
       "      <th>Company</th>\n",
       "      <th>Category</th>\n",
       "      <th>Salary</th>\n",
       "      <th>OpenDate</th>\n",
       "      <th>CloseDate</th>\n",
       "      <th>ContractTime</th>\n",
       "      <th>SourceName</th>\n",
       "      <th>ContractType</th>\n",
       "    </tr>\n",
       "  </thead>\n",
       "  <tbody>\n",
       "  </tbody>\n",
       "</table>\n",
       "</div>"
      ],
      "text/plain": [
       "Empty DataFrame\n",
       "Columns: [Id, Title, Location, Company, Category, Salary, OpenDate, CloseDate, ContractTime, SourceName, ContractType]\n",
       "Index: []"
      ]
     },
     "execution_count": 33,
     "metadata": {},
     "output_type": "execute_result"
    }
   ],
   "source": [
    "duplicated = df.duplicated(keep = False)\n",
    "df[duplicated]"
   ]
  },
  {
   "cell_type": "markdown",
   "metadata": {},
   "source": [
    "The empty duplicated dataset, suggests that there are no duplicate rows within the dataset. Hence no further action is required"
   ]
  },
  {
   "cell_type": "markdown",
   "metadata": {},
   "source": [
    "## 2.3 Inconsistency/ Mispellings"
   ]
  },
  {
   "cell_type": "markdown",
   "metadata": {},
   "source": [
    "Section 2.3 will explore the possibiliies of any misspelt values as well as inconsistent values. It will first record these errors in the error datafrae before cleaning these errors appropriately."
   ]
  },
  {
   "cell_type": "markdown",
   "metadata": {},
   "source": [
    "### 2.3.1 - ContractTime"
   ]
  },
  {
   "cell_type": "code",
   "execution_count": 34,
   "metadata": {},
   "outputs": [
    {
     "data": {
      "text/plain": [
       "permanent       30324\n",
       "                 6981\n",
       "contract         5579\n",
       "N/A              4060\n",
       "-                1991\n",
       "non-specific     1768\n",
       "Name: ContractTime, dtype: int64"
      ]
     },
     "execution_count": 34,
     "metadata": {},
     "output_type": "execute_result"
    }
   ],
   "source": [
    "#checking values count of ContractTime\n",
    "df['ContractTime'].value_counts()"
   ]
  },
  {
   "cell_type": "markdown",
   "metadata": {},
   "source": [
    "From the above value_counts(), we can see that there are data inconsistency, as ContractTime can only take the values 'permanent', 'contract' or 'non-specific'. We assume an empty string, 'N/A' and '-', represent missing values and should be replaced with 'non-specific'"
   ]
  },
  {
   "cell_type": "markdown",
   "metadata": {},
   "source": [
    "#### 2.3.1.1 ContractTime - \"N/A\" "
   ]
  },
  {
   "cell_type": "code",
   "execution_count": 35,
   "metadata": {},
   "outputs": [
    {
     "name": "stdout",
     "output_type": "stream",
     "text": [
      "(4060, 11)\n"
     ]
    },
    {
     "data": {
      "text/html": [
       "<div>\n",
       "<style scoped>\n",
       "    .dataframe tbody tr th:only-of-type {\n",
       "        vertical-align: middle;\n",
       "    }\n",
       "\n",
       "    .dataframe tbody tr th {\n",
       "        vertical-align: top;\n",
       "    }\n",
       "\n",
       "    .dataframe thead th {\n",
       "        text-align: right;\n",
       "    }\n",
       "</style>\n",
       "<table border=\"1\" class=\"dataframe\">\n",
       "  <thead>\n",
       "    <tr style=\"text-align: right;\">\n",
       "      <th></th>\n",
       "      <th>Id</th>\n",
       "      <th>Title</th>\n",
       "      <th>Location</th>\n",
       "      <th>Company</th>\n",
       "      <th>Category</th>\n",
       "      <th>Salary</th>\n",
       "      <th>OpenDate</th>\n",
       "      <th>CloseDate</th>\n",
       "      <th>ContractTime</th>\n",
       "      <th>SourceName</th>\n",
       "      <th>ContractType</th>\n",
       "    </tr>\n",
       "  </thead>\n",
       "  <tbody>\n",
       "    <tr>\n",
       "      <th>6384</th>\n",
       "      <td>66743073</td>\n",
       "      <td>Customer Accounts Advisor</td>\n",
       "      <td>Harlow</td>\n",
       "      <td>BrightHouse</td>\n",
       "      <td>Accounting &amp; Finance Jobs</td>\n",
       "      <td>14918</td>\n",
       "      <td>20130119T120000</td>\n",
       "      <td>20130320T120000</td>\n",
       "      <td>N/A</td>\n",
       "      <td>Jobcentre Plus</td>\n",
       "      <td>full_time</td>\n",
       "    </tr>\n",
       "    <tr>\n",
       "      <th>6385</th>\n",
       "      <td>66748090</td>\n",
       "      <td>Systems Documentation Author</td>\n",
       "      <td>Knutsford</td>\n",
       "      <td>N/A</td>\n",
       "      <td>IT Jobs</td>\n",
       "      <td>26000</td>\n",
       "      <td>20120329T150000</td>\n",
       "      <td>20120428T150000</td>\n",
       "      <td>N/A</td>\n",
       "      <td>Jobcentre Plus</td>\n",
       "      <td>full_time</td>\n",
       "    </tr>\n",
       "    <tr>\n",
       "      <th>6386</th>\n",
       "      <td>71794556</td>\n",
       "      <td>Field Sales Executive Positions in Norwich and...</td>\n",
       "      <td>Norwich</td>\n",
       "      <td>N/A</td>\n",
       "      <td>Sales Jobs</td>\n",
       "      <td>38400</td>\n",
       "      <td>20120729T000000</td>\n",
       "      <td>20120927T000000</td>\n",
       "      <td>N/A</td>\n",
       "      <td>Jobcentre Plus</td>\n",
       "      <td>full_time</td>\n",
       "    </tr>\n",
       "    <tr>\n",
       "      <th>6387</th>\n",
       "      <td>69552813</td>\n",
       "      <td>Database Engineer</td>\n",
       "      <td>Macclesfield</td>\n",
       "      <td>Three way solutions</td>\n",
       "      <td>IT Jobs</td>\n",
       "      <td>29000</td>\n",
       "      <td>20130816T120000</td>\n",
       "      <td>20131015T120000</td>\n",
       "      <td>N/A</td>\n",
       "      <td>Jobcentre Plus</td>\n",
       "      <td>full_time</td>\n",
       "    </tr>\n",
       "    <tr>\n",
       "      <th>6388</th>\n",
       "      <td>68449576</td>\n",
       "      <td>Registered Nurse (RGN)(D)  Barchester Healthcare</td>\n",
       "      <td>London</td>\n",
       "      <td>Barchester Healthcare Plc</td>\n",
       "      <td>Healthcare &amp; Nursing Jobs</td>\n",
       "      <td>23040</td>\n",
       "      <td>20130427T000000</td>\n",
       "      <td>20130527T000000</td>\n",
       "      <td>N/A</td>\n",
       "      <td>Jobcentre Plus</td>\n",
       "      <td>full_time</td>\n",
       "    </tr>\n",
       "  </tbody>\n",
       "</table>\n",
       "</div>"
      ],
      "text/plain": [
       "            Id                                              Title  \\\n",
       "6384  66743073                          Customer Accounts Advisor   \n",
       "6385  66748090                       Systems Documentation Author   \n",
       "6386  71794556  Field Sales Executive Positions in Norwich and...   \n",
       "6387  69552813                                  Database Engineer   \n",
       "6388  68449576   Registered Nurse (RGN)(D)  Barchester Healthcare   \n",
       "\n",
       "          Location                    Company                   Category  \\\n",
       "6384        Harlow                BrightHouse  Accounting & Finance Jobs   \n",
       "6385     Knutsford                        N/A                    IT Jobs   \n",
       "6386       Norwich                        N/A                 Sales Jobs   \n",
       "6387  Macclesfield        Three way solutions                    IT Jobs   \n",
       "6388        London  Barchester Healthcare Plc  Healthcare & Nursing Jobs   \n",
       "\n",
       "     Salary         OpenDate        CloseDate ContractTime      SourceName  \\\n",
       "6384  14918  20130119T120000  20130320T120000          N/A  Jobcentre Plus   \n",
       "6385  26000  20120329T150000  20120428T150000          N/A  Jobcentre Plus   \n",
       "6386  38400  20120729T000000  20120927T000000          N/A  Jobcentre Plus   \n",
       "6387  29000  20130816T120000  20131015T120000          N/A  Jobcentre Plus   \n",
       "6388  23040  20130427T000000  20130527T000000          N/A  Jobcentre Plus   \n",
       "\n",
       "     ContractType  \n",
       "6384    full_time  \n",
       "6385    full_time  \n",
       "6386    full_time  \n",
       "6387    full_time  \n",
       "6388    full_time  "
      ]
     },
     "execution_count": 35,
     "metadata": {},
     "output_type": "execute_result"
    }
   ],
   "source": [
    "#create a sub dataframe where cell value = N/A\n",
    "#will be used to obtain idx and Id for errlist\n",
    "df_contractTime_na = df[df['ContractTime']== \"N/A\"]\n",
    "print(df_contractTime_na.shape)\n",
    "df_contractTime_na.head()"
   ]
  },
  {
   "cell_type": "code",
   "execution_count": 36,
   "metadata": {},
   "outputs": [
    {
     "name": "stdout",
     "output_type": "stream",
     "text": [
      "4060\n"
     ]
    }
   ],
   "source": [
    "#assign index of null salary values to a list\n",
    "index_list = df.index[df['ContractTime'] == 'N/A'].tolist()\n",
    "print(len(index_list))"
   ]
  },
  {
   "cell_type": "code",
   "execution_count": 37,
   "metadata": {},
   "outputs": [
    {
     "name": "stdout",
     "output_type": "stream",
     "text": [
      "4060\n"
     ]
    }
   ],
   "source": [
    "#assign value of 'Id' column that contains missing value to list\n",
    "id_list = df_contractTime_na['Id'].values.tolist()\n",
    "print(len(id_list))"
   ]
  },
  {
   "cell_type": "code",
   "execution_count": 38,
   "metadata": {},
   "outputs": [],
   "source": [
    "#update errlist with respectively id and index\n",
    "for i in range(len(index_list)):\n",
    "    updateErlist(index_list[i], id_list[i], 'ContractTime', 'N/A', 'non-specific','data abnormality','change N/A to \"non-specific\" ')"
   ]
  },
  {
   "cell_type": "code",
   "execution_count": 39,
   "metadata": {},
   "outputs": [],
   "source": [
    "#replace N/A in ContractTime column to non-specific in df\n",
    "df['ContractTime'].replace('N/A','non-specific', inplace = True)"
   ]
  },
  {
   "cell_type": "code",
   "execution_count": 40,
   "metadata": {},
   "outputs": [
    {
     "data": {
      "text/plain": [
       "permanent       30324\n",
       "                 6981\n",
       "non-specific     5828\n",
       "contract         5579\n",
       "-                1991\n",
       "Name: ContractTime, dtype: int64"
      ]
     },
     "execution_count": 40,
     "metadata": {},
     "output_type": "execute_result"
    }
   ],
   "source": [
    "#confirm the change\n",
    "df['ContractTime'].value_counts()"
   ]
  },
  {
   "cell_type": "markdown",
   "metadata": {},
   "source": [
    "#### 2.3.1.2 ContractTime - \" \""
   ]
  },
  {
   "cell_type": "code",
   "execution_count": 41,
   "metadata": {},
   "outputs": [
    {
     "name": "stdout",
     "output_type": "stream",
     "text": [
      "(6981, 11)\n"
     ]
    }
   ],
   "source": [
    "#create sub df where ContractTime == \" \"\n",
    "df_contractTime_empty = df[df['ContractTime']== \" \"]\n",
    "print(df_contractTime_empty.shape)"
   ]
  },
  {
   "cell_type": "code",
   "execution_count": 42,
   "metadata": {},
   "outputs": [
    {
     "name": "stdout",
     "output_type": "stream",
     "text": [
      "6981\n",
      "6981\n"
     ]
    }
   ],
   "source": [
    "#Same steps as in 2.3.1.1 with the exception of the value \n",
    "\n",
    "#getting all indexs and id where value of ContractTime == \" \"\n",
    "index_list = df.index[df['ContractTime'] == \" \"].tolist()\n",
    "print(len(index_list))\n",
    "\n",
    "id_list = df_contractTime_empty['Id'].values.tolist()\n",
    "print(len(id_list))"
   ]
  },
  {
   "cell_type": "code",
   "execution_count": 43,
   "metadata": {},
   "outputs": [],
   "source": [
    "#update errlist with respectively id and index\n",
    "for i in range(len(index_list)):\n",
    "    updateErlist(index_list[i], id_list[i], 'ContractTime', ' ', 'non-specific','data abnormality','change \" \" to \"non-specific\" ')"
   ]
  },
  {
   "cell_type": "code",
   "execution_count": 44,
   "metadata": {},
   "outputs": [],
   "source": [
    "#replace \" \" in ContractTime column to non-specific in df\n",
    "df['ContractTime'].replace(\" \",'non-specific', inplace = True)"
   ]
  },
  {
   "cell_type": "code",
   "execution_count": 45,
   "metadata": {},
   "outputs": [
    {
     "data": {
      "text/plain": [
       "permanent       30324\n",
       "non-specific    12809\n",
       "contract         5579\n",
       "-                1991\n",
       "Name: ContractTime, dtype: int64"
      ]
     },
     "execution_count": 45,
     "metadata": {},
     "output_type": "execute_result"
    }
   ],
   "source": [
    "#confirm the change\n",
    "df['ContractTime'].value_counts()"
   ]
  },
  {
   "cell_type": "markdown",
   "metadata": {},
   "source": [
    "#### 2.3.1.3 ContractTime - \"-\""
   ]
  },
  {
   "cell_type": "code",
   "execution_count": 46,
   "metadata": {},
   "outputs": [
    {
     "name": "stdout",
     "output_type": "stream",
     "text": [
      "(1991, 11)\n"
     ]
    }
   ],
   "source": [
    "#create sub df where ContractTime == \"-\"\n",
    "df_contractTime_hyphen = df[df['ContractTime']== \"-\"]\n",
    "print(df_contractTime_hyphen.shape)"
   ]
  },
  {
   "cell_type": "code",
   "execution_count": 47,
   "metadata": {},
   "outputs": [
    {
     "name": "stdout",
     "output_type": "stream",
     "text": [
      "1991\n",
      "1991\n"
     ]
    }
   ],
   "source": [
    "#Same steps as in 2.3.1.1 with the exception of the value \n",
    "\n",
    "#getting all indexs and id where value of ContractTime == \"-\"\n",
    "index_list = df.index[df['ContractTime'] == \"-\"].tolist()\n",
    "print(len(index_list))\n",
    "\n",
    "id_list = df_contractTime_hyphen['Id'].values.tolist()\n",
    "print(len(id_list))"
   ]
  },
  {
   "cell_type": "code",
   "execution_count": 48,
   "metadata": {},
   "outputs": [],
   "source": [
    "#update errlist with respectively id and index\n",
    "for i in range(len(index_list)):\n",
    "    updateErlist(index_list[i], id_list[i], 'ContractTime', '-', 'non-specific','data abnormality','change \"-\" to \"non-specific\" ')"
   ]
  },
  {
   "cell_type": "code",
   "execution_count": 49,
   "metadata": {},
   "outputs": [],
   "source": [
    "#replace \"-\" in ContractTime column to non-specific in df\n",
    "df['ContractTime'].replace(\"-\",'non-specific', inplace = True)"
   ]
  },
  {
   "cell_type": "code",
   "execution_count": 50,
   "metadata": {},
   "outputs": [
    {
     "data": {
      "text/plain": [
       "permanent       30324\n",
       "non-specific    14800\n",
       "contract         5579\n",
       "Name: ContractTime, dtype: int64"
      ]
     },
     "execution_count": 50,
     "metadata": {},
     "output_type": "execute_result"
    }
   ],
   "source": [
    "#confirm the change\n",
    "df['ContractTime'].value_counts()"
   ]
  },
  {
   "cell_type": "markdown",
   "metadata": {},
   "source": [
    "###  2.3.2 - ContractType"
   ]
  },
  {
   "cell_type": "code",
   "execution_count": 51,
   "metadata": {},
   "outputs": [
    {
     "data": {
      "text/plain": [
       "non-specific    14131\n",
       "-               13164\n",
       "full_time       11755\n",
       "                 8154\n",
       "N/A              1984\n",
       "part_time        1515\n",
       "Name: ContractType, dtype: int64"
      ]
     },
     "execution_count": 51,
     "metadata": {},
     "output_type": "execute_result"
    }
   ],
   "source": [
    "df['ContractType'].value_counts()"
   ]
  },
  {
   "cell_type": "markdown",
   "metadata": {},
   "source": [
    "From the above value_counts(), we can see that there are data abnormality, as ContractTypes can only take the values 'fill_time', 'part_time' or 'non-specific'. We assume an empty string, 'N/A' and '-', represent missing values and should be replaced with 'non-specific'"
   ]
  },
  {
   "cell_type": "markdown",
   "metadata": {},
   "source": [
    "#### 2.3.2.1  ContractType - \"N/A\""
   ]
  },
  {
   "cell_type": "code",
   "execution_count": 52,
   "metadata": {},
   "outputs": [
    {
     "name": "stdout",
     "output_type": "stream",
     "text": [
      "(1984, 11)\n"
     ]
    }
   ],
   "source": [
    "#create sub df where ContractType == \"N/A\"\n",
    "df_contractType_NA = df[df['ContractType']== \"N/A\"]\n",
    "print(df_contractType_NA.shape)"
   ]
  },
  {
   "cell_type": "code",
   "execution_count": 53,
   "metadata": {},
   "outputs": [
    {
     "name": "stdout",
     "output_type": "stream",
     "text": [
      "1984\n",
      "1984\n"
     ]
    }
   ],
   "source": [
    "#Same steps as in ContractTime \n",
    "\n",
    "#getting all indexs and id where value of ContractType == \"N/A\"\n",
    "index_list = df.index[df['ContractType'] == \"N/A\"].tolist()\n",
    "print(len(index_list))\n",
    "\n",
    "id_list = df_contractType_NA['Id'].values.tolist()\n",
    "print(len(id_list))"
   ]
  },
  {
   "cell_type": "code",
   "execution_count": 54,
   "metadata": {},
   "outputs": [],
   "source": [
    "#update errlist with respectively id and index\n",
    "for i in range(len(index_list)):\n",
    "    updateErlist(index_list[i], id_list[i], 'ContractType', 'N/A', 'non-specific','data abnormality','change \"N/A\" to \"non-specific\" ')"
   ]
  },
  {
   "cell_type": "code",
   "execution_count": 55,
   "metadata": {},
   "outputs": [
    {
     "data": {
      "text/plain": [
       "non-specific    16115\n",
       "-               13164\n",
       "full_time       11755\n",
       "                 8154\n",
       "part_time        1515\n",
       "Name: ContractType, dtype: int64"
      ]
     },
     "execution_count": 55,
     "metadata": {},
     "output_type": "execute_result"
    }
   ],
   "source": [
    "#replace \"N/A\" in ContractType column to non-specific in df\n",
    "df['ContractType'].replace(\"N/A\",'non-specific', inplace = True)\n",
    "#confirm the change\n",
    "df['ContractType'].value_counts()"
   ]
  },
  {
   "cell_type": "markdown",
   "metadata": {},
   "source": [
    "#### 2.3.2.2 ContractType - \" \""
   ]
  },
  {
   "cell_type": "code",
   "execution_count": 56,
   "metadata": {},
   "outputs": [
    {
     "name": "stdout",
     "output_type": "stream",
     "text": [
      "(8154, 11)\n"
     ]
    }
   ],
   "source": [
    "#create sub df where ContractType == \" \"\n",
    "df_contractType_empty = df[df['ContractType']== \" \"]\n",
    "print(df_contractType_empty.shape)"
   ]
  },
  {
   "cell_type": "code",
   "execution_count": 57,
   "metadata": {},
   "outputs": [
    {
     "name": "stdout",
     "output_type": "stream",
     "text": [
      "8154\n",
      "8154\n"
     ]
    }
   ],
   "source": [
    "#Same steps as above but with different values \n",
    "\n",
    "#getting all indexs and id where value of ContractType == \" \"\n",
    "index_list = df.index[df['ContractType'] == \" \"].tolist()\n",
    "print(len(index_list))\n",
    "\n",
    "id_list = df_contractType_empty['Id'].values.tolist()\n",
    "print(len(id_list))"
   ]
  },
  {
   "cell_type": "code",
   "execution_count": 58,
   "metadata": {},
   "outputs": [],
   "source": [
    "#update errlist with respectively id and index\n",
    "for i in range(len(index_list)):\n",
    "    updateErlist(index_list[i], id_list[i], 'ContractType', ' ', 'non-specific','data abnormality','change \" \" to \"non-specific\" ')"
   ]
  },
  {
   "cell_type": "code",
   "execution_count": 59,
   "metadata": {},
   "outputs": [
    {
     "data": {
      "text/plain": [
       "non-specific    24269\n",
       "-               13164\n",
       "full_time       11755\n",
       "part_time        1515\n",
       "Name: ContractType, dtype: int64"
      ]
     },
     "execution_count": 59,
     "metadata": {},
     "output_type": "execute_result"
    }
   ],
   "source": [
    "#replace \" \" in ContractType column to non-specific in df\n",
    "df['ContractType'].replace(\" \",'non-specific', inplace = True)\n",
    "#confirm the change\n",
    "df['ContractType'].value_counts()"
   ]
  },
  {
   "cell_type": "markdown",
   "metadata": {},
   "source": [
    "#### 2.3.2.3 ContractType - \"-\" \n"
   ]
  },
  {
   "cell_type": "code",
   "execution_count": 60,
   "metadata": {},
   "outputs": [
    {
     "name": "stdout",
     "output_type": "stream",
     "text": [
      "(13164, 11)\n"
     ]
    }
   ],
   "source": [
    "#create sub df where ContractType == \"-\"\n",
    "df_contractType_hyphen = df[df['ContractType']== \"-\"]\n",
    "print(df_contractType_hyphen.shape)"
   ]
  },
  {
   "cell_type": "code",
   "execution_count": 61,
   "metadata": {},
   "outputs": [
    {
     "name": "stdout",
     "output_type": "stream",
     "text": [
      "13164\n",
      "13164\n"
     ]
    }
   ],
   "source": [
    "#Same steps as above but with different values \n",
    "\n",
    "#getting all indexs and id where value of ContractType == \"-\"\n",
    "index_list = df.index[df['ContractType'] == \"-\"].tolist()\n",
    "print(len(index_list))\n",
    "\n",
    "id_list = df_contractType_hyphen['Id'].values.tolist()\n",
    "print(len(id_list))"
   ]
  },
  {
   "cell_type": "code",
   "execution_count": 62,
   "metadata": {},
   "outputs": [],
   "source": [
    "#update errlist with respectively id and index\n",
    "for i in range(len(index_list)):\n",
    "    updateErlist(index_list[i], id_list[i], 'ContractType', '-', 'non-specific','data abnormality','change \"-\" to \"non-specific\" ')"
   ]
  },
  {
   "cell_type": "code",
   "execution_count": 63,
   "metadata": {},
   "outputs": [
    {
     "data": {
      "text/plain": [
       "non-specific    37433\n",
       "full_time       11755\n",
       "part_time        1515\n",
       "Name: ContractType, dtype: int64"
      ]
     },
     "execution_count": 63,
     "metadata": {},
     "output_type": "execute_result"
    }
   ],
   "source": [
    "#replace \"-\" in ContractType column to non-specific in df\n",
    "df['ContractType'].replace(\"-\",'non-specific', inplace = True)\n",
    "#confirm the change\n",
    "df['ContractType'].value_counts()"
   ]
  },
  {
   "cell_type": "markdown",
   "metadata": {},
   "source": [
    "### 2.3.3 Company"
   ]
  },
  {
   "cell_type": "code",
   "execution_count": 64,
   "metadata": {},
   "outputs": [
    {
     "data": {
      "text/plain": [
       "N/A                             2381\n",
       "-                               1485\n",
       "non-specific                    1025\n",
       "                                 440\n",
       "UKStaffsearch                    434\n",
       "                                ... \n",
       "Pertemps Redditch Industrial       1\n",
       "Comfort Care Services  Ltd         1\n",
       "STR Health Ltd                     1\n",
       "MENCAP Relief Bank                 1\n",
       "LANDERS RECRUITMENT                1\n",
       "Name: Company, Length: 8674, dtype: int64"
      ]
     },
     "execution_count": 64,
     "metadata": {},
     "output_type": "execute_result"
    }
   ],
   "source": [
    "df['Company'].value_counts()"
   ]
  },
  {
   "cell_type": "markdown",
   "metadata": {},
   "source": [
    "From the above value_counts(), we can see that there are data abnormality, as Company can only take real words as values. The above suggests that there is a number of instances where the values of 'Company' is - 'N/A', '-' or \" \". This suggests that these values are missing and need to be replaced with 'non-specific'."
   ]
  },
  {
   "cell_type": "markdown",
   "metadata": {},
   "source": [
    "#### 2.3.3.1 Company - \"N/A\""
   ]
  },
  {
   "cell_type": "code",
   "execution_count": 65,
   "metadata": {},
   "outputs": [
    {
     "name": "stdout",
     "output_type": "stream",
     "text": [
      "(2381, 11)\n"
     ]
    }
   ],
   "source": [
    "#create sub df where Company == \"N/A\"\n",
    "df_company_NA = df[df['Company']== \"N/A\"]\n",
    "print(df_company_NA.shape)"
   ]
  },
  {
   "cell_type": "code",
   "execution_count": 66,
   "metadata": {},
   "outputs": [
    {
     "name": "stdout",
     "output_type": "stream",
     "text": [
      "2381\n",
      "2381\n"
     ]
    }
   ],
   "source": [
    "#Same steps as above but with different values \n",
    "\n",
    "#getting all indexs and id where value of Company == \"N/A\"\n",
    "index_list = df.index[df['Company'] == \"N/A\"].tolist()\n",
    "print(len(index_list))\n",
    "\n",
    "id_list = df_company_NA['Id'].values.tolist()\n",
    "print(len(id_list))"
   ]
  },
  {
   "cell_type": "code",
   "execution_count": 67,
   "metadata": {},
   "outputs": [],
   "source": [
    "#update errlist with respectively id and index\n",
    "for i in range(len(index_list)):\n",
    "    updateErlist(index_list[i], id_list[i], 'Company', 'N/A', 'non-specific','data abnormality','change \"N/A\" to \"non-specific\" ')"
   ]
  },
  {
   "cell_type": "code",
   "execution_count": 68,
   "metadata": {},
   "outputs": [
    {
     "data": {
      "text/plain": [
       "non-specific                        3406\n",
       "-                                   1485\n",
       "                                     440\n",
       "UKStaffsearch                        434\n",
       "Randstad                             368\n",
       "                                    ... \n",
       "Harris Lord Group                      1\n",
       "Edf Energy                             1\n",
       "Robert Gordon University               1\n",
       "Aston Wade                             1\n",
       "Edge UK Recruitment Services Ltd       1\n",
       "Name: Company, Length: 8673, dtype: int64"
      ]
     },
     "execution_count": 68,
     "metadata": {},
     "output_type": "execute_result"
    }
   ],
   "source": [
    "#replace \"N/A\" in Company column to non-specific in df\n",
    "df['Company'].replace(\"N/A\",'non-specific', inplace = True)\n",
    "#confirm the change\n",
    "df['Company'].value_counts()"
   ]
  },
  {
   "cell_type": "markdown",
   "metadata": {},
   "source": [
    "#### 2.3.3.2 Company - \" \""
   ]
  },
  {
   "cell_type": "code",
   "execution_count": 69,
   "metadata": {},
   "outputs": [
    {
     "name": "stdout",
     "output_type": "stream",
     "text": [
      "(440, 11)\n"
     ]
    }
   ],
   "source": [
    "#create sub df where Company == \" \"\n",
    "df_company_empty = df[df['Company']== \" \"]\n",
    "print(df_company_empty.shape)"
   ]
  },
  {
   "cell_type": "code",
   "execution_count": 70,
   "metadata": {},
   "outputs": [
    {
     "name": "stdout",
     "output_type": "stream",
     "text": [
      "440\n",
      "440\n"
     ]
    }
   ],
   "source": [
    "#Same steps as above but with different values \n",
    "\n",
    "#getting all indexs and id where value of Company == \" \"\n",
    "index_list = df.index[df['Company'] == \" \"].tolist()\n",
    "print(len(index_list))\n",
    "\n",
    "id_list = df_company_empty['Id'].values.tolist()\n",
    "print(len(id_list))"
   ]
  },
  {
   "cell_type": "code",
   "execution_count": 71,
   "metadata": {},
   "outputs": [],
   "source": [
    "for i in range(len(index_list)):\n",
    "    updateErlist(index_list[i], id_list[i], 'Company', ' ', 'non-specific','data abnormality','change \" \" to \"non-specific\" ')"
   ]
  },
  {
   "cell_type": "code",
   "execution_count": 72,
   "metadata": {},
   "outputs": [
    {
     "data": {
      "text/plain": [
       "non-specific                           3846\n",
       "-                                      1485\n",
       "UKStaffsearch                           434\n",
       "Randstad                                368\n",
       "CVbrowser                               309\n",
       "                                       ... \n",
       "STR Health Ltd                            1\n",
       "MENCAP Relief Bank                        1\n",
       "Resourcing/Talent Management Centre       1\n",
       "CONNAUGHT RESOURCING                      1\n",
       "LANDERS RECRUITMENT                       1\n",
       "Name: Company, Length: 8672, dtype: int64"
      ]
     },
     "execution_count": 72,
     "metadata": {},
     "output_type": "execute_result"
    }
   ],
   "source": [
    "#replace \" \" in Company column to non-specific in df\n",
    "df['Company'].replace(\" \",'non-specific', inplace = True)\n",
    "#confirm the change\n",
    "df['Company'].value_counts()"
   ]
  },
  {
   "cell_type": "markdown",
   "metadata": {},
   "source": [
    "#### 2.3.3.3 Company - \"-\""
   ]
  },
  {
   "cell_type": "code",
   "execution_count": 73,
   "metadata": {},
   "outputs": [
    {
     "name": "stdout",
     "output_type": "stream",
     "text": [
      "(1485, 11)\n"
     ]
    }
   ],
   "source": [
    "#create sub df where Company == \"-\"\n",
    "df_company_hyphen = df[df['Company']== \"-\"]\n",
    "print(df_company_hyphen.shape)"
   ]
  },
  {
   "cell_type": "code",
   "execution_count": 74,
   "metadata": {},
   "outputs": [
    {
     "name": "stdout",
     "output_type": "stream",
     "text": [
      "1485\n",
      "1485\n"
     ]
    }
   ],
   "source": [
    "#Same steps as above but with different values \n",
    "\n",
    "#getting all indexs and id where value of Company == \"-\"\n",
    "index_list = df.index[df['Company'] == \"-\"].tolist()\n",
    "print(len(index_list))\n",
    "\n",
    "id_list = df_company_hyphen['Id'].values.tolist()\n",
    "print(len(id_list))"
   ]
  },
  {
   "cell_type": "code",
   "execution_count": 75,
   "metadata": {},
   "outputs": [],
   "source": [
    "for i in range(len(index_list)):\n",
    "    updateErlist(index_list[i], id_list[i], 'Company', '-', 'non-specific','data abnormality','change \"-\" to \"non-specific\" ')"
   ]
  },
  {
   "cell_type": "code",
   "execution_count": 76,
   "metadata": {},
   "outputs": [
    {
     "data": {
      "text/plain": [
       "non-specific                        5331\n",
       "UKStaffsearch                        434\n",
       "Randstad                             368\n",
       "CVbrowser                            309\n",
       "Matchtech Group plc.                 230\n",
       "                                    ... \n",
       "Edf Energy                             1\n",
       "Robert Gordon University               1\n",
       "Aston Wade                             1\n",
       "Trinity Nursing Services               1\n",
       "Edge UK Recruitment Services Ltd       1\n",
       "Name: Company, Length: 8671, dtype: int64"
      ]
     },
     "execution_count": 76,
     "metadata": {},
     "output_type": "execute_result"
    }
   ],
   "source": [
    "#replace \"-\" in Company column to non-specific in df\n",
    "df['Company'].replace(\"-\",'non-specific', inplace = True)\n",
    "#confirm the change\n",
    "df['Company'].value_counts()"
   ]
  },
  {
   "cell_type": "markdown",
   "metadata": {},
   "source": [
    "### 2.3.4 Salary"
   ]
  },
  {
   "cell_type": "code",
   "execution_count": 77,
   "metadata": {},
   "outputs": [
    {
     "ename": "TypeError",
     "evalue": "unhashable type: 'list'",
     "output_type": "error",
     "traceback": [
      "\u001b[1;31m---------------------------------------------------------------------------\u001b[0m",
      "\u001b[1;31mTypeError\u001b[0m                                 Traceback (most recent call last)",
      "\u001b[1;32mpandas\\_libs\\hashtable_class_helper.pxi\u001b[0m in \u001b[0;36mpandas._libs.hashtable.PyObjectHashTable.map_locations\u001b[1;34m()\u001b[0m\n",
      "\u001b[1;31mTypeError\u001b[0m: unhashable type: 'list'"
     ]
    },
    {
     "name": "stderr",
     "output_type": "stream",
     "text": [
      "Exception ignored in: 'pandas._libs.index.IndexEngine._call_map_locations'\n",
      "Traceback (most recent call last):\n",
      "  File \"pandas\\_libs\\hashtable_class_helper.pxi\", line 1709, in pandas._libs.hashtable.PyObjectHashTable.map_locations\n",
      "TypeError: unhashable type: 'list'\n"
     ]
    },
    {
     "data": {
      "text/plain": [
       "[]                47746\n",
       "[.]                 953\n",
       "[-]                 674\n",
       "[ ]                 575\n",
       "[N/A]               300\n",
       "[ to ]              100\n",
       "[ - ]               100\n",
       "[/year]             100\n",
       "[ per annum]        100\n",
       "[K]                  50\n",
       "[.,  per hour]        3\n",
       "[.,  p/h]             2\n",
       "Name: Salary, dtype: int64"
      ]
     },
     "execution_count": 77,
     "metadata": {},
     "output_type": "execute_result"
    }
   ],
   "source": [
    "salary_df = df['Salary'].astype(str).apply(lambda value:re.findall(r'\\D+\\.?\\D*',value)) #gets everything but numbers\n",
    "salary_df.value_counts()"
   ]
  },
  {
   "cell_type": "markdown",
   "metadata": {},
   "source": [
    "From the code above we can see that there are some data abnormalities and irregularities. In this section we will deal with the data inconsistency where its values are - ' ', 'N/A', indicating that these are missing values and should be replaced with a floating value. Preferable 0.00 to indicate that it is missing. We will deal with the other irregularities in another section"
   ]
  },
  {
   "cell_type": "markdown",
   "metadata": {},
   "source": [
    "#### 2.3.4.1 Salary- \"N/A\""
   ]
  },
  {
   "cell_type": "code",
   "execution_count": 78,
   "metadata": {},
   "outputs": [
    {
     "name": "stdout",
     "output_type": "stream",
     "text": [
      "(300, 11)\n"
     ]
    }
   ],
   "source": [
    "#create sub df where Salary == \"N/A\"\n",
    "df_salary_NA = df[df['Salary']== \"N/A\"]\n",
    "print(df_salary_NA.shape)"
   ]
  },
  {
   "cell_type": "code",
   "execution_count": 79,
   "metadata": {},
   "outputs": [
    {
     "name": "stdout",
     "output_type": "stream",
     "text": [
      "300\n",
      "300\n"
     ]
    }
   ],
   "source": [
    "#Same steps as other sections but with different values \n",
    "\n",
    "#getting all indexs and id where value of Salary == \"N/A\"\n",
    "index_list = df.index[df['Salary'] == \"N/A\"].tolist()\n",
    "print(len(index_list))\n",
    "\n",
    "id_list = df_salary_NA['Id'].values.tolist()\n",
    "print(len(id_list))"
   ]
  },
  {
   "cell_type": "code",
   "execution_count": 80,
   "metadata": {},
   "outputs": [],
   "source": [
    "#update errlist\n",
    "for i in range(len(index_list)):\n",
    "    updateErlist(index_list[i], id_list[i], 'Salary', 'N/A', '0.00','data abnormality','change \"N/A\" to 0.00 ')"
   ]
  },
  {
   "cell_type": "code",
   "execution_count": 81,
   "metadata": {},
   "outputs": [
    {
     "ename": "TypeError",
     "evalue": "unhashable type: 'list'",
     "output_type": "error",
     "traceback": [
      "\u001b[1;31m---------------------------------------------------------------------------\u001b[0m",
      "\u001b[1;31mTypeError\u001b[0m                                 Traceback (most recent call last)",
      "\u001b[1;32mpandas\\_libs\\hashtable_class_helper.pxi\u001b[0m in \u001b[0;36mpandas._libs.hashtable.PyObjectHashTable.map_locations\u001b[1;34m()\u001b[0m\n",
      "\u001b[1;31mTypeError\u001b[0m: unhashable type: 'list'"
     ]
    },
    {
     "name": "stderr",
     "output_type": "stream",
     "text": [
      "Exception ignored in: 'pandas._libs.index.IndexEngine._call_map_locations'\n",
      "Traceback (most recent call last):\n",
      "  File \"pandas\\_libs\\hashtable_class_helper.pxi\", line 1709, in pandas._libs.hashtable.PyObjectHashTable.map_locations\n",
      "TypeError: unhashable type: 'list'\n"
     ]
    },
    {
     "data": {
      "text/plain": [
       "[]                47746\n",
       "[.]                1253\n",
       "[-]                 674\n",
       "[ ]                 575\n",
       "[ to ]              100\n",
       "[ - ]               100\n",
       "[/year]             100\n",
       "[ per annum]        100\n",
       "[K]                  50\n",
       "[.,  per hour]        3\n",
       "[.,  p/h]             2\n",
       "Name: Salary, dtype: int64"
      ]
     },
     "execution_count": 81,
     "metadata": {},
     "output_type": "execute_result"
    }
   ],
   "source": [
    "#replace \"N/A\" in Salary column to 0.00 in df\n",
    "df['Salary'].replace(\"N/A\",'0.00', inplace = True)\n",
    "#confirm the change\n",
    "salary_df = df['Salary'].astype(str).apply(lambda value:re.findall(r'\\D+\\.?\\D*',value)) #gets everything but numbers\n",
    "salary_df.value_counts()"
   ]
  },
  {
   "cell_type": "markdown",
   "metadata": {},
   "source": [
    "#### 2.3.4.2 Salary - \" \""
   ]
  },
  {
   "cell_type": "code",
   "execution_count": 82,
   "metadata": {},
   "outputs": [
    {
     "name": "stdout",
     "output_type": "stream",
     "text": [
      "(575, 11)\n"
     ]
    }
   ],
   "source": [
    "#create sub df where Salary == \" \"\n",
    "df_salary_empty = df[df['Salary']== \" \"]\n",
    "print(df_salary_empty.shape)"
   ]
  },
  {
   "cell_type": "code",
   "execution_count": 83,
   "metadata": {},
   "outputs": [
    {
     "name": "stdout",
     "output_type": "stream",
     "text": [
      "575\n",
      "575\n"
     ]
    }
   ],
   "source": [
    "#Same steps as other sections but with different values \n",
    "\n",
    "#getting all indexs and id where value of Salary == \" \"\n",
    "index_list = df.index[df['Salary'] == \" \"].tolist()\n",
    "print(len(index_list))\n",
    "\n",
    "id_list = df_salary_empty['Id'].values.tolist()\n",
    "print(len(id_list))"
   ]
  },
  {
   "cell_type": "code",
   "execution_count": 84,
   "metadata": {},
   "outputs": [],
   "source": [
    "#update errlist\n",
    "for i in range(len(index_list)):\n",
    "    updateErlist(index_list[i], id_list[i], 'Salary', ' ', '0.00','data abnormality','change \" \" to 0.00 ')"
   ]
  },
  {
   "cell_type": "code",
   "execution_count": 85,
   "metadata": {},
   "outputs": [
    {
     "ename": "TypeError",
     "evalue": "unhashable type: 'list'",
     "output_type": "error",
     "traceback": [
      "\u001b[1;31m---------------------------------------------------------------------------\u001b[0m",
      "\u001b[1;31mTypeError\u001b[0m                                 Traceback (most recent call last)",
      "\u001b[1;32mpandas\\_libs\\hashtable_class_helper.pxi\u001b[0m in \u001b[0;36mpandas._libs.hashtable.PyObjectHashTable.map_locations\u001b[1;34m()\u001b[0m\n",
      "\u001b[1;31mTypeError\u001b[0m: unhashable type: 'list'"
     ]
    },
    {
     "name": "stderr",
     "output_type": "stream",
     "text": [
      "Exception ignored in: 'pandas._libs.index.IndexEngine._call_map_locations'\n",
      "Traceback (most recent call last):\n",
      "  File \"pandas\\_libs\\hashtable_class_helper.pxi\", line 1709, in pandas._libs.hashtable.PyObjectHashTable.map_locations\n",
      "TypeError: unhashable type: 'list'\n"
     ]
    },
    {
     "data": {
      "text/plain": [
       "[]                47746\n",
       "[.]                1828\n",
       "[-]                 674\n",
       "[ to ]              100\n",
       "[ - ]               100\n",
       "[/year]             100\n",
       "[ per annum]        100\n",
       "[K]                  50\n",
       "[.,  per hour]        3\n",
       "[.,  p/h]             2\n",
       "Name: Salary, dtype: int64"
      ]
     },
     "execution_count": 85,
     "metadata": {},
     "output_type": "execute_result"
    }
   ],
   "source": [
    "#replace \" \" in Salary column to 0.00 in df\n",
    "df['Salary'].replace(\" \",'0.00', inplace = True)\n",
    "#confirm the change\n",
    "salary_df = df['Salary'].astype(str).apply(lambda value:re.findall(r'\\D+\\.?\\D*',value)) #gets everything but numbers\n",
    "salary_df.value_counts()"
   ]
  },
  {
   "cell_type": "markdown",
   "metadata": {},
   "source": [
    "#### 2.3.4.3 Salary- \"-\""
   ]
  },
  {
   "cell_type": "code",
   "execution_count": 86,
   "metadata": {},
   "outputs": [
    {
     "name": "stdout",
     "output_type": "stream",
     "text": [
      "(674, 11)\n"
     ]
    }
   ],
   "source": [
    "#create sub df where Salary == \" \"\n",
    "df_salary_hyphen = df[df['Salary']== \"-\"]\n",
    "print(df_salary_hyphen.shape)"
   ]
  },
  {
   "cell_type": "code",
   "execution_count": 87,
   "metadata": {},
   "outputs": [
    {
     "name": "stdout",
     "output_type": "stream",
     "text": [
      "674\n",
      "674\n"
     ]
    }
   ],
   "source": [
    "#Same steps as other sections but with different values \n",
    "\n",
    "#getting all indexs and id where value of Salary == \"-\"\n",
    "index_list = df.index[df['Salary'] == \"-\"].tolist()\n",
    "print(len(index_list))\n",
    "\n",
    "id_list = df_salary_hyphen['Id'].values.tolist()\n",
    "print(len(id_list))"
   ]
  },
  {
   "cell_type": "code",
   "execution_count": 88,
   "metadata": {},
   "outputs": [],
   "source": [
    "#update errlist\n",
    "for i in range(len(index_list)):\n",
    "    updateErlist(index_list[i], id_list[i], 'Salary', '-', '0.00','data abnormality','change \"-\" to 0.00 ')"
   ]
  },
  {
   "cell_type": "code",
   "execution_count": 89,
   "metadata": {},
   "outputs": [
    {
     "ename": "TypeError",
     "evalue": "unhashable type: 'list'",
     "output_type": "error",
     "traceback": [
      "\u001b[1;31m---------------------------------------------------------------------------\u001b[0m",
      "\u001b[1;31mTypeError\u001b[0m                                 Traceback (most recent call last)",
      "\u001b[1;32mpandas\\_libs\\hashtable_class_helper.pxi\u001b[0m in \u001b[0;36mpandas._libs.hashtable.PyObjectHashTable.map_locations\u001b[1;34m()\u001b[0m\n",
      "\u001b[1;31mTypeError\u001b[0m: unhashable type: 'list'"
     ]
    },
    {
     "name": "stderr",
     "output_type": "stream",
     "text": [
      "Exception ignored in: 'pandas._libs.index.IndexEngine._call_map_locations'\n",
      "Traceback (most recent call last):\n",
      "  File \"pandas\\_libs\\hashtable_class_helper.pxi\", line 1709, in pandas._libs.hashtable.PyObjectHashTable.map_locations\n",
      "TypeError: unhashable type: 'list'\n"
     ]
    },
    {
     "data": {
      "text/plain": [
       "[]                47746\n",
       "[.]                2502\n",
       "[ to ]              100\n",
       "[ - ]               100\n",
       "[/year]             100\n",
       "[ per annum]        100\n",
       "[K]                  50\n",
       "[.,  per hour]        3\n",
       "[.,  p/h]             2\n",
       "Name: Salary, dtype: int64"
      ]
     },
     "execution_count": 89,
     "metadata": {},
     "output_type": "execute_result"
    }
   ],
   "source": [
    "#replace \"-\" in Salary column to 0.00 in df\n",
    "df['Salary'].replace(\"-\",'0.00', inplace = True)\n",
    "#confirm the change\n",
    "salary_df = df['Salary'].astype(str).apply(lambda value:re.findall(r'\\D+\\.?\\D*',value)) #gets everything but numbers\n",
    "salary_df.value_counts()"
   ]
  },
  {
   "cell_type": "markdown",
   "metadata": {},
   "source": [
    "### 2.3.5 - Category"
   ]
  },
  {
   "cell_type": "code",
   "execution_count": 90,
   "metadata": {},
   "outputs": [
    {
     "data": {
      "text/plain": [
       "IT Jobs                             13132\n",
       "Healthcare & Nursing Jobs            8184\n",
       "Engineering Jobs                     7200\n",
       "Accounting & Finance Jobs            6802\n",
       "Sales Jobs                           4743\n",
       "Hospitality & Catering Jobs          4530\n",
       "Teaching Jobs                        3558\n",
       "PR, Advertising & Marketing Jobs     2554\n",
       "Name: Category, dtype: int64"
      ]
     },
     "execution_count": 90,
     "metadata": {},
     "output_type": "execute_result"
    }
   ],
   "source": [
    "df['Category'].value_counts()"
   ]
  },
  {
   "cell_type": "markdown",
   "metadata": {},
   "source": [
    "From the value_counts() we can see that there is no data abnormality in the category column, hence no further actions are required."
   ]
  },
  {
   "cell_type": "markdown",
   "metadata": {},
   "source": [
    "### 2.3.6 Location"
   ]
  },
  {
   "cell_type": "code",
   "execution_count": 91,
   "metadata": {},
   "outputs": [
    {
     "data": {
      "text/plain": [
       "UK                   7623\n",
       "London               6607\n",
       "South East London    2687\n",
       "The City             1129\n",
       "Central London        830\n",
       "                     ... \n",
       "Oxfords                 2\n",
       "BRISTOL                 2\n",
       "Leads                   2\n",
       "HAMpshire               1\n",
       "Manchaster              1\n",
       "Name: Location, Length: 489, dtype: int64"
      ]
     },
     "execution_count": 91,
     "metadata": {},
     "output_type": "execute_result"
    }
   ],
   "source": [
    "df['Location'].value_counts()"
   ]
  },
  {
   "cell_type": "markdown",
   "metadata": {},
   "source": [
    "From the above code, we can see that there are some mispellings and formatting errors with some of the names such as: cembridge which is asusmed to be Cambridge and HAMpshire which is assume to be Hampshire. The naming convention we choose to apply to the 'Location' column of be to capitalise the first letter of every word."
   ]
  },
  {
   "cell_type": "code",
   "execution_count": 92,
   "metadata": {},
   "outputs": [
    {
     "data": {
      "text/plain": [
       "Uk                   7623\n",
       "London               6609\n",
       "South East London    2687\n",
       "The City             1129\n",
       "Central London        830\n",
       "                     ... \n",
       "Leads                   2\n",
       "Oxfords                 2\n",
       "Cembridge               2\n",
       "Livepool                2\n",
       "Manchaster              1\n",
       "Name: Location, Length: 484, dtype: int64"
      ]
     },
     "execution_count": 92,
     "metadata": {},
     "output_type": "execute_result"
    }
   ],
   "source": [
    "df['Location'] = df['Location'].str.title() #title() captialises the first letter of every word in a string\n",
    "df['Location'].value_counts()"
   ]
  },
  {
   "cell_type": "code",
   "execution_count": 93,
   "metadata": {},
   "outputs": [],
   "source": [
    "#update er list for captitalisation\n",
    "updateErlist('ALL', 'ALL', 'Location', 'ALL', 'ALL','string format','captilised the first letter of every word in the string')"
   ]
  },
  {
   "cell_type": "markdown",
   "metadata": {},
   "source": [
    "This fixes the string formatting error, but there still remains some mispellings. "
   ]
  },
  {
   "cell_type": "code",
   "execution_count": 94,
   "metadata": {},
   "outputs": [
    {
     "data": {
      "text/plain": [
       "['Liverpool']"
      ]
     },
     "execution_count": 94,
     "metadata": {},
     "output_type": "execute_result"
    }
   ],
   "source": [
    "#check mispellings of Livepool against other locations in df for a close match that is not Livepool\n",
    "difflib.get_close_matches('Livepool', set(df['Location']).difference(['Livepool']),n=3)"
   ]
  },
  {
   "cell_type": "code",
   "execution_count": 95,
   "metadata": {},
   "outputs": [
    {
     "data": {
      "text/plain": [
       "['Cambridge', 'Weybridge', 'Uxbridge']"
      ]
     },
     "execution_count": 95,
     "metadata": {},
     "output_type": "execute_result"
    }
   ],
   "source": [
    "#same as above but for Cembridge\n",
    "difflib.get_close_matches('Cembridge', set(df['Location']).difference(['Cembridge']))\n",
    "#best match is Cambridge"
   ]
  },
  {
   "cell_type": "code",
   "execution_count": 96,
   "metadata": {},
   "outputs": [
    {
     "data": {
      "text/plain": [
       "['Manchester', 'Lancaster', 'Doncaster']"
      ]
     },
     "execution_count": 96,
     "metadata": {},
     "output_type": "execute_result"
    }
   ],
   "source": [
    "#same as above but for Manchaster\n",
    "difflib.get_close_matches('Manchaster', set(df['Location']).difference(['Manchaster']))\n",
    "#best match is Manchester"
   ]
  },
  {
   "cell_type": "code",
   "execution_count": 97,
   "metadata": {},
   "outputs": [],
   "source": [
    "#get all index and Id values where mispelling of Livepool is located\n",
    "df_mispelling = df[df['Location']== 'Livepool']\n",
    "index_list = df.index[df['Location'] == \"Livepool\"].tolist()\n",
    "id_list = df_mispelling['Id'].values.tolist()\n",
    "#update errlist\n",
    "for i in range(len(index_list)):\n",
    "    updateErlist(index_list[i], id_list[i], 'Location', 'Livepool', 'Liverpool','mispelling','change Livepool to Liverpool')\n",
    "\n",
    "        \n",
    "    "
   ]
  },
  {
   "cell_type": "code",
   "execution_count": 98,
   "metadata": {},
   "outputs": [],
   "source": [
    "#get all index and Id values where mispelling of  Cembridge is located\n",
    "df_mispelling = df[df['Location']== 'Cembridge']\n",
    "index_list = df.index[df['Location'] == \"Cembridge\"].tolist()\n",
    "id_list = df_mispelling['Id'].values.tolist()\n",
    "#update errlist\n",
    "for i in range(len(index_list)):\n",
    "        updateErlist(index_list[i], id_list[i], 'Location', 'Cembridge', 'Cambridge','mispelling','change Cembridge to Cambridge')"
   ]
  },
  {
   "cell_type": "code",
   "execution_count": 99,
   "metadata": {},
   "outputs": [
    {
     "name": "stdout",
     "output_type": "stream",
     "text": [
      "1 1\n"
     ]
    }
   ],
   "source": [
    "#get all index and Id values where mispelling of  Manchaster is located\n",
    "df_mispelling = df[df['Location']== 'Manchaster']\n",
    "index_list = df.index[df['Location'] == \"Manchaster\"].tolist()\n",
    "id_list = df_mispelling['Id'].values.tolist()\n",
    "print(len(index_list),len(id_list))\n",
    "#update errlist\n",
    "for i in range(len(index_list)):\n",
    "        updateErlist(index_list[i], id_list[i], 'Location', 'Manchaster', 'Manchester','mispelling','change Manchaster to Manchester')"
   ]
  },
  {
   "cell_type": "code",
   "execution_count": 100,
   "metadata": {},
   "outputs": [
    {
     "name": "stdout",
     "output_type": "stream",
     "text": [
      "Uk                   7623\n",
      "London               6609\n",
      "South East London    2687\n",
      "The City             1129\n",
      "Central London        830\n",
      "                     ... \n",
      "Oldbury                 8\n",
      "Chipping Campden        8\n",
      "North Finchley          7\n",
      "Oxfords                 2\n",
      "Leads                   2\n",
      "Name: Location, Length: 481, dtype: int64\n"
     ]
    }
   ],
   "source": [
    "#fix the mispellings in the df\n",
    "fix = {'Livepool' : 'Liverpool', 'Cembridge' : 'Cambridge', 'Manchaster': 'Manchester'}\n",
    "df['Location'].replace(fix,inplace = True)\n",
    "\n",
    "#confirm change\n",
    "print(df['Location'].value_counts())"
   ]
  },
  {
   "cell_type": "markdown",
   "metadata": {},
   "source": [
    "## 2.4 Irregularities "
   ]
  },
  {
   "cell_type": "markdown",
   "metadata": {},
   "source": [
    "This section will explore data irregularties where in the dataset, there exists data irregularities. They will also be recoreded in the error dataframe and clean appropriately."
   ]
  },
  {
   "cell_type": "markdown",
   "metadata": {},
   "source": [
    "### 2.4.1 Salary"
   ]
  },
  {
   "cell_type": "code",
   "execution_count": 101,
   "metadata": {},
   "outputs": [
    {
     "ename": "TypeError",
     "evalue": "unhashable type: 'list'",
     "output_type": "error",
     "traceback": [
      "\u001b[1;31m---------------------------------------------------------------------------\u001b[0m",
      "\u001b[1;31mTypeError\u001b[0m                                 Traceback (most recent call last)",
      "\u001b[1;32mpandas\\_libs\\hashtable_class_helper.pxi\u001b[0m in \u001b[0;36mpandas._libs.hashtable.PyObjectHashTable.map_locations\u001b[1;34m()\u001b[0m\n",
      "\u001b[1;31mTypeError\u001b[0m: unhashable type: 'list'"
     ]
    },
    {
     "name": "stderr",
     "output_type": "stream",
     "text": [
      "Exception ignored in: 'pandas._libs.index.IndexEngine._call_map_locations'\n",
      "Traceback (most recent call last):\n",
      "  File \"pandas\\_libs\\hashtable_class_helper.pxi\", line 1709, in pandas._libs.hashtable.PyObjectHashTable.map_locations\n",
      "TypeError: unhashable type: 'list'\n"
     ]
    },
    {
     "data": {
      "text/plain": [
       "[]                47746\n",
       "[.]                2502\n",
       "[ to ]              100\n",
       "[ - ]               100\n",
       "[/year]             100\n",
       "[ per annum]        100\n",
       "[K]                  50\n",
       "[.,  per hour]        3\n",
       "[.,  p/h]             2\n",
       "Name: Salary, dtype: int64"
      ]
     },
     "execution_count": 101,
     "metadata": {},
     "output_type": "execute_result"
    }
   ],
   "source": [
    "new_df = df['Salary'].astype(str).apply(lambda value:re.findall(r'\\D+\\.?\\D*',value)) #gets everything but numbers\n",
    "#new_df = df['Salary'].apply(lambda value:re.findall(r'.+to.+D*',value)) # gets (5000 to 40000)\n",
    "#new_df = df['Salary'].apply(lambda value:re.findall(r'\\d+\\..+',value)) # gets floating point numbers\n",
    "#new_df = df['Salary'].apply(lambda value:re.findall(r'.+-.+',value)) # gets values such as (56000 - 256000)\n",
    "\n",
    "new_df.value_counts()\n"
   ]
  },
  {
   "cell_type": "markdown",
   "metadata": {},
   "source": [
    "From the value count of the 'Salary' column above we can the irregularities in the values. Some are just a number, some values are a range while others have an hourly rate. The data type of the \"Salary\" column is a float hence we need to fix the values from a string or object to a floating point number. The value in \"Salary\" should indicate the salary per year for that position as a floating point number."
   ]
  },
  {
   "cell_type": "markdown",
   "metadata": {},
   "source": [
    "### 2.4.1.1 Salary - \"K\", \" per annum\" and \"/year\" "
   ]
  },
  {
   "cell_type": "markdown",
   "metadata": {},
   "source": [
    "To deal with the \"K\" within the value, we simple replace \"K\" with \"000\" as a \"K\", means per thousand. To fix \"per annum\" and \"/year\" we just replace the string with whitespace as the number in front of the phrase 'per annum' and '/year' suggests a yearly salary. This can be confirmed by checking the xml file."
   ]
  },
  {
   "cell_type": "code",
   "execution_count": 102,
   "metadata": {},
   "outputs": [],
   "source": [
    "df['Salary'] = df['Salary'].astype(str).apply(lambda value:re.sub('per annum','',value))\n",
    "df['Salary'] = df['Salary'].astype(str).apply(lambda value:re.sub('K','000',value))\n",
    "df['Salary'] = df['Salary'].astype(str).apply(lambda value:re.sub('/year','',value))"
   ]
  },
  {
   "cell_type": "code",
   "execution_count": 103,
   "metadata": {},
   "outputs": [
    {
     "ename": "TypeError",
     "evalue": "unhashable type: 'list'",
     "output_type": "error",
     "traceback": [
      "\u001b[1;31m---------------------------------------------------------------------------\u001b[0m",
      "\u001b[1;31mTypeError\u001b[0m                                 Traceback (most recent call last)",
      "\u001b[1;32mpandas\\_libs\\hashtable_class_helper.pxi\u001b[0m in \u001b[0;36mpandas._libs.hashtable.PyObjectHashTable.map_locations\u001b[1;34m()\u001b[0m\n",
      "\u001b[1;31mTypeError\u001b[0m: unhashable type: 'list'"
     ]
    },
    {
     "name": "stderr",
     "output_type": "stream",
     "text": [
      "Exception ignored in: 'pandas._libs.index.IndexEngine._call_map_locations'\n",
      "Traceback (most recent call last):\n",
      "  File \"pandas\\_libs\\hashtable_class_helper.pxi\", line 1709, in pandas._libs.hashtable.PyObjectHashTable.map_locations\n",
      "TypeError: unhashable type: 'list'\n"
     ]
    },
    {
     "data": {
      "text/plain": [
       "[]                47896\n",
       "[.]                2502\n",
       "[ to ]              100\n",
       "[ - ]               100\n",
       "[ ]                 100\n",
       "[.,  per hour]        3\n",
       "[.,  p/h]             2\n",
       "Name: Salary, dtype: int64"
      ]
     },
     "execution_count": 103,
     "metadata": {},
     "output_type": "execute_result"
    }
   ],
   "source": [
    "#confirm change\n",
    "new_df = df['Salary'].astype(str).apply(lambda value:re.findall(r'\\D+\\.?\\D*',value)) #gets everything but numbers\n",
    "new_df.value_counts()"
   ]
  },
  {
   "cell_type": "markdown",
   "metadata": {},
   "source": [
    "### 2.4.1.1 Salary - \"to\" and \"-\" "
   ]
  },
  {
   "cell_type": "markdown",
   "metadata": {},
   "source": [
    "Salaries with 'to' and - indicated a range. To fix this, we will grab the mean of the two values and replace it with that. If the code blocks do not work, it suggests that NULL values have not been dealt with, and section 2.1 will need to be run first before this section is ran."
   ]
  },
  {
   "cell_type": "code",
   "execution_count": 104,
   "metadata": {},
   "outputs": [],
   "source": [
    "#This code block deals with the irregularity of 'x-x' where x are floating point numbers, indicating a range for salary. \n",
    "#It replaces the code range with the mean of the two values\n",
    "\n",
    "#create lists to hold values to update errlist\n",
    "index_list = []\n",
    "id_list = []\n",
    "original_list = []\n",
    "new_list = []\n",
    "for index, value in df['Salary'].items(): # gets index and value of the cell in Salary\n",
    "    match = re.match(r'(.+)-(.+)',value) # returns a match object (the string. length, groups) or None if there is not  match\n",
    "    if match:\n",
    "        #append id,index and original value to respective lists for err list uprate\n",
    "        index_list.append(index)\n",
    "        id_list.append(df.loc[index,'Id'])\n",
    "        original_list.append(str(match.string))\n",
    "        \n",
    "        #calculate new value\n",
    "        average = int(match.group(1)) + int(match.group(2)) / 2\n",
    "        \n",
    "        #append new value to list to update errlist\n",
    "        new_list.append(str(average))\n",
    "        \n",
    "        #update with new value\n",
    "        df.loc[index, 'Salary'] = re.sub(r'(.+)-(.+)', str(average), value)"
   ]
  },
  {
   "cell_type": "code",
   "execution_count": 105,
   "metadata": {},
   "outputs": [],
   "source": [
    "#update errlist\n",
    "for i in range(len(index_list)):\n",
    "        updateErlist(index_list[i], id_list[i], 'Salary', original_list[i], new_list[i],'data irregularity','change the range to the mean of the two values')"
   ]
  },
  {
   "cell_type": "code",
   "execution_count": 106,
   "metadata": {},
   "outputs": [],
   "source": [
    "#This code block deals with the irregularity of 'x to x' where x are floating point numbers, indicating a range for salary.\n",
    "#It replaces the code range with the mean of the two values. Same as x-x, but with a different pattern\n",
    "\n",
    "#create lists to hold values to update errlist\n",
    "index_list = []\n",
    "id_list = []\n",
    "original_list = []\n",
    "new_list = []\n",
    "for index, value in df['Salary'].items(): # gets index and value of the cell in Salary\n",
    "    match = re.match(r'(.+)to(.+)',value) # returns a match object (the string. length, groups) or None if there is not  match\n",
    "    if match:\n",
    "        #append id,index and original value to respective lists for err list uprate\n",
    "        index_list.append(index)\n",
    "        id_list.append(df.loc[index,'Id'])\n",
    "        original_list.append(str(match.string))\n",
    "        \n",
    "        #calculate new value\n",
    "        average = int(match.group(1)) + int(match.group(2)) / 2\n",
    "        \n",
    "        #append new value to list to update errlist\n",
    "        new_list.append(str(average))\n",
    "        \n",
    "        #update with new value\n",
    "        df.loc[index, 'Salary'] = re.sub(r'(.+)to(.+)', str(average), value)"
   ]
  },
  {
   "cell_type": "code",
   "execution_count": 107,
   "metadata": {},
   "outputs": [],
   "source": [
    "#update errlist\n",
    "for i in range(len(index_list)):\n",
    "        updateErlist(index_list[i], id_list[i], 'Salary', original_list[i], new_list[i],'data irregularity','change the range to the mean value')"
   ]
  },
  {
   "cell_type": "code",
   "execution_count": 108,
   "metadata": {},
   "outputs": [
    {
     "data": {
      "text/html": [
       "<div>\n",
       "<style scoped>\n",
       "    .dataframe tbody tr th:only-of-type {\n",
       "        vertical-align: middle;\n",
       "    }\n",
       "\n",
       "    .dataframe tbody tr th {\n",
       "        vertical-align: top;\n",
       "    }\n",
       "\n",
       "    .dataframe thead th {\n",
       "        text-align: right;\n",
       "    }\n",
       "</style>\n",
       "<table border=\"1\" class=\"dataframe\">\n",
       "  <thead>\n",
       "    <tr style=\"text-align: right;\">\n",
       "      <th></th>\n",
       "      <th>indexOfdf</th>\n",
       "      <th>Id</th>\n",
       "      <th>ColumnName</th>\n",
       "      <th>Original</th>\n",
       "      <th>Modified</th>\n",
       "      <th>ErrorType</th>\n",
       "      <th>Fixing</th>\n",
       "    </tr>\n",
       "  </thead>\n",
       "  <tbody>\n",
       "    <tr>\n",
       "      <th>60064</th>\n",
       "      <td>49491</td>\n",
       "      <td>69533817</td>\n",
       "      <td>Salary</td>\n",
       "      <td>43500 to 48500</td>\n",
       "      <td>67750.0</td>\n",
       "      <td>data irregularity</td>\n",
       "      <td>change the range to the mean value</td>\n",
       "    </tr>\n",
       "    <tr>\n",
       "      <th>60065</th>\n",
       "      <td>49566</td>\n",
       "      <td>71797868</td>\n",
       "      <td>Salary</td>\n",
       "      <td>29900 to 34900</td>\n",
       "      <td>47350.0</td>\n",
       "      <td>data irregularity</td>\n",
       "      <td>change the range to the mean value</td>\n",
       "    </tr>\n",
       "    <tr>\n",
       "      <th>60066</th>\n",
       "      <td>50319</td>\n",
       "      <td>71801601</td>\n",
       "      <td>Salary</td>\n",
       "      <td>25000 to 30000</td>\n",
       "      <td>40000.0</td>\n",
       "      <td>data irregularity</td>\n",
       "      <td>change the range to the mean value</td>\n",
       "    </tr>\n",
       "    <tr>\n",
       "      <th>60067</th>\n",
       "      <td>50334</td>\n",
       "      <td>69557592</td>\n",
       "      <td>Salary</td>\n",
       "      <td>25500 to 30500</td>\n",
       "      <td>40750.0</td>\n",
       "      <td>data irregularity</td>\n",
       "      <td>change the range to the mean value</td>\n",
       "    </tr>\n",
       "    <tr>\n",
       "      <th>60068</th>\n",
       "      <td>50467</td>\n",
       "      <td>68362841</td>\n",
       "      <td>Salary</td>\n",
       "      <td>37500 to 42500</td>\n",
       "      <td>58750.0</td>\n",
       "      <td>data irregularity</td>\n",
       "      <td>change the range to the mean value</td>\n",
       "    </tr>\n",
       "  </tbody>\n",
       "</table>\n",
       "</div>"
      ],
      "text/plain": [
       "      indexOfdf        Id ColumnName        Original Modified  \\\n",
       "60064     49491  69533817     Salary  43500 to 48500  67750.0   \n",
       "60065     49566  71797868     Salary  29900 to 34900  47350.0   \n",
       "60066     50319  71801601     Salary  25000 to 30000  40000.0   \n",
       "60067     50334  69557592     Salary  25500 to 30500  40750.0   \n",
       "60068     50467  68362841     Salary  37500 to 42500  58750.0   \n",
       "\n",
       "               ErrorType                              Fixing  \n",
       "60064  data irregularity  change the range to the mean value  \n",
       "60065  data irregularity  change the range to the mean value  \n",
       "60066  data irregularity  change the range to the mean value  \n",
       "60067  data irregularity  change the range to the mean value  \n",
       "60068  data irregularity  change the range to the mean value  "
      ]
     },
     "execution_count": 108,
     "metadata": {},
     "output_type": "execute_result"
    }
   ],
   "source": [
    "errlist.tail()"
   ]
  },
  {
   "cell_type": "code",
   "execution_count": 109,
   "metadata": {},
   "outputs": [
    {
     "ename": "TypeError",
     "evalue": "unhashable type: 'list'",
     "output_type": "error",
     "traceback": [
      "\u001b[1;31m---------------------------------------------------------------------------\u001b[0m",
      "\u001b[1;31mTypeError\u001b[0m                                 Traceback (most recent call last)",
      "\u001b[1;32mpandas\\_libs\\hashtable_class_helper.pxi\u001b[0m in \u001b[0;36mpandas._libs.hashtable.PyObjectHashTable.map_locations\u001b[1;34m()\u001b[0m\n",
      "\u001b[1;31mTypeError\u001b[0m: unhashable type: 'list'"
     ]
    },
    {
     "name": "stderr",
     "output_type": "stream",
     "text": [
      "Exception ignored in: 'pandas._libs.index.IndexEngine._call_map_locations'\n",
      "Traceback (most recent call last):\n",
      "  File \"pandas\\_libs\\hashtable_class_helper.pxi\", line 1709, in pandas._libs.hashtable.PyObjectHashTable.map_locations\n",
      "TypeError: unhashable type: 'list'\n"
     ]
    },
    {
     "data": {
      "text/plain": [
       "[]                47896\n",
       "[.]                2702\n",
       "[ ]                 100\n",
       "[.,  per hour]        3\n",
       "[.,  p/h]             2\n",
       "Name: Salary, dtype: int64"
      ]
     },
     "execution_count": 109,
     "metadata": {},
     "output_type": "execute_result"
    }
   ],
   "source": [
    "#confirm change\n",
    "new_df = df['Salary'].astype(str).apply(lambda value:re.findall(r'\\D+\\.?\\D*',value)) #gets everything but numbers\n",
    "new_df.value_counts()"
   ]
  },
  {
   "cell_type": "markdown",
   "metadata": {},
   "source": [
    "#### 2.4.1.2 Salary - \"per hour\" and \"p/h\" "
   ]
  },
  {
   "cell_type": "markdown",
   "metadata": {},
   "source": [
    "To deal with the hourly rate we assume that there is 40 hours in one work week and 52 weeks in a year. To convert this to a yearly salary, we extract the hourly pay rate and multiply it first by 40 then 52 before replace the whole cell value with the result."
   ]
  },
  {
   "cell_type": "code",
   "execution_count": 110,
   "metadata": {},
   "outputs": [],
   "source": [
    "# This code block deals with the irregularity of \"x, per hour where x is a floating point number. \n",
    "# It replaces the per hour rate by obtaining the floating point number, x, then multipling it by \n",
    "# 40 represetning, the avergae working hours in a week, before multiplying it by 52 - \n",
    "# the number of weeks in a year\n",
    "# Formula used: x * 40 * 52, where x is the rate per hour.\n",
    "\n",
    "#create lists to hold values to update errlist\n",
    "index_list = []\n",
    "id_list = []\n",
    "original_list = []\n",
    "new_list = []\n",
    "for index, value in df['Salary'].items(): # gets index and value of the cell in Salary\n",
    "    match = re.match(r'(\\d+.?\\d*).+per hour',value) # returns a match object (the string. length, groups) or None if there is not  match\n",
    "    if match:\n",
    "        #append id,index and original value to respective lists for err list uprate\n",
    "        index_list.append(index)\n",
    "        id_list.append(df.loc[index,'Id'])\n",
    "        original_list.append(str(match.string))\n",
    "        #calculate new value\n",
    "        yearly_sal = float(match.group(1)) * 40 * 52 \n",
    "        \n",
    "        \n",
    "        #append new value to list to update errlist\n",
    "        new_list.append(yearly_sal)\n",
    "        \n",
    "        #update with new value\n",
    "        df.loc[index, 'Salary'] = re.sub(r'(\\d+.?\\d*).+per hour', str(yearly_sal), value)"
   ]
  },
  {
   "cell_type": "code",
   "execution_count": 111,
   "metadata": {},
   "outputs": [],
   "source": [
    "#update errlist\n",
    "for i in range(len(index_list)):\n",
    "        updateErlist(index_list[i], id_list[i], 'Salary', original_list[i], new_list[i],'data irregularity','multiply hourly rate by 40 and 52')"
   ]
  },
  {
   "cell_type": "code",
   "execution_count": 112,
   "metadata": {},
   "outputs": [
    {
     "data": {
      "text/html": [
       "<div>\n",
       "<style scoped>\n",
       "    .dataframe tbody tr th:only-of-type {\n",
       "        vertical-align: middle;\n",
       "    }\n",
       "\n",
       "    .dataframe tbody tr th {\n",
       "        vertical-align: top;\n",
       "    }\n",
       "\n",
       "    .dataframe thead th {\n",
       "        text-align: right;\n",
       "    }\n",
       "</style>\n",
       "<table border=\"1\" class=\"dataframe\">\n",
       "  <thead>\n",
       "    <tr style=\"text-align: right;\">\n",
       "      <th></th>\n",
       "      <th>indexOfdf</th>\n",
       "      <th>Id</th>\n",
       "      <th>ColumnName</th>\n",
       "      <th>Original</th>\n",
       "      <th>Modified</th>\n",
       "      <th>ErrorType</th>\n",
       "      <th>Fixing</th>\n",
       "    </tr>\n",
       "  </thead>\n",
       "  <tbody>\n",
       "    <tr>\n",
       "      <th>60067</th>\n",
       "      <td>50334</td>\n",
       "      <td>69557592</td>\n",
       "      <td>Salary</td>\n",
       "      <td>25500 to 30500</td>\n",
       "      <td>40750.0</td>\n",
       "      <td>data irregularity</td>\n",
       "      <td>change the range to the mean value</td>\n",
       "    </tr>\n",
       "    <tr>\n",
       "      <th>60068</th>\n",
       "      <td>50467</td>\n",
       "      <td>68362841</td>\n",
       "      <td>Salary</td>\n",
       "      <td>37500 to 42500</td>\n",
       "      <td>58750.0</td>\n",
       "      <td>data irregularity</td>\n",
       "      <td>change the range to the mean value</td>\n",
       "    </tr>\n",
       "    <tr>\n",
       "      <th>60069</th>\n",
       "      <td>5200</td>\n",
       "      <td>68571131</td>\n",
       "      <td>Salary</td>\n",
       "      <td>11.63 per hour</td>\n",
       "      <td>24190.4</td>\n",
       "      <td>data irregularity</td>\n",
       "      <td>multiply hourly rate by 40 and 52</td>\n",
       "    </tr>\n",
       "    <tr>\n",
       "      <th>60070</th>\n",
       "      <td>11696</td>\n",
       "      <td>70758357</td>\n",
       "      <td>Salary</td>\n",
       "      <td>12.69 per hour</td>\n",
       "      <td>26395.2</td>\n",
       "      <td>data irregularity</td>\n",
       "      <td>multiply hourly rate by 40 and 52</td>\n",
       "    </tr>\n",
       "    <tr>\n",
       "      <th>60071</th>\n",
       "      <td>45540</td>\n",
       "      <td>69731349</td>\n",
       "      <td>Salary</td>\n",
       "      <td>11.0 per hour</td>\n",
       "      <td>22880</td>\n",
       "      <td>data irregularity</td>\n",
       "      <td>multiply hourly rate by 40 and 52</td>\n",
       "    </tr>\n",
       "  </tbody>\n",
       "</table>\n",
       "</div>"
      ],
      "text/plain": [
       "      indexOfdf        Id ColumnName        Original Modified  \\\n",
       "60067     50334  69557592     Salary  25500 to 30500  40750.0   \n",
       "60068     50467  68362841     Salary  37500 to 42500  58750.0   \n",
       "60069      5200  68571131     Salary  11.63 per hour  24190.4   \n",
       "60070     11696  70758357     Salary  12.69 per hour  26395.2   \n",
       "60071     45540  69731349     Salary   11.0 per hour    22880   \n",
       "\n",
       "               ErrorType                              Fixing  \n",
       "60067  data irregularity  change the range to the mean value  \n",
       "60068  data irregularity  change the range to the mean value  \n",
       "60069  data irregularity   multiply hourly rate by 40 and 52  \n",
       "60070  data irregularity   multiply hourly rate by 40 and 52  \n",
       "60071  data irregularity   multiply hourly rate by 40 and 52  "
      ]
     },
     "execution_count": 112,
     "metadata": {},
     "output_type": "execute_result"
    }
   ],
   "source": [
    "errlist.tail()"
   ]
  },
  {
   "cell_type": "code",
   "execution_count": 113,
   "metadata": {},
   "outputs": [
    {
     "ename": "TypeError",
     "evalue": "unhashable type: 'list'",
     "output_type": "error",
     "traceback": [
      "\u001b[1;31m---------------------------------------------------------------------------\u001b[0m",
      "\u001b[1;31mTypeError\u001b[0m                                 Traceback (most recent call last)",
      "\u001b[1;32mpandas\\_libs\\hashtable_class_helper.pxi\u001b[0m in \u001b[0;36mpandas._libs.hashtable.PyObjectHashTable.map_locations\u001b[1;34m()\u001b[0m\n",
      "\u001b[1;31mTypeError\u001b[0m: unhashable type: 'list'"
     ]
    },
    {
     "name": "stderr",
     "output_type": "stream",
     "text": [
      "Exception ignored in: 'pandas._libs.index.IndexEngine._call_map_locations'\n",
      "Traceback (most recent call last):\n",
      "  File \"pandas\\_libs\\hashtable_class_helper.pxi\", line 1709, in pandas._libs.hashtable.PyObjectHashTable.map_locations\n",
      "TypeError: unhashable type: 'list'\n"
     ]
    },
    {
     "data": {
      "text/plain": [
       "[]           47896\n",
       "[.]           2705\n",
       "[ ]            100\n",
       "[.,  p/h]        2\n",
       "Name: Salary, dtype: int64"
      ]
     },
     "execution_count": 113,
     "metadata": {},
     "output_type": "execute_result"
    }
   ],
   "source": [
    "#confirm change\n",
    "new_df = df['Salary'].astype(str).apply(lambda value:re.findall(r'\\D+\\.?\\D*',value)) #gets everything but numbers\n",
    "new_df.value_counts()"
   ]
  },
  {
   "cell_type": "code",
   "execution_count": 114,
   "metadata": {},
   "outputs": [],
   "source": [
    "# This code block deals with the irregularity of \"x, per p/h where x is a floating point number. \n",
    "# It replaces the per hour rate by obtaining the floating point number, x, then multipling it by \n",
    "# 40 represetning, the avergae working hours in a week, before multiplying it by 52 - \n",
    "# the number of weeks in a year\n",
    "# Formula used: x * 40 * 52, where x is the rate per hour.\n",
    "\n",
    "#create lists to hold values to update errlist\n",
    "index_list = []\n",
    "id_list = []\n",
    "original_list = []\n",
    "new_list = []\n",
    "for index, value in df['Salary'].items(): # gets index and value of the cell in Salary\n",
    "    match = re.match(r'(\\d+.?\\d*).+p/h',value) # returns a match object (the string. length, groups) or None if there is not  match\n",
    "    if match:\n",
    "        #append id,index and original value to respective lists for err list uprate\n",
    "        index_list.append(index)\n",
    "        id_list.append(df.loc[index,'Id'])\n",
    "        original_list.append(str(match.string))\n",
    "        #calculate new value\n",
    "        yearly_sal = float(match.group(1)) * 40 * 52 \n",
    "        \n",
    "        \n",
    "        #append new value to list to update errlist\n",
    "        new_list.append(yearly_sal)\n",
    "        \n",
    "        #update with new value\n",
    "        df.loc[index, 'Salary'] = re.sub(r'(\\d+.?\\d*).+p/h', str(yearly_sal), value)"
   ]
  },
  {
   "cell_type": "code",
   "execution_count": 115,
   "metadata": {},
   "outputs": [],
   "source": [
    "#update errlist\n",
    "for i in range(len(index_list)):\n",
    "        updateErlist(index_list[i], id_list[i], 'Salary', original_list[i], new_list[i],'data irregularity','multiply hourly rate by 40 and 52')"
   ]
  },
  {
   "cell_type": "code",
   "execution_count": 116,
   "metadata": {
    "scrolled": true
   },
   "outputs": [
    {
     "ename": "TypeError",
     "evalue": "unhashable type: 'list'",
     "output_type": "error",
     "traceback": [
      "\u001b[1;31m---------------------------------------------------------------------------\u001b[0m",
      "\u001b[1;31mTypeError\u001b[0m                                 Traceback (most recent call last)",
      "\u001b[1;32mpandas\\_libs\\hashtable_class_helper.pxi\u001b[0m in \u001b[0;36mpandas._libs.hashtable.PyObjectHashTable.map_locations\u001b[1;34m()\u001b[0m\n",
      "\u001b[1;31mTypeError\u001b[0m: unhashable type: 'list'"
     ]
    },
    {
     "name": "stderr",
     "output_type": "stream",
     "text": [
      "Exception ignored in: 'pandas._libs.index.IndexEngine._call_map_locations'\n",
      "Traceback (most recent call last):\n",
      "  File \"pandas\\_libs\\hashtable_class_helper.pxi\", line 1709, in pandas._libs.hashtable.PyObjectHashTable.map_locations\n",
      "TypeError: unhashable type: 'list'\n"
     ]
    },
    {
     "data": {
      "text/plain": [
       "[]     47896\n",
       "[.]     2707\n",
       "[ ]      100\n",
       "Name: Salary, dtype: int64"
      ]
     },
     "execution_count": 116,
     "metadata": {},
     "output_type": "execute_result"
    }
   ],
   "source": [
    "#confirm change\n",
    "new_df = df['Salary'].astype(str).apply(lambda value:re.findall(r'\\D+\\.?\\D*',value)) #gets everything but numbers\n",
    "new_df.value_counts()"
   ]
  },
  {
   "cell_type": "markdown",
   "metadata": {},
   "source": [
    "## 2.5 - Integrity"
   ]
  },
  {
   "cell_type": "markdown",
   "metadata": {},
   "source": [
    "In this section we check if any integrity constraints have been broken. For exmaple in this dataset, we check to see if the the numeric value that represents months is greater than 12 as there cannot be 12 or more months. Simiarly, we check to see if the number of days exceed 31, we assume each month contains 31 days for simplicity sake.\n",
    "\n",
    "We also check the date integrity constraint is broken that is, the closing date of the job position comes first before the opening date."
   ]
  },
  {
   "cell_type": "markdown",
   "metadata": {},
   "source": [
    "### 2.5.1 - Month Integrity"
   ]
  },
  {
   "cell_type": "markdown",
   "metadata": {},
   "source": [
    "We check if any of the months in the date is more than 12."
   ]
  },
  {
   "cell_type": "code",
   "execution_count": 117,
   "metadata": {},
   "outputs": [
    {
     "data": {
      "text/html": [
       "<div>\n",
       "<style scoped>\n",
       "    .dataframe tbody tr th:only-of-type {\n",
       "        vertical-align: middle;\n",
       "    }\n",
       "\n",
       "    .dataframe tbody tr th {\n",
       "        vertical-align: top;\n",
       "    }\n",
       "\n",
       "    .dataframe thead th {\n",
       "        text-align: right;\n",
       "    }\n",
       "</style>\n",
       "<table border=\"1\" class=\"dataframe\">\n",
       "  <thead>\n",
       "    <tr style=\"text-align: right;\">\n",
       "      <th></th>\n",
       "      <th>Id</th>\n",
       "      <th>Title</th>\n",
       "      <th>Location</th>\n",
       "      <th>Company</th>\n",
       "      <th>Category</th>\n",
       "      <th>Salary</th>\n",
       "      <th>OpenDate</th>\n",
       "      <th>CloseDate</th>\n",
       "      <th>ContractTime</th>\n",
       "      <th>SourceName</th>\n",
       "      <th>ContractType</th>\n",
       "      <th>violated</th>\n",
       "    </tr>\n",
       "  </thead>\n",
       "  <tbody>\n",
       "    <tr>\n",
       "      <th>45177</th>\n",
       "      <td>69122004</td>\n",
       "      <td>After Sales Marine Specialist  Product Support</td>\n",
       "      <td>Berkshire</td>\n",
       "      <td>non-specific</td>\n",
       "      <td>Engineering Jobs</td>\n",
       "      <td>46000</td>\n",
       "      <td>20122808T120000</td>\n",
       "      <td>20120927T120000</td>\n",
       "      <td>permanent</td>\n",
       "      <td>jobs.telegraph.co.uk</td>\n",
       "      <td>non-specific</td>\n",
       "      <td>True</td>\n",
       "    </tr>\n",
       "  </tbody>\n",
       "</table>\n",
       "</div>"
      ],
      "text/plain": [
       "             Id                                           Title   Location  \\\n",
       "45177  69122004  After Sales Marine Specialist  Product Support  Berkshire   \n",
       "\n",
       "            Company          Category Salary         OpenDate  \\\n",
       "45177  non-specific  Engineering Jobs  46000  20122808T120000   \n",
       "\n",
       "             CloseDate ContractTime            SourceName  ContractType  \\\n",
       "45177  20120927T120000    permanent  jobs.telegraph.co.uk  non-specific   \n",
       "\n",
       "       violated  \n",
       "45177      True  "
      ]
     },
     "execution_count": 117,
     "metadata": {},
     "output_type": "execute_result"
    }
   ],
   "source": [
    "#see if any months in OpenDate are greater than 12 that is the 5 and 6 digits\n",
    "df['violated'] = df.apply(lambda row:int(re.search(r'(\\d{4})(\\d{2}).+',row['OpenDate']).group(2)) > 12  ,axis =1)\n",
    "df[df['violated']] # empty means no violation"
   ]
  },
  {
   "cell_type": "markdown",
   "metadata": {},
   "source": [
    "From the df we can see that the row at index 45177 has a violation, where the month number is the 28th month which doesn't exist. We set the default month to 12."
   ]
  },
  {
   "cell_type": "code",
   "execution_count": 118,
   "metadata": {},
   "outputs": [],
   "source": [
    "#set values of month number to 12\n",
    "applied_indices = df[df['violated']].index\n",
    "for ind in applied_indices:\n",
    "    month = int(re.search(r'(\\d{4})(\\d{2}).+',df.loc[ind,'OpenDate']).group(2)) # find the month date\n",
    "    df.loc[ind,'OpenDate'] = re.sub(str(month),\"12\", df.loc[ind, 'OpenDate']) # using that month date replace it with '12'"
   ]
  },
  {
   "cell_type": "code",
   "execution_count": 119,
   "metadata": {},
   "outputs": [
    {
     "data": {
      "text/html": [
       "<div>\n",
       "<style scoped>\n",
       "    .dataframe tbody tr th:only-of-type {\n",
       "        vertical-align: middle;\n",
       "    }\n",
       "\n",
       "    .dataframe tbody tr th {\n",
       "        vertical-align: top;\n",
       "    }\n",
       "\n",
       "    .dataframe thead th {\n",
       "        text-align: right;\n",
       "    }\n",
       "</style>\n",
       "<table border=\"1\" class=\"dataframe\">\n",
       "  <thead>\n",
       "    <tr style=\"text-align: right;\">\n",
       "      <th></th>\n",
       "      <th>Id</th>\n",
       "      <th>Title</th>\n",
       "      <th>Location</th>\n",
       "      <th>Company</th>\n",
       "      <th>Category</th>\n",
       "      <th>Salary</th>\n",
       "      <th>OpenDate</th>\n",
       "      <th>CloseDate</th>\n",
       "      <th>ContractTime</th>\n",
       "      <th>SourceName</th>\n",
       "      <th>ContractType</th>\n",
       "      <th>violated</th>\n",
       "    </tr>\n",
       "  </thead>\n",
       "  <tbody>\n",
       "  </tbody>\n",
       "</table>\n",
       "</div>"
      ],
      "text/plain": [
       "Empty DataFrame\n",
       "Columns: [Id, Title, Location, Company, Category, Salary, OpenDate, CloseDate, ContractTime, SourceName, ContractType, violated]\n",
       "Index: []"
      ]
     },
     "execution_count": 119,
     "metadata": {},
     "output_type": "execute_result"
    }
   ],
   "source": [
    "#check to see if the replacement worked\n",
    "df['violated'] = df.apply(lambda row:int(re.search(r'(\\d{4})(\\d{2}).+',row['OpenDate']).group(2)) > 12  ,axis =1)\n",
    "#empty means no more violation\n",
    "df[df['violated']]"
   ]
  },
  {
   "cell_type": "markdown",
   "metadata": {},
   "source": [
    "From the results above we can see that now there is no more month violation in 'OpenDate', we will now check for any month violation in 'CloseDate'"
   ]
  },
  {
   "cell_type": "code",
   "execution_count": 120,
   "metadata": {},
   "outputs": [],
   "source": [
    "updateErlist('45177', '69122004','OpenDate','20122808T120000','20121208T120000','Integrity', 'changed from 28th month to 12th month')"
   ]
  },
  {
   "cell_type": "code",
   "execution_count": 121,
   "metadata": {},
   "outputs": [
    {
     "data": {
      "text/html": [
       "<div>\n",
       "<style scoped>\n",
       "    .dataframe tbody tr th:only-of-type {\n",
       "        vertical-align: middle;\n",
       "    }\n",
       "\n",
       "    .dataframe tbody tr th {\n",
       "        vertical-align: top;\n",
       "    }\n",
       "\n",
       "    .dataframe thead th {\n",
       "        text-align: right;\n",
       "    }\n",
       "</style>\n",
       "<table border=\"1\" class=\"dataframe\">\n",
       "  <thead>\n",
       "    <tr style=\"text-align: right;\">\n",
       "      <th></th>\n",
       "      <th>Id</th>\n",
       "      <th>Title</th>\n",
       "      <th>Location</th>\n",
       "      <th>Company</th>\n",
       "      <th>Category</th>\n",
       "      <th>Salary</th>\n",
       "      <th>OpenDate</th>\n",
       "      <th>CloseDate</th>\n",
       "      <th>ContractTime</th>\n",
       "      <th>SourceName</th>\n",
       "      <th>ContractType</th>\n",
       "      <th>violated</th>\n",
       "    </tr>\n",
       "  </thead>\n",
       "  <tbody>\n",
       "  </tbody>\n",
       "</table>\n",
       "</div>"
      ],
      "text/plain": [
       "Empty DataFrame\n",
       "Columns: [Id, Title, Location, Company, Category, Salary, OpenDate, CloseDate, ContractTime, SourceName, ContractType, violated]\n",
       "Index: []"
      ]
     },
     "execution_count": 121,
     "metadata": {},
     "output_type": "execute_result"
    }
   ],
   "source": [
    "#see if any months in CloseDate are greater than 12 that is the 5 and 6 digits\n",
    "df['violated'] = df.apply(lambda row:int(re.search(r'(\\d{4})(\\d{2}).+',row['CloseDate']).group(2)) > 12  ,axis =1)\n",
    "#empty means no violation\n",
    "df[df['violated']]"
   ]
  },
  {
   "cell_type": "markdown",
   "metadata": {},
   "source": [
    "There is no month integrity violation in 'CloseDate'"
   ]
  },
  {
   "cell_type": "markdown",
   "metadata": {},
   "source": [
    "### 2.5.2 - Day Integrity"
   ]
  },
  {
   "cell_type": "markdown",
   "metadata": {},
   "source": [
    "Here we check to see if any rows have more than 31 days. We assume all months have 31 days for simplicity"
   ]
  },
  {
   "cell_type": "code",
   "execution_count": 122,
   "metadata": {},
   "outputs": [
    {
     "data": {
      "text/html": [
       "<div>\n",
       "<style scoped>\n",
       "    .dataframe tbody tr th:only-of-type {\n",
       "        vertical-align: middle;\n",
       "    }\n",
       "\n",
       "    .dataframe tbody tr th {\n",
       "        vertical-align: top;\n",
       "    }\n",
       "\n",
       "    .dataframe thead th {\n",
       "        text-align: right;\n",
       "    }\n",
       "</style>\n",
       "<table border=\"1\" class=\"dataframe\">\n",
       "  <thead>\n",
       "    <tr style=\"text-align: right;\">\n",
       "      <th></th>\n",
       "      <th>Id</th>\n",
       "      <th>Title</th>\n",
       "      <th>Location</th>\n",
       "      <th>Company</th>\n",
       "      <th>Category</th>\n",
       "      <th>Salary</th>\n",
       "      <th>OpenDate</th>\n",
       "      <th>CloseDate</th>\n",
       "      <th>ContractTime</th>\n",
       "      <th>SourceName</th>\n",
       "      <th>ContractType</th>\n",
       "      <th>violated</th>\n",
       "    </tr>\n",
       "  </thead>\n",
       "  <tbody>\n",
       "  </tbody>\n",
       "</table>\n",
       "</div>"
      ],
      "text/plain": [
       "Empty DataFrame\n",
       "Columns: [Id, Title, Location, Company, Category, Salary, OpenDate, CloseDate, ContractTime, SourceName, ContractType, violated]\n",
       "Index: []"
      ]
     },
     "execution_count": 122,
     "metadata": {},
     "output_type": "execute_result"
    }
   ],
   "source": [
    "#see if any days in OpenDate are greater than 31 that is the 7 and 8 digits\n",
    "df['violated'] = df.apply(lambda row:int(re.search(r'(\\d{4})(\\d{2})(\\d{2}).+',row['OpenDate']).group(3)) > 31  ,axis =1)\n",
    "df[df['violated']] # empty means no violation"
   ]
  },
  {
   "cell_type": "markdown",
   "metadata": {},
   "source": [
    "There is no day violation in 'OpenDate'. We will know check for any violation in 'CloseDate'"
   ]
  },
  {
   "cell_type": "code",
   "execution_count": 123,
   "metadata": {},
   "outputs": [
    {
     "data": {
      "text/html": [
       "<div>\n",
       "<style scoped>\n",
       "    .dataframe tbody tr th:only-of-type {\n",
       "        vertical-align: middle;\n",
       "    }\n",
       "\n",
       "    .dataframe tbody tr th {\n",
       "        vertical-align: top;\n",
       "    }\n",
       "\n",
       "    .dataframe thead th {\n",
       "        text-align: right;\n",
       "    }\n",
       "</style>\n",
       "<table border=\"1\" class=\"dataframe\">\n",
       "  <thead>\n",
       "    <tr style=\"text-align: right;\">\n",
       "      <th></th>\n",
       "      <th>Id</th>\n",
       "      <th>Title</th>\n",
       "      <th>Location</th>\n",
       "      <th>Company</th>\n",
       "      <th>Category</th>\n",
       "      <th>Salary</th>\n",
       "      <th>OpenDate</th>\n",
       "      <th>CloseDate</th>\n",
       "      <th>ContractTime</th>\n",
       "      <th>SourceName</th>\n",
       "      <th>ContractType</th>\n",
       "      <th>violated</th>\n",
       "    </tr>\n",
       "  </thead>\n",
       "  <tbody>\n",
       "  </tbody>\n",
       "</table>\n",
       "</div>"
      ],
      "text/plain": [
       "Empty DataFrame\n",
       "Columns: [Id, Title, Location, Company, Category, Salary, OpenDate, CloseDate, ContractTime, SourceName, ContractType, violated]\n",
       "Index: []"
      ]
     },
     "execution_count": 123,
     "metadata": {},
     "output_type": "execute_result"
    }
   ],
   "source": [
    "#see if any days in CloseDate are greater than 31\n",
    "df['violated'] = df.apply(lambda row:int(re.search(r'(\\d{4})(\\d{2})(\\d{2}).+',row['CloseDate']).group(3)) > 31  ,axis =1)\n",
    "df[df['violated']] # empty means no violation"
   ]
  },
  {
   "cell_type": "markdown",
   "metadata": {},
   "source": [
    "There is no day violation in 'CloseDate'"
   ]
  },
  {
   "cell_type": "markdown",
   "metadata": {},
   "source": [
    "### 2.5.3 - Date Integrity\n"
   ]
  },
  {
   "cell_type": "markdown",
   "metadata": {},
   "source": [
    "Here we check if the year in 'OpenDate' is greater than the year in 'CloseDate'. If it is we then check set the year in 'CloseDate' to the year in 'OpenDate' plus one."
   ]
  },
  {
   "cell_type": "code",
   "execution_count": 124,
   "metadata": {},
   "outputs": [
    {
     "data": {
      "text/html": [
       "<div>\n",
       "<style scoped>\n",
       "    .dataframe tbody tr th:only-of-type {\n",
       "        vertical-align: middle;\n",
       "    }\n",
       "\n",
       "    .dataframe tbody tr th {\n",
       "        vertical-align: top;\n",
       "    }\n",
       "\n",
       "    .dataframe thead th {\n",
       "        text-align: right;\n",
       "    }\n",
       "</style>\n",
       "<table border=\"1\" class=\"dataframe\">\n",
       "  <thead>\n",
       "    <tr style=\"text-align: right;\">\n",
       "      <th></th>\n",
       "      <th>Id</th>\n",
       "      <th>Title</th>\n",
       "      <th>Location</th>\n",
       "      <th>Company</th>\n",
       "      <th>Category</th>\n",
       "      <th>Salary</th>\n",
       "      <th>OpenDate</th>\n",
       "      <th>CloseDate</th>\n",
       "      <th>ContractTime</th>\n",
       "      <th>SourceName</th>\n",
       "      <th>ContractType</th>\n",
       "      <th>violated</th>\n",
       "    </tr>\n",
       "  </thead>\n",
       "  <tbody>\n",
       "  </tbody>\n",
       "</table>\n",
       "</div>"
      ],
      "text/plain": [
       "Empty DataFrame\n",
       "Columns: [Id, Title, Location, Company, Category, Salary, OpenDate, CloseDate, ContractTime, SourceName, ContractType, violated]\n",
       "Index: []"
      ]
     },
     "execution_count": 124,
     "metadata": {},
     "output_type": "execute_result"
    }
   ],
   "source": [
    "#check to see if year in opendate is greater than the year in closedate\n",
    "df['violated'] = df.apply(lambda row: int(re.search(r'(\\d{4}).+',row['OpenDate']).group(1)) > int(re.search(r'(\\d{4}).+',row['CloseDate']).group(1)) ,axis =1)\n",
    "df[df['violated']]#empty df means no violation\n"
   ]
  },
  {
   "cell_type": "markdown",
   "metadata": {},
   "source": [
    "From the df there is no year violation. This also assumes that there wont be any month or day violation as well."
   ]
  },
  {
   "cell_type": "code",
   "execution_count": 125,
   "metadata": {},
   "outputs": [],
   "source": [
    "del df['violated'] # delete the violation column that we used for testing"
   ]
  },
  {
   "cell_type": "markdown",
   "metadata": {},
   "source": [
    "## 2.6 Converting to appropriate datatypes"
   ]
  },
  {
   "cell_type": "markdown",
   "metadata": {},
   "source": [
    "Here we convert the data type of each column to their appropriate data type as of right now they are all objects"
   ]
  },
  {
   "cell_type": "code",
   "execution_count": 126,
   "metadata": {},
   "outputs": [
    {
     "data": {
      "text/html": [
       "<div>\n",
       "<style scoped>\n",
       "    .dataframe tbody tr th:only-of-type {\n",
       "        vertical-align: middle;\n",
       "    }\n",
       "\n",
       "    .dataframe tbody tr th {\n",
       "        vertical-align: top;\n",
       "    }\n",
       "\n",
       "    .dataframe thead th {\n",
       "        text-align: right;\n",
       "    }\n",
       "</style>\n",
       "<table border=\"1\" class=\"dataframe\">\n",
       "  <thead>\n",
       "    <tr style=\"text-align: right;\">\n",
       "      <th></th>\n",
       "      <th>Id</th>\n",
       "      <th>Title</th>\n",
       "      <th>Location</th>\n",
       "      <th>Company</th>\n",
       "      <th>Category</th>\n",
       "      <th>Salary</th>\n",
       "      <th>OpenDate</th>\n",
       "      <th>CloseDate</th>\n",
       "      <th>ContractTime</th>\n",
       "      <th>SourceName</th>\n",
       "      <th>ContractType</th>\n",
       "    </tr>\n",
       "  </thead>\n",
       "  <tbody>\n",
       "    <tr>\n",
       "      <th>0</th>\n",
       "      <td>69249311</td>\n",
       "      <td>Development Management Team Manager</td>\n",
       "      <td>North West England</td>\n",
       "      <td>Matchtech Group plc.</td>\n",
       "      <td>Engineering Jobs</td>\n",
       "      <td>41000</td>\n",
       "      <td>2013-11-18 12:00:00</td>\n",
       "      <td>2014-01-17 12:00:00</td>\n",
       "      <td>non-specific</td>\n",
       "      <td>rengineeringjobs.com</td>\n",
       "      <td>non-specific</td>\n",
       "    </tr>\n",
       "    <tr>\n",
       "      <th>1</th>\n",
       "      <td>70676070</td>\n",
       "      <td>Senior Civil Infrastructure Engineer</td>\n",
       "      <td>Basingstoke</td>\n",
       "      <td>Matchtech Group plc.</td>\n",
       "      <td>Engineering Jobs</td>\n",
       "      <td>32000</td>\n",
       "      <td>2013-06-02 15:00:00</td>\n",
       "      <td>2013-06-16 15:00:00</td>\n",
       "      <td>non-specific</td>\n",
       "      <td>rengineeringjobs.com</td>\n",
       "      <td>non-specific</td>\n",
       "    </tr>\n",
       "    <tr>\n",
       "      <th>2</th>\n",
       "      <td>68805528</td>\n",
       "      <td>Highway Technician</td>\n",
       "      <td>Uk</td>\n",
       "      <td>Matchtech Group plc.</td>\n",
       "      <td>Engineering Jobs</td>\n",
       "      <td>19500</td>\n",
       "      <td>2012-12-24 15:00:00</td>\n",
       "      <td>2013-01-23 15:00:00</td>\n",
       "      <td>non-specific</td>\n",
       "      <td>rengineeringjobs.com</td>\n",
       "      <td>non-specific</td>\n",
       "    </tr>\n",
       "    <tr>\n",
       "      <th>3</th>\n",
       "      <td>71684871</td>\n",
       "      <td>Combustion Engineer Surrey And London upto ****k</td>\n",
       "      <td>London</td>\n",
       "      <td>Randstad</td>\n",
       "      <td>Engineering Jobs</td>\n",
       "      <td>33500</td>\n",
       "      <td>2012-10-19 12:00:00</td>\n",
       "      <td>2013-01-17 12:00:00</td>\n",
       "      <td>permanent</td>\n",
       "      <td>rengineeringjobs.com</td>\n",
       "      <td>non-specific</td>\n",
       "    </tr>\n",
       "    <tr>\n",
       "      <th>4</th>\n",
       "      <td>67944676</td>\n",
       "      <td>Automation Service Manager</td>\n",
       "      <td>Stockton-On-Tees</td>\n",
       "      <td>Matchtech Group plc.</td>\n",
       "      <td>Engineering Jobs</td>\n",
       "      <td>45000</td>\n",
       "      <td>2012-05-03 12:00:00</td>\n",
       "      <td>2012-05-17 12:00:00</td>\n",
       "      <td>non-specific</td>\n",
       "      <td>rengineeringjobs.com</td>\n",
       "      <td>non-specific</td>\n",
       "    </tr>\n",
       "  </tbody>\n",
       "</table>\n",
       "</div>"
      ],
      "text/plain": [
       "         Id                                             Title  \\\n",
       "0  69249311               Development Management Team Manager   \n",
       "1  70676070              Senior Civil Infrastructure Engineer   \n",
       "2  68805528                                Highway Technician   \n",
       "3  71684871  Combustion Engineer Surrey And London upto ****k   \n",
       "4  67944676                        Automation Service Manager   \n",
       "\n",
       "             Location               Company          Category Salary  \\\n",
       "0  North West England  Matchtech Group plc.  Engineering Jobs  41000   \n",
       "1         Basingstoke  Matchtech Group plc.  Engineering Jobs  32000   \n",
       "2                  Uk  Matchtech Group plc.  Engineering Jobs  19500   \n",
       "3              London              Randstad  Engineering Jobs  33500   \n",
       "4    Stockton-On-Tees  Matchtech Group plc.  Engineering Jobs  45000   \n",
       "\n",
       "             OpenDate           CloseDate  ContractTime            SourceName  \\\n",
       "0 2013-11-18 12:00:00 2014-01-17 12:00:00  non-specific  rengineeringjobs.com   \n",
       "1 2013-06-02 15:00:00 2013-06-16 15:00:00  non-specific  rengineeringjobs.com   \n",
       "2 2012-12-24 15:00:00 2013-01-23 15:00:00  non-specific  rengineeringjobs.com   \n",
       "3 2012-10-19 12:00:00 2013-01-17 12:00:00     permanent  rengineeringjobs.com   \n",
       "4 2012-05-03 12:00:00 2012-05-17 12:00:00  non-specific  rengineeringjobs.com   \n",
       "\n",
       "   ContractType  \n",
       "0  non-specific  \n",
       "1  non-specific  \n",
       "2  non-specific  \n",
       "3  non-specific  \n",
       "4  non-specific  "
      ]
     },
     "execution_count": 126,
     "metadata": {},
     "output_type": "execute_result"
    }
   ],
   "source": [
    "#convert to open date and close date to datime data type\n",
    "df['OpenDate'] = pd.to_datetime(df['OpenDate'], format = '%Y%m%dT%H%M%S')\n",
    "df['CloseDate'] = pd.to_datetime(df['CloseDate'], format = '%Y%m%dT%H%M%S')\n",
    "updateErlist('ALL','ALL','OpenDate,CloseDate','object datatype', 'datetime datatype','datatype issue', 'use datetime function')\n",
    "df.head()"
   ]
  },
  {
   "cell_type": "code",
   "execution_count": 127,
   "metadata": {},
   "outputs": [],
   "source": [
    "#convert Salary object datatype to float datatype\n",
    "df['Salary'] = pd.to_numeric(df['Salary'])"
   ]
  },
  {
   "cell_type": "code",
   "execution_count": 128,
   "metadata": {},
   "outputs": [
    {
     "name": "stdout",
     "output_type": "stream",
     "text": [
      "<class 'pandas.core.frame.DataFrame'>\n",
      "RangeIndex: 50703 entries, 0 to 50702\n",
      "Data columns (total 11 columns):\n",
      " #   Column        Non-Null Count  Dtype         \n",
      "---  ------        --------------  -----         \n",
      " 0   Id            50703 non-null  int64         \n",
      " 1   Title         50703 non-null  object        \n",
      " 2   Location      50703 non-null  object        \n",
      " 3   Company       50703 non-null  object        \n",
      " 4   Category      50703 non-null  object        \n",
      " 5   Salary        50703 non-null  float64       \n",
      " 6   OpenDate      50703 non-null  datetime64[ns]\n",
      " 7   CloseDate     50703 non-null  datetime64[ns]\n",
      " 8   ContractTime  50703 non-null  object        \n",
      " 9   SourceName    50703 non-null  object        \n",
      " 10  ContractType  50703 non-null  object        \n",
      "dtypes: datetime64[ns](2), float64(1), int64(1), object(7)\n",
      "memory usage: 4.3+ MB\n"
     ]
    }
   ],
   "source": [
    "#convert Id object datatype to int datatype\n",
    "df['Id'] = pd.to_numeric(df['Id'])\n",
    "df.info()"
   ]
  },
  {
   "cell_type": "code",
   "execution_count": 129,
   "metadata": {},
   "outputs": [
    {
     "data": {
      "text/plain": [
       "Id                       int64\n",
       "Title                   object\n",
       "Location                object\n",
       "Company                 object\n",
       "Category                object\n",
       "Salary                 float64\n",
       "OpenDate        datetime64[ns]\n",
       "CloseDate       datetime64[ns]\n",
       "ContractTime            object\n",
       "SourceName              object\n",
       "ContractType            object\n",
       "dtype: object"
      ]
     },
     "execution_count": 129,
     "metadata": {},
     "output_type": "execute_result"
    }
   ],
   "source": [
    "#convert all columns below to string\n",
    "df[['Title','Location','Company','Category','ContractTime','SourceName','ContractType']] = df[['Title','Location','Company','Category','ContractTime','SourceName','ContractType']].astype(str)\n",
    "df.dtypes"
   ]
  },
  {
   "cell_type": "markdown",
   "metadata": {},
   "source": [
    "## Saving data\n",
    "Save the parsed and cleaned data as well as the error list, named as:\n",
    "- \\<student\\_id\\>_dataset1_solution.csv\n",
    "- \\<student\\_id\\>_errorlist.csv"
   ]
  },
  {
   "cell_type": "code",
   "execution_count": 130,
   "metadata": {},
   "outputs": [
    {
     "name": "stdout",
     "output_type": "stream",
     "text": [
      "(50703, 11)\n",
      "(60076, 7)\n"
     ]
    }
   ],
   "source": [
    "# code to save output data\n",
    "print(df.shape)\n",
    "print(errlist.shape)"
   ]
  },
  {
   "cell_type": "code",
   "execution_count": 131,
   "metadata": {},
   "outputs": [
    {
     "data": {
      "text/html": [
       "<div>\n",
       "<style scoped>\n",
       "    .dataframe tbody tr th:only-of-type {\n",
       "        vertical-align: middle;\n",
       "    }\n",
       "\n",
       "    .dataframe tbody tr th {\n",
       "        vertical-align: top;\n",
       "    }\n",
       "\n",
       "    .dataframe thead th {\n",
       "        text-align: right;\n",
       "    }\n",
       "</style>\n",
       "<table border=\"1\" class=\"dataframe\">\n",
       "  <thead>\n",
       "    <tr style=\"text-align: right;\">\n",
       "      <th></th>\n",
       "      <th>Id</th>\n",
       "      <th>Title</th>\n",
       "      <th>Location</th>\n",
       "      <th>Company</th>\n",
       "      <th>Category</th>\n",
       "      <th>Salary</th>\n",
       "      <th>OpenDate</th>\n",
       "      <th>CloseDate</th>\n",
       "      <th>ContractTime</th>\n",
       "      <th>SourceName</th>\n",
       "      <th>ContractType</th>\n",
       "    </tr>\n",
       "  </thead>\n",
       "  <tbody>\n",
       "    <tr>\n",
       "      <th>0</th>\n",
       "      <td>69249311</td>\n",
       "      <td>Development Management Team Manager</td>\n",
       "      <td>North West England</td>\n",
       "      <td>Matchtech Group plc.</td>\n",
       "      <td>Engineering Jobs</td>\n",
       "      <td>41000.0</td>\n",
       "      <td>2013-11-18 12:00:00</td>\n",
       "      <td>2014-01-17 12:00:00</td>\n",
       "      <td>non-specific</td>\n",
       "      <td>rengineeringjobs.com</td>\n",
       "      <td>non-specific</td>\n",
       "    </tr>\n",
       "    <tr>\n",
       "      <th>1</th>\n",
       "      <td>70676070</td>\n",
       "      <td>Senior Civil Infrastructure Engineer</td>\n",
       "      <td>Basingstoke</td>\n",
       "      <td>Matchtech Group plc.</td>\n",
       "      <td>Engineering Jobs</td>\n",
       "      <td>32000.0</td>\n",
       "      <td>2013-06-02 15:00:00</td>\n",
       "      <td>2013-06-16 15:00:00</td>\n",
       "      <td>non-specific</td>\n",
       "      <td>rengineeringjobs.com</td>\n",
       "      <td>non-specific</td>\n",
       "    </tr>\n",
       "    <tr>\n",
       "      <th>2</th>\n",
       "      <td>68805528</td>\n",
       "      <td>Highway Technician</td>\n",
       "      <td>Uk</td>\n",
       "      <td>Matchtech Group plc.</td>\n",
       "      <td>Engineering Jobs</td>\n",
       "      <td>19500.0</td>\n",
       "      <td>2012-12-24 15:00:00</td>\n",
       "      <td>2013-01-23 15:00:00</td>\n",
       "      <td>non-specific</td>\n",
       "      <td>rengineeringjobs.com</td>\n",
       "      <td>non-specific</td>\n",
       "    </tr>\n",
       "    <tr>\n",
       "      <th>3</th>\n",
       "      <td>71684871</td>\n",
       "      <td>Combustion Engineer Surrey And London upto ****k</td>\n",
       "      <td>London</td>\n",
       "      <td>Randstad</td>\n",
       "      <td>Engineering Jobs</td>\n",
       "      <td>33500.0</td>\n",
       "      <td>2012-10-19 12:00:00</td>\n",
       "      <td>2013-01-17 12:00:00</td>\n",
       "      <td>permanent</td>\n",
       "      <td>rengineeringjobs.com</td>\n",
       "      <td>non-specific</td>\n",
       "    </tr>\n",
       "    <tr>\n",
       "      <th>4</th>\n",
       "      <td>67944676</td>\n",
       "      <td>Automation Service Manager</td>\n",
       "      <td>Stockton-On-Tees</td>\n",
       "      <td>Matchtech Group plc.</td>\n",
       "      <td>Engineering Jobs</td>\n",
       "      <td>45000.0</td>\n",
       "      <td>2012-05-03 12:00:00</td>\n",
       "      <td>2012-05-17 12:00:00</td>\n",
       "      <td>non-specific</td>\n",
       "      <td>rengineeringjobs.com</td>\n",
       "      <td>non-specific</td>\n",
       "    </tr>\n",
       "  </tbody>\n",
       "</table>\n",
       "</div>"
      ],
      "text/plain": [
       "         Id                                             Title  \\\n",
       "0  69249311               Development Management Team Manager   \n",
       "1  70676070              Senior Civil Infrastructure Engineer   \n",
       "2  68805528                                Highway Technician   \n",
       "3  71684871  Combustion Engineer Surrey And London upto ****k   \n",
       "4  67944676                        Automation Service Manager   \n",
       "\n",
       "             Location               Company          Category   Salary  \\\n",
       "0  North West England  Matchtech Group plc.  Engineering Jobs  41000.0   \n",
       "1         Basingstoke  Matchtech Group plc.  Engineering Jobs  32000.0   \n",
       "2                  Uk  Matchtech Group plc.  Engineering Jobs  19500.0   \n",
       "3              London              Randstad  Engineering Jobs  33500.0   \n",
       "4    Stockton-On-Tees  Matchtech Group plc.  Engineering Jobs  45000.0   \n",
       "\n",
       "             OpenDate           CloseDate  ContractTime            SourceName  \\\n",
       "0 2013-11-18 12:00:00 2014-01-17 12:00:00  non-specific  rengineeringjobs.com   \n",
       "1 2013-06-02 15:00:00 2013-06-16 15:00:00  non-specific  rengineeringjobs.com   \n",
       "2 2012-12-24 15:00:00 2013-01-23 15:00:00  non-specific  rengineeringjobs.com   \n",
       "3 2012-10-19 12:00:00 2013-01-17 12:00:00     permanent  rengineeringjobs.com   \n",
       "4 2012-05-03 12:00:00 2012-05-17 12:00:00  non-specific  rengineeringjobs.com   \n",
       "\n",
       "   ContractType  \n",
       "0  non-specific  \n",
       "1  non-specific  \n",
       "2  non-specific  \n",
       "3  non-specific  \n",
       "4  non-specific  "
      ]
     },
     "execution_count": 131,
     "metadata": {},
     "output_type": "execute_result"
    }
   ],
   "source": [
    "df.head()"
   ]
  },
  {
   "cell_type": "code",
   "execution_count": 132,
   "metadata": {},
   "outputs": [],
   "source": [
    "df.to_csv('s3783560_dataset1_solution.csv',index = False)\n",
    "errlist.to_csv('s3783560_errorlist.csv',index = False)"
   ]
  },
  {
   "cell_type": "markdown",
   "metadata": {},
   "source": [
    "## Summary\n",
    "Give a short summary and anything you would like to talk about the assessment here."
   ]
  },
  {
   "cell_type": "markdown",
   "metadata": {},
   "source": [
    "In this notebook, we first extract the data from the xml file. First we extract the attributes of the \"Position\" tag which contained the \"OpenDate\" and \"CloseDate\". Next we extract the Positions children - \"Id\", \"Title\", \"Location\", \"Company\", \"Category\" , \"Salary\", \"ContractTime\", \"ContractType\". While extract the children we append 'None' if the current row did not contain any of the elements above. Finally we extract the source name which we repeated for number of times corresponding to how many position elements there were in the Source tag.\n",
    "\n",
    "Cleaning the data, took most of the bulk, where there were data inconsistency, irregaularties and missing data in general. These were dealt with appropriately, using various methods such as utilising regex and imputating values with different functions. There were also integrity contraint errors which we also handled appropriately.\n",
    "\n",
    "Finally we ensured that all data types where correct before saving and extracting and clean dataset. A seperately csv was also saved and extract which recorded all the errors and how we handled them."
   ]
  },
  {
   "cell_type": "code",
   "execution_count": null,
   "metadata": {},
   "outputs": [],
   "source": []
  }
 ],
 "metadata": {
  "kernelspec": {
   "display_name": "Python 3 (ipykernel)",
   "language": "python",
   "name": "python3"
  },
  "language_info": {
   "codemirror_mode": {
    "name": "ipython",
    "version": 3
   },
   "file_extension": ".py",
   "mimetype": "text/x-python",
   "name": "python",
   "nbconvert_exporter": "python",
   "pygments_lexer": "ipython3",
   "version": "3.12.9"
  }
 },
 "nbformat": 4,
 "nbformat_minor": 4
}
